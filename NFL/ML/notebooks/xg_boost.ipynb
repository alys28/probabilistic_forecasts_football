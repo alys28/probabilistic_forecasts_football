{
 "cells": [
  {
   "cell_type": "code",
   "execution_count": 1,
   "metadata": {},
   "outputs": [],
   "source": [
    "import pandas as pd\n",
    "import numpy as np\n",
    "import matplotlib.pyplot as plt\n",
    "import sys\n",
    "import os\n",
    "import process_data"
   ]
  },
  {
   "cell_type": "code",
   "execution_count": 2,
   "metadata": {},
   "outputs": [],
   "source": [
    "parent_dir = os.path.abspath(os.path.join(os.getcwd(), \"..\"))\n",
    "sys.path.append(parent_dir)"
   ]
  },
  {
   "cell_type": "code",
   "execution_count": 22,
   "metadata": {},
   "outputs": [
    {
     "name": "stdout",
     "output_type": "stream",
     "text": [
      "/Users/aly/Documents/University_of_Waterloo/Winter 2025/Research/code/NFL/ML\n"
     ]
    }
   ],
   "source": [
    "import pandas as pd\n",
    "import numpy as np\n",
    "import matplotlib.pyplot as plt\n",
    "import sys\n",
    "import os\n",
    "import process_data\n",
    "\n",
    "parent_dir = os.path.abspath(os.path.join(os.getcwd(), \"..\"))\n",
    "sys.path.append(parent_dir)\n",
    "print(parent_dir)\n",
    "interpolated_dir = os.path.join(parent_dir, \"dataset_interpolated_fixed\")\n",
    "features = [\"game_completed\", \"relative_strength\", \"score_difference\", \"type.id\", \"home_has_possession\", \"end.down\", \"end.yardsToEndzone\", \"end.distance\", \"field_position_shift\", \"home_timeouts_left\", \"away_timeouts_left\"]"
   ]
  },
  {
   "cell_type": "code",
   "execution_count": 26,
   "metadata": {},
   "outputs": [
    {
     "name": "stdout",
     "output_type": "stream",
     "text": [
      "Loading data for 2022\n",
      "  Processing 271 CSV files in parallel with 8 workers...\n",
      "  Completed processing 2022\n",
      "Loading data for 2024\n",
      "skipping  2024\n",
      "Loading data for 2023\n",
      "skipping  2023\n",
      "Loading data for .DS_Store\n",
      "Loading data for 2017\n",
      "skipping  2017\n",
      "Loading data for 2019\n",
      "  Processing 256 CSV files in parallel with 8 workers...\n",
      "  NaN found in file: /Users/aly/Documents/University_of_Waterloo/Winter 2025/Research/code/NFL/ML/dataset_interpolated_fixed/2019/game_401127989.csv\n",
      "  NaN found in file: /Users/aly/Documents/University_of_Waterloo/Winter 2025/Research/code/NFL/ML/dataset_interpolated_fixed/2019/game_401127963.csv\n",
      "  NaN found in file: /Users/aly/Documents/University_of_Waterloo/Winter 2025/Research/code/NFL/ML/dataset_interpolated_fixed/2019/game_401127963.csv\n",
      "  Completed processing 2019\n",
      "Loading data for 2021\n",
      "  Processing 272 CSV files in parallel with 8 workers...\n",
      "  NaN found in file: /Users/aly/Documents/University_of_Waterloo/Winter 2025/Research/code/NFL/ML/dataset_interpolated_fixed/2021/game_401326405.csv\n",
      "  NaN found in file: /Users/aly/Documents/University_of_Waterloo/Winter 2025/Research/code/NFL/ML/dataset_interpolated_fixed/2021/game_401326412.csv\n",
      "  NaN found in file: /Users/aly/Documents/University_of_Waterloo/Winter 2025/Research/code/NFL/ML/dataset_interpolated_fixed/2021/game_401326412.csv\n",
      "  Completed processing 2021\n",
      "Loading data for 2020\n",
      "  Processing 255 CSV files in parallel with 8 workers...\n",
      "  NaN found in file: /Users/aly/Documents/University_of_Waterloo/Winter 2025/Research/code/NFL/ML/dataset_interpolated_fixed/2020/game_401220254.csv\n",
      "  NaN found in file: /Users/aly/Documents/University_of_Waterloo/Winter 2025/Research/code/NFL/ML/dataset_interpolated_fixed/2020/game_401220161.csv\n",
      "  NaN found in file: /Users/aly/Documents/University_of_Waterloo/Winter 2025/Research/code/NFL/ML/dataset_interpolated_fixed/2020/game_401220161.csv\n",
      "  Completed processing 2020\n",
      "Loading data for 2018\n",
      "  Processing 255 CSV files in parallel with 8 workers...\n",
      "  NaN found in file: /Users/aly/Documents/University_of_Waterloo/Winter 2025/Research/code/NFL/ML/dataset_interpolated_fixed/2018/game_401030954.csv\n",
      "  NaN found in file: /Users/aly/Documents/University_of_Waterloo/Winter 2025/Research/code/NFL/ML/dataset_interpolated_fixed/2018/game_401030954.csv\n",
      "  NaN found in file: /Users/aly/Documents/University_of_Waterloo/Winter 2025/Research/code/NFL/ML/dataset_interpolated_fixed/2018/game_401030954.csv\n",
      "  NaN found in file: /Users/aly/Documents/University_of_Waterloo/Winter 2025/Research/code/NFL/ML/dataset_interpolated_fixed/2018/game_401030831.csv\n",
      "  NaN found in file: /Users/aly/Documents/University_of_Waterloo/Winter 2025/Research/code/NFL/ML/dataset_interpolated_fixed/2018/game_401030831.csv\n",
      "  NaN found in file: /Users/aly/Documents/University_of_Waterloo/Winter 2025/Research/code/NFL/ML/dataset_interpolated_fixed/2018/game_401030856.csv\n",
      "  NaN found in file: /Users/aly/Documents/University_of_Waterloo/Winter 2025/Research/code/NFL/ML/dataset_interpolated_fixed/2018/game_401030931.csv\n",
      "  Completed processing 2018\n",
      "Loading data for 2016\n",
      "skipping  2016\n",
      "Loading data for 2022\n",
      "skipping  2022\n",
      "Loading data for 2024\n",
      "skipping  2024\n",
      "Loading data for 2023\n",
      "  Processing 272 CSV files in parallel with 8 workers...\n",
      "  Completed processing 2023\n",
      "Loading data for .DS_Store\n",
      "Loading data for 2017\n",
      "skipping  2017\n",
      "Loading data for 2019\n",
      "skipping  2019\n",
      "Loading data for 2021\n",
      "skipping  2021\n",
      "Loading data for 2020\n",
      "skipping  2020\n",
      "Loading data for 2018\n",
      "skipping  2018\n",
      "Loading data for 2016\n",
      "skipping  2016\n",
      "Loading data for 2022\n",
      "skipping  2022\n",
      "Loading data for 2024\n",
      "  Processing 272 CSV files in parallel with 8 workers...\n",
      "  NaN found in file: /Users/aly/Documents/University_of_Waterloo/Winter 2025/Research/code/NFL/ML/dataset_interpolated_fixed/2024/game_401671770.csv\n",
      "  Completed processing 2024\n",
      "Loading data for 2023\n",
      "skipping  2023\n",
      "Loading data for .DS_Store\n",
      "Loading data for 2017\n",
      "skipping  2017\n",
      "Loading data for 2019\n",
      "skipping  2019\n",
      "Loading data for 2021\n",
      "skipping  2021\n",
      "Loading data for 2020\n",
      "skipping  2020\n",
      "Loading data for 2018\n",
      "skipping  2018\n",
      "Loading data for 2016\n",
      "skipping  2016\n"
     ]
    }
   ],
   "source": [
    "modules_to_reload = [\n",
    "    'process_data',\n",
    "]\n",
    "\n",
    "for module_name in modules_to_reload:\n",
    "    if module_name in sys.modules:\n",
    "        del sys.modules[module_name]\n",
    "import process_data\n",
    "\n",
    "training_data = process_data.load_data(interpolated_dir, \n",
    "                                       years = [2018, 2019, 2020, 2021, 2022], \n",
    "                                       history_length = 0, \n",
    "                                       features = features, \n",
    "                                       label_feature = \"home_win\"\n",
    "                                       )\n",
    "\n",
    "validation_data = process_data.load_data(interpolated_dir, \n",
    "                                       years = [2023], \n",
    "                                       history_length = 0, \n",
    "                                       features = features, \n",
    "                                       label_feature = \"home_win\",\n",
    "                                       train = True\n",
    "                                       )\n",
    "\n",
    "test_data = process_data.load_data(interpolated_dir, \n",
    "                                       years = [2024],\n",
    "                                       history_length = 0, \n",
    "                                       features = features, \n",
    "                                       label_feature = \"home_win\",\n",
    "                                       train = False\n",
    "                                       )"
   ]
  },
  {
   "cell_type": "code",
   "execution_count": 27,
   "metadata": {},
   "outputs": [
    {
     "data": {
      "text/plain": [
       "dict_keys([0.0, 0.005, 0.01, 0.015, 0.02, 0.025, 0.03, 0.035, 0.04, 0.045, 0.05, 0.055, 0.06, 0.065, 0.07, 0.075, 0.08, 0.085, 0.09, 0.095, 0.1, 0.105, 0.11, 0.115, 0.12, 0.125, 0.13, 0.135, 0.14, 0.145, 0.15, 0.155, 0.16, 0.165, 0.17, 0.175, 0.18, 0.185, 0.19, 0.195, 0.2, 0.205, 0.21, 0.215, 0.22, 0.225, 0.23, 0.235, 0.24, 0.245, 0.25, 0.255, 0.26, 0.265, 0.27, 0.275, 0.28, 0.285, 0.29, 0.295, 0.3, 0.305, 0.31, 0.315, 0.32, 0.325, 0.33, 0.335, 0.34, 0.345, 0.35, 0.355, 0.36, 0.365, 0.37, 0.375, 0.38, 0.385, 0.39, 0.395, 0.4, 0.405, 0.41, 0.415, 0.42, 0.425, 0.43, 0.435, 0.44, 0.445, 0.45, 0.455, 0.46, 0.465, 0.47, 0.475, 0.48, 0.485, 0.49, 0.495, 0.5, 0.505, 0.51, 0.515, 0.52, 0.525, 0.53, 0.535, 0.54, 0.545, 0.55, 0.555, 0.56, 0.565, 0.57, 0.575, 0.58, 0.585, 0.59, 0.595, 0.6, 0.605, 0.61, 0.615, 0.62, 0.625, 0.63, 0.635, 0.64, 0.645, 0.65, 0.655, 0.66, 0.665, 0.67, 0.675, 0.68, 0.685, 0.69, 0.695, 0.7, 0.705, 0.71, 0.715, 0.72, 0.725, 0.73, 0.735, 0.74, 0.745, 0.75, 0.755, 0.76, 0.765, 0.77, 0.775, 0.78, 0.785, 0.79, 0.795, 0.8, 0.805, 0.81, 0.815, 0.82, 0.825, 0.83, 0.835, 0.84, 0.845, 0.85, 0.855, 0.86, 0.865, 0.87, 0.875, 0.88, 0.885, 0.89, 0.895, 0.9, 0.905, 0.91, 0.915, 0.92, 0.925, 0.93, 0.935, 0.94, 0.945, 0.95, 0.955, 0.96, 0.965, 0.97, 0.975, 0.98, 0.985, 0.99, 0.995, 1.0])"
      ]
     },
     "execution_count": 27,
     "metadata": {},
     "output_type": "execute_result"
    }
   ],
   "source": [
    "training_data.keys()"
   ]
  },
  {
   "cell_type": "code",
   "execution_count": 28,
   "metadata": {},
   "outputs": [
    {
     "name": "stderr",
     "output_type": "stream",
     "text": [
      "Best trial: 48. Best value: 0.224598: 100%|██████████| 50/50 [00:12<00:00,  3.89it/s]\n"
     ]
    },
    {
     "name": "stdout",
     "output_type": "stream",
     "text": [
      "Timestep 0.00% (Optimized): Training Loss = 0.2056, Accuracy = 0.6492, Validation Loss = 0.2137, Validation Accuracy = 0.6540\n"
     ]
    },
    {
     "name": "stderr",
     "output_type": "stream",
     "text": [
      "Best trial: 29. Best value: 0.245192: 100%|██████████| 50/50 [00:04<00:00, 11.70it/s]\n"
     ]
    },
    {
     "name": "stdout",
     "output_type": "stream",
     "text": [
      "Timestep 0.50% (Optimized): Training Loss = 0.2187, Accuracy = 0.6270, Validation Loss = 0.2236, Validation Accuracy = 0.6290\n"
     ]
    },
    {
     "name": "stderr",
     "output_type": "stream",
     "text": [
      "Best trial: 47. Best value: 0.227322: 100%|██████████| 50/50 [00:22<00:00,  2.21it/s]\n"
     ]
    },
    {
     "name": "stdout",
     "output_type": "stream",
     "text": [
      "Timestep 1.00% (Optimized): Training Loss = 0.2046, Accuracy = 0.6835, Validation Loss = 0.2140, Validation Accuracy = 0.6544\n"
     ]
    },
    {
     "name": "stderr",
     "output_type": "stream",
     "text": [
      "Best trial: 23. Best value: 0.229864: 100%|██████████| 50/50 [00:05<00:00,  8.38it/s]\n"
     ]
    },
    {
     "name": "stdout",
     "output_type": "stream",
     "text": [
      "Timestep 1.50% (Optimized): Training Loss = 0.2244, Accuracy = 0.6243, Validation Loss = 0.2204, Validation Accuracy = 0.6424\n"
     ]
    },
    {
     "name": "stderr",
     "output_type": "stream",
     "text": [
      "Best trial: 37. Best value: 0.24339: 100%|██████████| 50/50 [00:04<00:00, 10.06it/s] \n"
     ]
    },
    {
     "name": "stdout",
     "output_type": "stream",
     "text": [
      "Timestep 2.00% (Optimized): Training Loss = 0.2222, Accuracy = 0.6312, Validation Loss = 0.2380, Validation Accuracy = 0.5848\n"
     ]
    },
    {
     "name": "stderr",
     "output_type": "stream",
     "text": [
      "Best trial: 13. Best value: 0.22196: 100%|██████████| 50/50 [00:20<00:00,  2.47it/s]\n"
     ]
    },
    {
     "name": "stdout",
     "output_type": "stream",
     "text": [
      "Timestep 2.50% (Optimized): Training Loss = 0.2199, Accuracy = 0.6292, Validation Loss = 0.2117, Validation Accuracy = 0.6456\n"
     ]
    },
    {
     "name": "stderr",
     "output_type": "stream",
     "text": [
      "Best trial: 14. Best value: 0.224286: 100%|██████████| 50/50 [00:17<00:00,  2.91it/s]\n"
     ]
    },
    {
     "name": "stdout",
     "output_type": "stream",
     "text": [
      "Timestep 3.00% (Optimized): Training Loss = 0.2092, Accuracy = 0.6489, Validation Loss = 0.2107, Validation Accuracy = 0.6438\n"
     ]
    },
    {
     "name": "stderr",
     "output_type": "stream",
     "text": [
      "Best trial: 32. Best value: 0.239238: 100%|██████████| 50/50 [00:10<00:00,  4.91it/s]\n"
     ]
    },
    {
     "name": "stdout",
     "output_type": "stream",
     "text": [
      "Timestep 3.50% (Optimized): Training Loss = 0.2180, Accuracy = 0.6489, Validation Loss = 0.2270, Validation Accuracy = 0.6220\n"
     ]
    },
    {
     "name": "stderr",
     "output_type": "stream",
     "text": [
      "Best trial: 46. Best value: 0.237606: 100%|██████████| 50/50 [00:09<00:00,  5.15it/s]\n"
     ]
    },
    {
     "name": "stdout",
     "output_type": "stream",
     "text": [
      "Timestep 4.00% (Optimized): Training Loss = 0.2177, Accuracy = 0.6124, Validation Loss = 0.2263, Validation Accuracy = 0.6184\n"
     ]
    },
    {
     "name": "stderr",
     "output_type": "stream",
     "text": [
      "Best trial: 43. Best value: 0.228541: 100%|██████████| 50/50 [00:08<00:00,  6.11it/s]\n"
     ]
    },
    {
     "name": "stdout",
     "output_type": "stream",
     "text": [
      "Timestep 4.50% (Optimized): Training Loss = 0.2189, Accuracy = 0.6542, Validation Loss = 0.2152, Validation Accuracy = 0.6462\n"
     ]
    },
    {
     "name": "stderr",
     "output_type": "stream",
     "text": [
      "Best trial: 32. Best value: 0.228288: 100%|██████████| 50/50 [00:09<00:00,  5.43it/s]\n"
     ]
    },
    {
     "name": "stdout",
     "output_type": "stream",
     "text": [
      "Timestep 5.00% (Optimized): Training Loss = 0.2185, Accuracy = 0.6574, Validation Loss = 0.2178, Validation Accuracy = 0.6598\n"
     ]
    },
    {
     "name": "stderr",
     "output_type": "stream",
     "text": [
      "Best trial: 17. Best value: 0.222053: 100%|██████████| 50/50 [00:08<00:00,  5.59it/s]\n"
     ]
    },
    {
     "name": "stdout",
     "output_type": "stream",
     "text": [
      "Timestep 5.50% (Optimized): Training Loss = 0.2029, Accuracy = 0.6635, Validation Loss = 0.2099, Validation Accuracy = 0.6416\n"
     ]
    },
    {
     "name": "stderr",
     "output_type": "stream",
     "text": [
      "Best trial: 41. Best value: 0.230039: 100%|██████████| 50/50 [00:13<00:00,  3.58it/s]\n"
     ]
    },
    {
     "name": "stdout",
     "output_type": "stream",
     "text": [
      "Timestep 6.00% (Optimized): Training Loss = 0.2133, Accuracy = 0.6442, Validation Loss = 0.2186, Validation Accuracy = 0.6517\n"
     ]
    },
    {
     "name": "stderr",
     "output_type": "stream",
     "text": [
      "Best trial: 38. Best value: 0.22642: 100%|██████████| 50/50 [00:11<00:00,  4.49it/s] \n"
     ]
    },
    {
     "name": "stdout",
     "output_type": "stream",
     "text": [
      "Timestep 6.50% (Optimized): Training Loss = 0.1964, Accuracy = 0.6990, Validation Loss = 0.2127, Validation Accuracy = 0.6617\n"
     ]
    },
    {
     "name": "stderr",
     "output_type": "stream",
     "text": [
      "Best trial: 49. Best value: 0.231801: 100%|██████████| 50/50 [00:21<00:00,  2.33it/s]\n"
     ]
    },
    {
     "name": "stdout",
     "output_type": "stream",
     "text": [
      "Timestep 7.00% (Optimized): Training Loss = 0.2062, Accuracy = 0.6593, Validation Loss = 0.2197, Validation Accuracy = 0.6427\n"
     ]
    },
    {
     "name": "stderr",
     "output_type": "stream",
     "text": [
      "Best trial: 41. Best value: 0.222387: 100%|██████████| 50/50 [00:10<00:00,  4.96it/s]\n"
     ]
    },
    {
     "name": "stdout",
     "output_type": "stream",
     "text": [
      "Timestep 7.50% (Optimized): Training Loss = 0.2173, Accuracy = 0.6445, Validation Loss = 0.2070, Validation Accuracy = 0.6563\n"
     ]
    },
    {
     "name": "stderr",
     "output_type": "stream",
     "text": [
      "Best trial: 32. Best value: 0.228311: 100%|██████████| 50/50 [00:10<00:00,  4.67it/s]\n"
     ]
    },
    {
     "name": "stdout",
     "output_type": "stream",
     "text": [
      "Timestep 8.00% (Optimized): Training Loss = 0.2022, Accuracy = 0.6839, Validation Loss = 0.2101, Validation Accuracy = 0.6609\n"
     ]
    },
    {
     "name": "stderr",
     "output_type": "stream",
     "text": [
      "Best trial: 49. Best value: 0.218356: 100%|██████████| 50/50 [00:17<00:00,  2.78it/s]\n"
     ]
    },
    {
     "name": "stdout",
     "output_type": "stream",
     "text": [
      "Timestep 8.50% (Optimized): Training Loss = 0.2015, Accuracy = 0.6971, Validation Loss = 0.2081, Validation Accuracy = 0.6547\n"
     ]
    },
    {
     "name": "stderr",
     "output_type": "stream",
     "text": [
      "Best trial: 22. Best value: 0.232702: 100%|██████████| 50/50 [00:12<00:00,  4.05it/s]\n"
     ]
    },
    {
     "name": "stdout",
     "output_type": "stream",
     "text": [
      "Timestep 9.00% (Optimized): Training Loss = 0.2225, Accuracy = 0.6336, Validation Loss = 0.2095, Validation Accuracy = 0.6829\n"
     ]
    },
    {
     "name": "stderr",
     "output_type": "stream",
     "text": [
      "Best trial: 46. Best value: 0.211475: 100%|██████████| 50/50 [00:30<00:00,  1.63it/s]\n"
     ]
    },
    {
     "name": "stdout",
     "output_type": "stream",
     "text": [
      "Timestep 9.50% (Optimized): Training Loss = 0.2016, Accuracy = 0.6853, Validation Loss = 0.1977, Validation Accuracy = 0.6873\n"
     ]
    },
    {
     "name": "stderr",
     "output_type": "stream",
     "text": [
      "Best trial: 22. Best value: 0.219611: 100%|██████████| 50/50 [00:28<00:00,  1.73it/s]\n"
     ]
    },
    {
     "name": "stdout",
     "output_type": "stream",
     "text": [
      "Timestep 10.00% (Optimized): Training Loss = 0.2039, Accuracy = 0.6762, Validation Loss = 0.2036, Validation Accuracy = 0.6739\n"
     ]
    },
    {
     "name": "stderr",
     "output_type": "stream",
     "text": [
      "Best trial: 30. Best value: 0.221572: 100%|██████████| 50/50 [00:15<00:00,  3.29it/s]\n"
     ]
    },
    {
     "name": "stdout",
     "output_type": "stream",
     "text": [
      "Timestep 10.50% (Optimized): Training Loss = 0.2142, Accuracy = 0.6559, Validation Loss = 0.2020, Validation Accuracy = 0.6847\n"
     ]
    },
    {
     "name": "stderr",
     "output_type": "stream",
     "text": [
      "Best trial: 32. Best value: 0.228848: 100%|██████████| 50/50 [00:18<00:00,  2.75it/s]\n"
     ]
    },
    {
     "name": "stdout",
     "output_type": "stream",
     "text": [
      "Timestep 11.00% (Optimized): Training Loss = 0.2047, Accuracy = 0.6984, Validation Loss = 0.2123, Validation Accuracy = 0.6707\n"
     ]
    },
    {
     "name": "stderr",
     "output_type": "stream",
     "text": [
      "Best trial: 42. Best value: 0.215719: 100%|██████████| 50/50 [00:29<00:00,  1.70it/s]\n"
     ]
    },
    {
     "name": "stdout",
     "output_type": "stream",
     "text": [
      "Timestep 11.50% (Optimized): Training Loss = 0.2014, Accuracy = 0.7074, Validation Loss = 0.2001, Validation Accuracy = 0.6878\n"
     ]
    },
    {
     "name": "stderr",
     "output_type": "stream",
     "text": [
      "Best trial: 30. Best value: 0.212167: 100%|██████████| 50/50 [00:23<00:00,  2.13it/s]\n"
     ]
    },
    {
     "name": "stdout",
     "output_type": "stream",
     "text": [
      "Timestep 12.00% (Optimized): Training Loss = 0.1799, Accuracy = 0.7494, Validation Loss = 0.1965, Validation Accuracy = 0.6928\n"
     ]
    },
    {
     "name": "stderr",
     "output_type": "stream",
     "text": [
      "Best trial: 48. Best value: 0.235421: 100%|██████████| 50/50 [00:07<00:00,  6.43it/s]\n"
     ]
    },
    {
     "name": "stdout",
     "output_type": "stream",
     "text": [
      "Timestep 12.50% (Optimized): Training Loss = 0.2117, Accuracy = 0.6422, Validation Loss = 0.2197, Validation Accuracy = 0.6500\n"
     ]
    },
    {
     "name": "stderr",
     "output_type": "stream",
     "text": [
      "Best trial: 34. Best value: 0.213052: 100%|██████████| 50/50 [00:09<00:00,  5.02it/s]\n"
     ]
    },
    {
     "name": "stdout",
     "output_type": "stream",
     "text": [
      "Timestep 13.00% (Optimized): Training Loss = 0.2017, Accuracy = 0.6933, Validation Loss = 0.2021, Validation Accuracy = 0.6837\n"
     ]
    },
    {
     "name": "stderr",
     "output_type": "stream",
     "text": [
      "Best trial: 34. Best value: 0.222184: 100%|██████████| 50/50 [00:14<00:00,  3.54it/s]\n"
     ]
    },
    {
     "name": "stdout",
     "output_type": "stream",
     "text": [
      "Timestep 13.50% (Optimized): Training Loss = 0.2044, Accuracy = 0.6897, Validation Loss = 0.2097, Validation Accuracy = 0.6639\n"
     ]
    },
    {
     "name": "stderr",
     "output_type": "stream",
     "text": [
      "Best trial: 36. Best value: 0.21043: 100%|██████████| 50/50 [00:14<00:00,  3.54it/s] \n"
     ]
    },
    {
     "name": "stdout",
     "output_type": "stream",
     "text": [
      "Timestep 14.00% (Optimized): Training Loss = 0.1901, Accuracy = 0.7233, Validation Loss = 0.1952, Validation Accuracy = 0.7213\n"
     ]
    },
    {
     "name": "stderr",
     "output_type": "stream",
     "text": [
      "Best trial: 21. Best value: 0.224969: 100%|██████████| 50/50 [00:11<00:00,  4.44it/s]\n"
     ]
    },
    {
     "name": "stdout",
     "output_type": "stream",
     "text": [
      "Timestep 14.50% (Optimized): Training Loss = 0.2154, Accuracy = 0.6549, Validation Loss = 0.2050, Validation Accuracy = 0.6833\n"
     ]
    },
    {
     "name": "stderr",
     "output_type": "stream",
     "text": [
      "Best trial: 16. Best value: 0.217026: 100%|██████████| 50/50 [00:11<00:00,  4.47it/s]\n"
     ]
    },
    {
     "name": "stdout",
     "output_type": "stream",
     "text": [
      "Timestep 15.00% (Optimized): Training Loss = 0.1878, Accuracy = 0.7235, Validation Loss = 0.2023, Validation Accuracy = 0.6954\n"
     ]
    },
    {
     "name": "stderr",
     "output_type": "stream",
     "text": [
      "Best trial: 22. Best value: 0.199621: 100%|██████████| 50/50 [00:26<00:00,  1.89it/s]\n"
     ]
    },
    {
     "name": "stdout",
     "output_type": "stream",
     "text": [
      "Timestep 15.50% (Optimized): Training Loss = 0.2015, Accuracy = 0.6896, Validation Loss = 0.1817, Validation Accuracy = 0.7333\n"
     ]
    },
    {
     "name": "stderr",
     "output_type": "stream",
     "text": [
      "Best trial: 16. Best value: 0.209335: 100%|██████████| 50/50 [00:12<00:00,  3.91it/s]\n"
     ]
    },
    {
     "name": "stdout",
     "output_type": "stream",
     "text": [
      "Timestep 16.00% (Optimized): Training Loss = 0.2047, Accuracy = 0.6973, Validation Loss = 0.1888, Validation Accuracy = 0.7226\n"
     ]
    },
    {
     "name": "stderr",
     "output_type": "stream",
     "text": [
      "Best trial: 49. Best value: 0.218629: 100%|██████████| 50/50 [00:23<00:00,  2.16it/s]\n"
     ]
    },
    {
     "name": "stdout",
     "output_type": "stream",
     "text": [
      "Timestep 16.50% (Optimized): Training Loss = 0.1965, Accuracy = 0.7042, Validation Loss = 0.2045, Validation Accuracy = 0.6778\n"
     ]
    },
    {
     "name": "stderr",
     "output_type": "stream",
     "text": [
      "Best trial: 32. Best value: 0.219885: 100%|██████████| 50/50 [00:10<00:00,  4.64it/s]\n"
     ]
    },
    {
     "name": "stdout",
     "output_type": "stream",
     "text": [
      "Timestep 17.00% (Optimized): Training Loss = 0.2132, Accuracy = 0.6458, Validation Loss = 0.2003, Validation Accuracy = 0.6959\n"
     ]
    },
    {
     "name": "stderr",
     "output_type": "stream",
     "text": [
      "Best trial: 39. Best value: 0.221976: 100%|██████████| 50/50 [00:12<00:00,  4.13it/s]\n"
     ]
    },
    {
     "name": "stdout",
     "output_type": "stream",
     "text": [
      "Timestep 17.50% (Optimized): Training Loss = 0.2049, Accuracy = 0.6739, Validation Loss = 0.2030, Validation Accuracy = 0.6855\n"
     ]
    },
    {
     "name": "stderr",
     "output_type": "stream",
     "text": [
      "Best trial: 45. Best value: 0.212942: 100%|██████████| 50/50 [00:10<00:00,  4.63it/s]\n"
     ]
    },
    {
     "name": "stdout",
     "output_type": "stream",
     "text": [
      "Timestep 18.00% (Optimized): Training Loss = 0.2004, Accuracy = 0.6903, Validation Loss = 0.1965, Validation Accuracy = 0.7113\n"
     ]
    },
    {
     "name": "stderr",
     "output_type": "stream",
     "text": [
      "Best trial: 31. Best value: 0.212053: 100%|██████████| 50/50 [00:12<00:00,  4.15it/s]\n"
     ]
    },
    {
     "name": "stdout",
     "output_type": "stream",
     "text": [
      "Timestep 18.50% (Optimized): Training Loss = 0.2144, Accuracy = 0.6754, Validation Loss = 0.1878, Validation Accuracy = 0.7302\n"
     ]
    },
    {
     "name": "stderr",
     "output_type": "stream",
     "text": [
      "Best trial: 23. Best value: 0.216629: 100%|██████████| 50/50 [00:12<00:00,  4.00it/s]\n"
     ]
    },
    {
     "name": "stdout",
     "output_type": "stream",
     "text": [
      "Timestep 19.00% (Optimized): Training Loss = 0.2111, Accuracy = 0.6961, Validation Loss = 0.1977, Validation Accuracy = 0.6789\n"
     ]
    },
    {
     "name": "stderr",
     "output_type": "stream",
     "text": [
      "Best trial: 12. Best value: 0.195183: 100%|██████████| 50/50 [00:22<00:00,  2.20it/s]\n"
     ]
    },
    {
     "name": "stdout",
     "output_type": "stream",
     "text": [
      "Timestep 19.50% (Optimized): Training Loss = 0.1815, Accuracy = 0.7218, Validation Loss = 0.1869, Validation Accuracy = 0.7197\n"
     ]
    },
    {
     "name": "stderr",
     "output_type": "stream",
     "text": [
      "Best trial: 0. Best value: 0.209906: 100%|██████████| 50/50 [00:09<00:00,  5.07it/s]\n"
     ]
    },
    {
     "name": "stdout",
     "output_type": "stream",
     "text": [
      "Timestep 20.00% (Optimized): Training Loss = 0.2075, Accuracy = 0.6982, Validation Loss = 0.1909, Validation Accuracy = 0.7120\n"
     ]
    },
    {
     "name": "stderr",
     "output_type": "stream",
     "text": [
      "Best trial: 45. Best value: 0.211216: 100%|██████████| 50/50 [00:11<00:00,  4.50it/s]\n"
     ]
    },
    {
     "name": "stdout",
     "output_type": "stream",
     "text": [
      "Timestep 20.50% (Optimized): Training Loss = 0.2067, Accuracy = 0.6859, Validation Loss = 0.1879, Validation Accuracy = 0.7224\n"
     ]
    },
    {
     "name": "stderr",
     "output_type": "stream",
     "text": [
      "Best trial: 35. Best value: 0.207046: 100%|██████████| 50/50 [00:15<00:00,  3.32it/s]\n"
     ]
    },
    {
     "name": "stdout",
     "output_type": "stream",
     "text": [
      "Timestep 21.00% (Optimized): Training Loss = 0.1903, Accuracy = 0.7085, Validation Loss = 0.1923, Validation Accuracy = 0.6970\n"
     ]
    },
    {
     "name": "stderr",
     "output_type": "stream",
     "text": [
      "Best trial: 41. Best value: 0.201027: 100%|██████████| 50/50 [00:22<00:00,  2.25it/s]\n"
     ]
    },
    {
     "name": "stdout",
     "output_type": "stream",
     "text": [
      "Timestep 21.50% (Optimized): Training Loss = 0.1959, Accuracy = 0.7011, Validation Loss = 0.1907, Validation Accuracy = 0.7111\n"
     ]
    },
    {
     "name": "stderr",
     "output_type": "stream",
     "text": [
      "Best trial: 31. Best value: 0.197332: 100%|██████████| 50/50 [00:29<00:00,  1.72it/s]\n"
     ]
    },
    {
     "name": "stdout",
     "output_type": "stream",
     "text": [
      "Timestep 22.00% (Optimized): Training Loss = 0.1935, Accuracy = 0.7216, Validation Loss = 0.1782, Validation Accuracy = 0.7249\n"
     ]
    },
    {
     "name": "stderr",
     "output_type": "stream",
     "text": [
      "Best trial: 29. Best value: 0.195026: 100%|██████████| 50/50 [00:34<00:00,  1.47it/s]\n"
     ]
    },
    {
     "name": "stdout",
     "output_type": "stream",
     "text": [
      "Timestep 22.50% (Optimized): Training Loss = 0.1826, Accuracy = 0.7384, Validation Loss = 0.1763, Validation Accuracy = 0.7316\n"
     ]
    },
    {
     "name": "stderr",
     "output_type": "stream",
     "text": [
      "Best trial: 49. Best value: 0.221761: 100%|██████████| 50/50 [00:10<00:00,  4.79it/s]\n"
     ]
    },
    {
     "name": "stdout",
     "output_type": "stream",
     "text": [
      "Timestep 23.00% (Optimized): Training Loss = 0.1804, Accuracy = 0.7469, Validation Loss = 0.2039, Validation Accuracy = 0.6649\n"
     ]
    },
    {
     "name": "stderr",
     "output_type": "stream",
     "text": [
      "Best trial: 43. Best value: 0.185035: 100%|██████████| 50/50 [00:14<00:00,  3.49it/s]\n"
     ]
    },
    {
     "name": "stdout",
     "output_type": "stream",
     "text": [
      "Timestep 23.50% (Optimized): Training Loss = 0.1802, Accuracy = 0.7399, Validation Loss = 0.1721, Validation Accuracy = 0.7339\n"
     ]
    },
    {
     "name": "stderr",
     "output_type": "stream",
     "text": [
      "Best trial: 27. Best value: 0.195873: 100%|██████████| 50/50 [00:26<00:00,  1.89it/s]\n"
     ]
    },
    {
     "name": "stdout",
     "output_type": "stream",
     "text": [
      "Timestep 24.00% (Optimized): Training Loss = 0.2021, Accuracy = 0.6988, Validation Loss = 0.1769, Validation Accuracy = 0.7571\n"
     ]
    },
    {
     "name": "stderr",
     "output_type": "stream",
     "text": [
      "Best trial: 43. Best value: 0.202397: 100%|██████████| 50/50 [00:13<00:00,  3.59it/s]\n"
     ]
    },
    {
     "name": "stdout",
     "output_type": "stream",
     "text": [
      "Timestep 24.50% (Optimized): Training Loss = 0.1914, Accuracy = 0.7174, Validation Loss = 0.1866, Validation Accuracy = 0.7162\n",
      "Completed 50/201 timesteps\n"
     ]
    },
    {
     "name": "stderr",
     "output_type": "stream",
     "text": [
      "Best trial: 15. Best value: 0.195191: 100%|██████████| 50/50 [00:20<00:00,  2.39it/s]\n"
     ]
    },
    {
     "name": "stdout",
     "output_type": "stream",
     "text": [
      "Timestep 25.00% (Optimized): Training Loss = 0.1969, Accuracy = 0.6935, Validation Loss = 0.1797, Validation Accuracy = 0.7102\n"
     ]
    },
    {
     "name": "stderr",
     "output_type": "stream",
     "text": [
      "Best trial: 23. Best value: 0.227409: 100%|██████████| 50/50 [00:07<00:00,  6.33it/s]\n"
     ]
    },
    {
     "name": "stdout",
     "output_type": "stream",
     "text": [
      "Timestep 25.50% (Optimized): Training Loss = 0.1898, Accuracy = 0.7279, Validation Loss = 0.2123, Validation Accuracy = 0.6831\n"
     ]
    },
    {
     "name": "stderr",
     "output_type": "stream",
     "text": [
      "Best trial: 3. Best value: 0.208086: 100%|██████████| 50/50 [00:10<00:00,  4.55it/s]\n"
     ]
    },
    {
     "name": "stdout",
     "output_type": "stream",
     "text": [
      "Timestep 26.00% (Optimized): Training Loss = 0.1858, Accuracy = 0.7301, Validation Loss = 0.1992, Validation Accuracy = 0.7019\n"
     ]
    },
    {
     "name": "stderr",
     "output_type": "stream",
     "text": [
      "Best trial: 36. Best value: 0.212069: 100%|██████████| 50/50 [00:11<00:00,  4.17it/s]\n"
     ]
    },
    {
     "name": "stdout",
     "output_type": "stream",
     "text": [
      "Timestep 26.50% (Optimized): Training Loss = 0.1988, Accuracy = 0.7023, Validation Loss = 0.1875, Validation Accuracy = 0.7205\n"
     ]
    },
    {
     "name": "stderr",
     "output_type": "stream",
     "text": [
      "Best trial: 32. Best value: 0.202741: 100%|██████████| 50/50 [00:21<00:00,  2.29it/s]\n"
     ]
    },
    {
     "name": "stdout",
     "output_type": "stream",
     "text": [
      "Timestep 27.00% (Optimized): Training Loss = 0.1925, Accuracy = 0.7114, Validation Loss = 0.1862, Validation Accuracy = 0.7143\n"
     ]
    },
    {
     "name": "stderr",
     "output_type": "stream",
     "text": [
      "Best trial: 42. Best value: 0.201372: 100%|██████████| 50/50 [00:10<00:00,  4.71it/s]\n"
     ]
    },
    {
     "name": "stdout",
     "output_type": "stream",
     "text": [
      "Timestep 27.50% (Optimized): Training Loss = 0.1939, Accuracy = 0.7006, Validation Loss = 0.1800, Validation Accuracy = 0.7044\n"
     ]
    },
    {
     "name": "stderr",
     "output_type": "stream",
     "text": [
      "Best trial: 30. Best value: 0.207377: 100%|██████████| 50/50 [00:08<00:00,  5.85it/s]\n"
     ]
    },
    {
     "name": "stdout",
     "output_type": "stream",
     "text": [
      "Timestep 28.00% (Optimized): Training Loss = 0.1988, Accuracy = 0.7023, Validation Loss = 0.1869, Validation Accuracy = 0.7040\n"
     ]
    },
    {
     "name": "stderr",
     "output_type": "stream",
     "text": [
      "Best trial: 48. Best value: 0.186938: 100%|██████████| 50/50 [00:15<00:00,  3.23it/s]\n"
     ]
    },
    {
     "name": "stdout",
     "output_type": "stream",
     "text": [
      "Timestep 28.50% (Optimized): Training Loss = 0.1943, Accuracy = 0.7056, Validation Loss = 0.1653, Validation Accuracy = 0.7446\n"
     ]
    },
    {
     "name": "stderr",
     "output_type": "stream",
     "text": [
      "Best trial: 46. Best value: 0.21244: 100%|██████████| 50/50 [00:17<00:00,  2.85it/s] \n"
     ]
    },
    {
     "name": "stdout",
     "output_type": "stream",
     "text": [
      "Timestep 29.00% (Optimized): Training Loss = 0.1975, Accuracy = 0.6918, Validation Loss = 0.1922, Validation Accuracy = 0.6908\n"
     ]
    },
    {
     "name": "stderr",
     "output_type": "stream",
     "text": [
      "Best trial: 16. Best value: 0.20785: 100%|██████████| 50/50 [00:10<00:00,  4.69it/s] \n"
     ]
    },
    {
     "name": "stdout",
     "output_type": "stream",
     "text": [
      "Timestep 29.50% (Optimized): Training Loss = 0.1721, Accuracy = 0.7307, Validation Loss = 0.1866, Validation Accuracy = 0.7177\n"
     ]
    },
    {
     "name": "stderr",
     "output_type": "stream",
     "text": [
      "Best trial: 27. Best value: 0.203763: 100%|██████████| 50/50 [00:28<00:00,  1.78it/s]\n"
     ]
    },
    {
     "name": "stdout",
     "output_type": "stream",
     "text": [
      "Timestep 30.00% (Optimized): Training Loss = 0.1926, Accuracy = 0.7175, Validation Loss = 0.1818, Validation Accuracy = 0.7169\n"
     ]
    },
    {
     "name": "stderr",
     "output_type": "stream",
     "text": [
      "Best trial: 31. Best value: 0.202487: 100%|██████████| 50/50 [00:12<00:00,  3.88it/s]\n"
     ]
    },
    {
     "name": "stdout",
     "output_type": "stream",
     "text": [
      "Timestep 30.50% (Optimized): Training Loss = 0.1871, Accuracy = 0.7058, Validation Loss = 0.1919, Validation Accuracy = 0.7139\n"
     ]
    },
    {
     "name": "stderr",
     "output_type": "stream",
     "text": [
      "Best trial: 26. Best value: 0.191746: 100%|██████████| 50/50 [00:14<00:00,  3.55it/s]\n"
     ]
    },
    {
     "name": "stdout",
     "output_type": "stream",
     "text": [
      "Timestep 31.00% (Optimized): Training Loss = 0.1679, Accuracy = 0.7715, Validation Loss = 0.1756, Validation Accuracy = 0.7361\n"
     ]
    },
    {
     "name": "stderr",
     "output_type": "stream",
     "text": [
      "Best trial: 39. Best value: 0.207748: 100%|██████████| 50/50 [00:11<00:00,  4.28it/s]\n"
     ]
    },
    {
     "name": "stdout",
     "output_type": "stream",
     "text": [
      "Timestep 31.50% (Optimized): Training Loss = 0.1895, Accuracy = 0.7200, Validation Loss = 0.1924, Validation Accuracy = 0.7089\n"
     ]
    },
    {
     "name": "stderr",
     "output_type": "stream",
     "text": [
      "Best trial: 41. Best value: 0.202337: 100%|██████████| 50/50 [00:12<00:00,  3.98it/s]\n"
     ]
    },
    {
     "name": "stdout",
     "output_type": "stream",
     "text": [
      "Timestep 32.00% (Optimized): Training Loss = 0.1742, Accuracy = 0.7404, Validation Loss = 0.1927, Validation Accuracy = 0.7096\n"
     ]
    },
    {
     "name": "stderr",
     "output_type": "stream",
     "text": [
      "Best trial: 43. Best value: 0.213372: 100%|██████████| 50/50 [00:22<00:00,  2.21it/s]\n"
     ]
    },
    {
     "name": "stdout",
     "output_type": "stream",
     "text": [
      "Timestep 32.50% (Optimized): Training Loss = 0.1854, Accuracy = 0.7328, Validation Loss = 0.1950, Validation Accuracy = 0.7091\n"
     ]
    },
    {
     "name": "stderr",
     "output_type": "stream",
     "text": [
      "Best trial: 41. Best value: 0.194565: 100%|██████████| 50/50 [00:16<00:00,  2.98it/s]\n"
     ]
    },
    {
     "name": "stdout",
     "output_type": "stream",
     "text": [
      "Timestep 33.00% (Optimized): Training Loss = 0.1836, Accuracy = 0.7337, Validation Loss = 0.1772, Validation Accuracy = 0.7110\n"
     ]
    },
    {
     "name": "stderr",
     "output_type": "stream",
     "text": [
      "Best trial: 42. Best value: 0.185633: 100%|██████████| 50/50 [00:17<00:00,  2.90it/s]\n"
     ]
    },
    {
     "name": "stdout",
     "output_type": "stream",
     "text": [
      "Timestep 33.50% (Optimized): Training Loss = 0.1791, Accuracy = 0.7355, Validation Loss = 0.1723, Validation Accuracy = 0.7437\n"
     ]
    },
    {
     "name": "stderr",
     "output_type": "stream",
     "text": [
      "Best trial: 35. Best value: 0.173638: 100%|██████████| 50/50 [00:21<00:00,  2.37it/s]\n"
     ]
    },
    {
     "name": "stdout",
     "output_type": "stream",
     "text": [
      "Timestep 34.00% (Optimized): Training Loss = 0.1560, Accuracy = 0.7598, Validation Loss = 0.1590, Validation Accuracy = 0.7738\n"
     ]
    },
    {
     "name": "stderr",
     "output_type": "stream",
     "text": [
      "Best trial: 37. Best value: 0.186153: 100%|██████████| 50/50 [00:10<00:00,  4.55it/s]\n"
     ]
    },
    {
     "name": "stdout",
     "output_type": "stream",
     "text": [
      "Timestep 34.50% (Optimized): Training Loss = 0.1718, Accuracy = 0.7440, Validation Loss = 0.1711, Validation Accuracy = 0.7373\n"
     ]
    },
    {
     "name": "stderr",
     "output_type": "stream",
     "text": [
      "Best trial: 42. Best value: 0.195875: 100%|██████████| 50/50 [00:11<00:00,  4.18it/s]\n"
     ]
    },
    {
     "name": "stdout",
     "output_type": "stream",
     "text": [
      "Timestep 35.00% (Optimized): Training Loss = 0.1721, Accuracy = 0.7527, Validation Loss = 0.1811, Validation Accuracy = 0.7151\n"
     ]
    },
    {
     "name": "stderr",
     "output_type": "stream",
     "text": [
      "Best trial: 31. Best value: 0.191996: 100%|██████████| 50/50 [00:13<00:00,  3.68it/s]\n"
     ]
    },
    {
     "name": "stdout",
     "output_type": "stream",
     "text": [
      "Timestep 35.50% (Optimized): Training Loss = 0.1828, Accuracy = 0.7088, Validation Loss = 0.1714, Validation Accuracy = 0.7507\n"
     ]
    },
    {
     "name": "stderr",
     "output_type": "stream",
     "text": [
      "Best trial: 45. Best value: 0.189943: 100%|██████████| 50/50 [00:13<00:00,  3.72it/s]\n"
     ]
    },
    {
     "name": "stdout",
     "output_type": "stream",
     "text": [
      "Timestep 36.00% (Optimized): Training Loss = 0.1847, Accuracy = 0.7322, Validation Loss = 0.1776, Validation Accuracy = 0.7449\n"
     ]
    },
    {
     "name": "stderr",
     "output_type": "stream",
     "text": [
      "Best trial: 25. Best value: 0.196888: 100%|██████████| 50/50 [00:25<00:00,  1.95it/s]\n"
     ]
    },
    {
     "name": "stdout",
     "output_type": "stream",
     "text": [
      "Timestep 36.50% (Optimized): Training Loss = 0.1752, Accuracy = 0.7627, Validation Loss = 0.1796, Validation Accuracy = 0.7304\n"
     ]
    },
    {
     "name": "stderr",
     "output_type": "stream",
     "text": [
      "Best trial: 48. Best value: 0.198324: 100%|██████████| 50/50 [00:10<00:00,  4.84it/s]\n"
     ]
    },
    {
     "name": "stdout",
     "output_type": "stream",
     "text": [
      "Timestep 37.00% (Optimized): Training Loss = 0.1759, Accuracy = 0.7372, Validation Loss = 0.1852, Validation Accuracy = 0.7135\n"
     ]
    },
    {
     "name": "stderr",
     "output_type": "stream",
     "text": [
      "Best trial: 33. Best value: 0.18246: 100%|██████████| 50/50 [00:11<00:00,  4.26it/s] \n"
     ]
    },
    {
     "name": "stdout",
     "output_type": "stream",
     "text": [
      "Timestep 37.50% (Optimized): Training Loss = 0.1737, Accuracy = 0.7305, Validation Loss = 0.1626, Validation Accuracy = 0.7736\n"
     ]
    },
    {
     "name": "stderr",
     "output_type": "stream",
     "text": [
      "Best trial: 42. Best value: 0.179357: 100%|██████████| 50/50 [00:26<00:00,  1.88it/s]\n"
     ]
    },
    {
     "name": "stdout",
     "output_type": "stream",
     "text": [
      "Timestep 38.00% (Optimized): Training Loss = 0.1636, Accuracy = 0.7591, Validation Loss = 0.1667, Validation Accuracy = 0.7602\n"
     ]
    },
    {
     "name": "stderr",
     "output_type": "stream",
     "text": [
      "Best trial: 41. Best value: 0.186318: 100%|██████████| 50/50 [00:15<00:00,  3.25it/s]\n"
     ]
    },
    {
     "name": "stdout",
     "output_type": "stream",
     "text": [
      "Timestep 38.50% (Optimized): Training Loss = 0.1718, Accuracy = 0.7526, Validation Loss = 0.1730, Validation Accuracy = 0.7342\n"
     ]
    },
    {
     "name": "stderr",
     "output_type": "stream",
     "text": [
      "Best trial: 46. Best value: 0.185535: 100%|██████████| 50/50 [00:12<00:00,  4.07it/s]\n"
     ]
    },
    {
     "name": "stdout",
     "output_type": "stream",
     "text": [
      "Timestep 39.00% (Optimized): Training Loss = 0.1751, Accuracy = 0.7311, Validation Loss = 0.1704, Validation Accuracy = 0.7469\n"
     ]
    },
    {
     "name": "stderr",
     "output_type": "stream",
     "text": [
      "Best trial: 22. Best value: 0.188787: 100%|██████████| 50/50 [00:14<00:00,  3.43it/s]\n"
     ]
    },
    {
     "name": "stdout",
     "output_type": "stream",
     "text": [
      "Timestep 39.50% (Optimized): Training Loss = 0.1772, Accuracy = 0.7522, Validation Loss = 0.1744, Validation Accuracy = 0.7423\n"
     ]
    },
    {
     "name": "stderr",
     "output_type": "stream",
     "text": [
      "Best trial: 18. Best value: 0.182587: 100%|██████████| 50/50 [00:14<00:00,  3.49it/s]\n"
     ]
    },
    {
     "name": "stdout",
     "output_type": "stream",
     "text": [
      "Timestep 40.00% (Optimized): Training Loss = 0.1634, Accuracy = 0.7663, Validation Loss = 0.1675, Validation Accuracy = 0.7577\n"
     ]
    },
    {
     "name": "stderr",
     "output_type": "stream",
     "text": [
      "Best trial: 34. Best value: 0.16716: 100%|██████████| 50/50 [00:32<00:00,  1.53it/s] \n"
     ]
    },
    {
     "name": "stdout",
     "output_type": "stream",
     "text": [
      "Timestep 40.50% (Optimized): Training Loss = 0.1393, Accuracy = 0.8049, Validation Loss = 0.1542, Validation Accuracy = 0.7748\n"
     ]
    },
    {
     "name": "stderr",
     "output_type": "stream",
     "text": [
      "Best trial: 22. Best value: 0.199956: 100%|██████████| 50/50 [00:18<00:00,  2.67it/s]\n"
     ]
    },
    {
     "name": "stdout",
     "output_type": "stream",
     "text": [
      "Timestep 41.00% (Optimized): Training Loss = 0.1789, Accuracy = 0.7144, Validation Loss = 0.1872, Validation Accuracy = 0.6989\n"
     ]
    },
    {
     "name": "stderr",
     "output_type": "stream",
     "text": [
      "Best trial: 41. Best value: 0.184641: 100%|██████████| 50/50 [00:12<00:00,  3.88it/s]\n"
     ]
    },
    {
     "name": "stdout",
     "output_type": "stream",
     "text": [
      "Timestep 41.50% (Optimized): Training Loss = 0.1656, Accuracy = 0.7643, Validation Loss = 0.1711, Validation Accuracy = 0.7447\n"
     ]
    },
    {
     "name": "stderr",
     "output_type": "stream",
     "text": [
      "Best trial: 35. Best value: 0.201595: 100%|██████████| 50/50 [00:12<00:00,  4.06it/s]\n"
     ]
    },
    {
     "name": "stdout",
     "output_type": "stream",
     "text": [
      "Timestep 42.00% (Optimized): Training Loss = 0.1733, Accuracy = 0.7508, Validation Loss = 0.1876, Validation Accuracy = 0.7072\n"
     ]
    },
    {
     "name": "stderr",
     "output_type": "stream",
     "text": [
      "Best trial: 13. Best value: 0.196282: 100%|██████████| 50/50 [00:16<00:00,  3.03it/s]\n"
     ]
    },
    {
     "name": "stdout",
     "output_type": "stream",
     "text": [
      "Timestep 42.50% (Optimized): Training Loss = 0.1720, Accuracy = 0.7603, Validation Loss = 0.1799, Validation Accuracy = 0.7344\n"
     ]
    },
    {
     "name": "stderr",
     "output_type": "stream",
     "text": [
      "Best trial: 22. Best value: 0.184747: 100%|██████████| 50/50 [00:23<00:00,  2.11it/s]\n"
     ]
    },
    {
     "name": "stdout",
     "output_type": "stream",
     "text": [
      "Timestep 43.00% (Optimized): Training Loss = 0.1643, Accuracy = 0.7573, Validation Loss = 0.1735, Validation Accuracy = 0.7554\n"
     ]
    },
    {
     "name": "stderr",
     "output_type": "stream",
     "text": [
      "Best trial: 48. Best value: 0.181969: 100%|██████████| 50/50 [00:11<00:00,  4.22it/s]\n"
     ]
    },
    {
     "name": "stdout",
     "output_type": "stream",
     "text": [
      "Timestep 43.50% (Optimized): Training Loss = 0.1716, Accuracy = 0.7621, Validation Loss = 0.1653, Validation Accuracy = 0.7581\n"
     ]
    },
    {
     "name": "stderr",
     "output_type": "stream",
     "text": [
      "Best trial: 35. Best value: 0.165085: 100%|██████████| 50/50 [00:32<00:00,  1.53it/s]\n"
     ]
    },
    {
     "name": "stdout",
     "output_type": "stream",
     "text": [
      "Timestep 44.00% (Optimized): Training Loss = 0.1581, Accuracy = 0.7674, Validation Loss = 0.1514, Validation Accuracy = 0.7872\n"
     ]
    },
    {
     "name": "stderr",
     "output_type": "stream",
     "text": [
      "Best trial: 49. Best value: 0.19544: 100%|██████████| 50/50 [00:13<00:00,  3.70it/s] \n"
     ]
    },
    {
     "name": "stdout",
     "output_type": "stream",
     "text": [
      "Timestep 44.50% (Optimized): Training Loss = 0.1663, Accuracy = 0.7528, Validation Loss = 0.1836, Validation Accuracy = 0.7229\n"
     ]
    },
    {
     "name": "stderr",
     "output_type": "stream",
     "text": [
      "Best trial: 25. Best value: 0.177453: 100%|██████████| 50/50 [00:23<00:00,  2.13it/s]\n"
     ]
    },
    {
     "name": "stdout",
     "output_type": "stream",
     "text": [
      "Timestep 45.00% (Optimized): Training Loss = 0.1650, Accuracy = 0.7561, Validation Loss = 0.1594, Validation Accuracy = 0.7485\n"
     ]
    },
    {
     "name": "stderr",
     "output_type": "stream",
     "text": [
      "Best trial: 48. Best value: 0.17559: 100%|██████████| 50/50 [00:11<00:00,  4.54it/s] \n"
     ]
    },
    {
     "name": "stdout",
     "output_type": "stream",
     "text": [
      "Timestep 45.50% (Optimized): Training Loss = 0.1686, Accuracy = 0.7457, Validation Loss = 0.1598, Validation Accuracy = 0.7507\n"
     ]
    },
    {
     "name": "stderr",
     "output_type": "stream",
     "text": [
      "Best trial: 35. Best value: 0.173722: 100%|██████████| 50/50 [00:21<00:00,  2.36it/s]\n"
     ]
    },
    {
     "name": "stdout",
     "output_type": "stream",
     "text": [
      "Timestep 46.00% (Optimized): Training Loss = 0.1670, Accuracy = 0.7515, Validation Loss = 0.1602, Validation Accuracy = 0.7781\n"
     ]
    },
    {
     "name": "stderr",
     "output_type": "stream",
     "text": [
      "Best trial: 45. Best value: 0.170662: 100%|██████████| 50/50 [00:12<00:00,  3.90it/s]\n"
     ]
    },
    {
     "name": "stdout",
     "output_type": "stream",
     "text": [
      "Timestep 46.50% (Optimized): Training Loss = 0.1518, Accuracy = 0.7858, Validation Loss = 0.1610, Validation Accuracy = 0.7621\n"
     ]
    },
    {
     "name": "stderr",
     "output_type": "stream",
     "text": [
      "Best trial: 33. Best value: 0.180526: 100%|██████████| 50/50 [00:27<00:00,  1.82it/s]\n"
     ]
    },
    {
     "name": "stdout",
     "output_type": "stream",
     "text": [
      "Timestep 47.00% (Optimized): Training Loss = 0.1523, Accuracy = 0.7831, Validation Loss = 0.1704, Validation Accuracy = 0.7407\n"
     ]
    },
    {
     "name": "stderr",
     "output_type": "stream",
     "text": [
      "Best trial: 42. Best value: 0.185769: 100%|██████████| 50/50 [00:15<00:00,  3.29it/s]\n"
     ]
    },
    {
     "name": "stdout",
     "output_type": "stream",
     "text": [
      "Timestep 47.50% (Optimized): Training Loss = 0.1621, Accuracy = 0.7625, Validation Loss = 0.1690, Validation Accuracy = 0.7565\n"
     ]
    },
    {
     "name": "stderr",
     "output_type": "stream",
     "text": [
      "Best trial: 22. Best value: 0.174754: 100%|██████████| 50/50 [00:16<00:00,  3.09it/s]\n"
     ]
    },
    {
     "name": "stdout",
     "output_type": "stream",
     "text": [
      "Timestep 48.00% (Optimized): Training Loss = 0.1601, Accuracy = 0.7552, Validation Loss = 0.1566, Validation Accuracy = 0.7716\n"
     ]
    },
    {
     "name": "stderr",
     "output_type": "stream",
     "text": [
      "Best trial: 21. Best value: 0.173396: 100%|██████████| 50/50 [00:26<00:00,  1.88it/s]\n"
     ]
    },
    {
     "name": "stdout",
     "output_type": "stream",
     "text": [
      "Timestep 48.50% (Optimized): Training Loss = 0.1514, Accuracy = 0.7701, Validation Loss = 0.1608, Validation Accuracy = 0.7487\n"
     ]
    },
    {
     "name": "stderr",
     "output_type": "stream",
     "text": [
      "Best trial: 23. Best value: 0.172413: 100%|██████████| 50/50 [00:16<00:00,  3.11it/s]\n"
     ]
    },
    {
     "name": "stdout",
     "output_type": "stream",
     "text": [
      "Timestep 49.00% (Optimized): Training Loss = 0.1565, Accuracy = 0.7871, Validation Loss = 0.1562, Validation Accuracy = 0.7830\n"
     ]
    },
    {
     "name": "stderr",
     "output_type": "stream",
     "text": [
      "Best trial: 7. Best value: 0.17015: 100%|██████████| 50/50 [00:30<00:00,  1.66it/s]\n"
     ]
    },
    {
     "name": "stdout",
     "output_type": "stream",
     "text": [
      "Timestep 49.50% (Optimized): Training Loss = 0.1504, Accuracy = 0.7906, Validation Loss = 0.1570, Validation Accuracy = 0.7726\n",
      "Completed 100/201 timesteps\n"
     ]
    },
    {
     "name": "stderr",
     "output_type": "stream",
     "text": [
      "Best trial: 12. Best value: 0.166117: 100%|██████████| 50/50 [00:36<00:00,  1.37it/s]\n"
     ]
    },
    {
     "name": "stdout",
     "output_type": "stream",
     "text": [
      "Timestep 50.00% (Optimized): Training Loss = 0.1544, Accuracy = 0.7564, Validation Loss = 0.1562, Validation Accuracy = 0.7766\n"
     ]
    },
    {
     "name": "stderr",
     "output_type": "stream",
     "text": [
      "Best trial: 37. Best value: 0.161438: 100%|██████████| 50/50 [00:08<00:00,  5.90it/s]\n"
     ]
    },
    {
     "name": "stdout",
     "output_type": "stream",
     "text": [
      "Timestep 50.50% (Optimized): Training Loss = 0.1415, Accuracy = 0.7933, Validation Loss = 0.1453, Validation Accuracy = 0.7752\n"
     ]
    },
    {
     "name": "stderr",
     "output_type": "stream",
     "text": [
      "Best trial: 43. Best value: 0.152973: 100%|██████████| 50/50 [00:16<00:00,  2.95it/s]\n"
     ]
    },
    {
     "name": "stdout",
     "output_type": "stream",
     "text": [
      "Timestep 51.00% (Optimized): Training Loss = 0.1436, Accuracy = 0.7870, Validation Loss = 0.1357, Validation Accuracy = 0.8182\n"
     ]
    },
    {
     "name": "stderr",
     "output_type": "stream",
     "text": [
      "Best trial: 13. Best value: 0.164069: 100%|██████████| 50/50 [00:17<00:00,  2.83it/s]\n"
     ]
    },
    {
     "name": "stdout",
     "output_type": "stream",
     "text": [
      "Timestep 51.50% (Optimized): Training Loss = 0.1504, Accuracy = 0.7827, Validation Loss = 0.1503, Validation Accuracy = 0.7753\n"
     ]
    },
    {
     "name": "stderr",
     "output_type": "stream",
     "text": [
      "Best trial: 47. Best value: 0.170304: 100%|██████████| 50/50 [00:18<00:00,  2.71it/s]\n"
     ]
    },
    {
     "name": "stdout",
     "output_type": "stream",
     "text": [
      "Timestep 52.00% (Optimized): Training Loss = 0.1522, Accuracy = 0.7854, Validation Loss = 0.1604, Validation Accuracy = 0.7651\n"
     ]
    },
    {
     "name": "stderr",
     "output_type": "stream",
     "text": [
      "Best trial: 29. Best value: 0.164775: 100%|██████████| 50/50 [00:16<00:00,  3.11it/s]\n"
     ]
    },
    {
     "name": "stdout",
     "output_type": "stream",
     "text": [
      "Timestep 52.50% (Optimized): Training Loss = 0.1400, Accuracy = 0.8008, Validation Loss = 0.1483, Validation Accuracy = 0.7893\n"
     ]
    },
    {
     "name": "stderr",
     "output_type": "stream",
     "text": [
      "Best trial: 44. Best value: 0.157747: 100%|██████████| 50/50 [00:26<00:00,  1.86it/s]\n"
     ]
    },
    {
     "name": "stdout",
     "output_type": "stream",
     "text": [
      "Timestep 53.00% (Optimized): Training Loss = 0.1486, Accuracy = 0.7766, Validation Loss = 0.1453, Validation Accuracy = 0.7819\n"
     ]
    },
    {
     "name": "stderr",
     "output_type": "stream",
     "text": [
      "Best trial: 47. Best value: 0.156215: 100%|██████████| 50/50 [00:30<00:00,  1.64it/s]\n"
     ]
    },
    {
     "name": "stdout",
     "output_type": "stream",
     "text": [
      "Timestep 53.50% (Optimized): Training Loss = 0.1399, Accuracy = 0.8074, Validation Loss = 0.1399, Validation Accuracy = 0.7851\n"
     ]
    },
    {
     "name": "stderr",
     "output_type": "stream",
     "text": [
      "Best trial: 35. Best value: 0.165405: 100%|██████████| 50/50 [00:24<00:00,  2.01it/s]\n"
     ]
    },
    {
     "name": "stdout",
     "output_type": "stream",
     "text": [
      "Timestep 54.00% (Optimized): Training Loss = 0.1462, Accuracy = 0.7891, Validation Loss = 0.1499, Validation Accuracy = 0.7667\n"
     ]
    },
    {
     "name": "stderr",
     "output_type": "stream",
     "text": [
      "Best trial: 30. Best value: 0.16837: 100%|██████████| 50/50 [00:11<00:00,  4.21it/s] \n"
     ]
    },
    {
     "name": "stdout",
     "output_type": "stream",
     "text": [
      "Timestep 54.50% (Optimized): Training Loss = 0.1513, Accuracy = 0.7783, Validation Loss = 0.1540, Validation Accuracy = 0.7737\n"
     ]
    },
    {
     "name": "stderr",
     "output_type": "stream",
     "text": [
      "Best trial: 38. Best value: 0.161421: 100%|██████████| 50/50 [00:12<00:00,  3.93it/s]\n"
     ]
    },
    {
     "name": "stdout",
     "output_type": "stream",
     "text": [
      "Timestep 55.00% (Optimized): Training Loss = 0.1383, Accuracy = 0.8001, Validation Loss = 0.1491, Validation Accuracy = 0.7826\n"
     ]
    },
    {
     "name": "stderr",
     "output_type": "stream",
     "text": [
      "Best trial: 45. Best value: 0.148372: 100%|██████████| 50/50 [00:11<00:00,  4.19it/s]\n"
     ]
    },
    {
     "name": "stdout",
     "output_type": "stream",
     "text": [
      "Timestep 55.50% (Optimized): Training Loss = 0.1512, Accuracy = 0.7757, Validation Loss = 0.1332, Validation Accuracy = 0.8079\n"
     ]
    },
    {
     "name": "stderr",
     "output_type": "stream",
     "text": [
      "Best trial: 46. Best value: 0.137506: 100%|██████████| 50/50 [00:13<00:00,  3.58it/s]\n"
     ]
    },
    {
     "name": "stdout",
     "output_type": "stream",
     "text": [
      "Timestep 56.00% (Optimized): Training Loss = 0.1463, Accuracy = 0.7925, Validation Loss = 0.1242, Validation Accuracy = 0.8300\n"
     ]
    },
    {
     "name": "stderr",
     "output_type": "stream",
     "text": [
      "Best trial: 33. Best value: 0.150763: 100%|██████████| 50/50 [00:18<00:00,  2.68it/s]\n"
     ]
    },
    {
     "name": "stdout",
     "output_type": "stream",
     "text": [
      "Timestep 56.50% (Optimized): Training Loss = 0.1375, Accuracy = 0.8043, Validation Loss = 0.1342, Validation Accuracy = 0.7981\n"
     ]
    },
    {
     "name": "stderr",
     "output_type": "stream",
     "text": [
      "Best trial: 25. Best value: 0.153049: 100%|██████████| 50/50 [00:17<00:00,  2.90it/s]\n"
     ]
    },
    {
     "name": "stdout",
     "output_type": "stream",
     "text": [
      "Timestep 57.00% (Optimized): Training Loss = 0.1448, Accuracy = 0.7970, Validation Loss = 0.1379, Validation Accuracy = 0.7834\n"
     ]
    },
    {
     "name": "stderr",
     "output_type": "stream",
     "text": [
      "Best trial: 25. Best value: 0.170685: 100%|██████████| 50/50 [00:35<00:00,  1.39it/s]\n"
     ]
    },
    {
     "name": "stdout",
     "output_type": "stream",
     "text": [
      "Timestep 57.50% (Optimized): Training Loss = 0.1522, Accuracy = 0.7809, Validation Loss = 0.1504, Validation Accuracy = 0.7670\n"
     ]
    },
    {
     "name": "stderr",
     "output_type": "stream",
     "text": [
      "Best trial: 32. Best value: 0.154553: 100%|██████████| 50/50 [00:17<00:00,  2.93it/s]\n"
     ]
    },
    {
     "name": "stdout",
     "output_type": "stream",
     "text": [
      "Timestep 58.00% (Optimized): Training Loss = 0.1393, Accuracy = 0.7897, Validation Loss = 0.1424, Validation Accuracy = 0.7951\n"
     ]
    },
    {
     "name": "stderr",
     "output_type": "stream",
     "text": [
      "Best trial: 41. Best value: 0.159163: 100%|██████████| 50/50 [00:16<00:00,  3.00it/s]\n"
     ]
    },
    {
     "name": "stdout",
     "output_type": "stream",
     "text": [
      "Timestep 58.50% (Optimized): Training Loss = 0.1531, Accuracy = 0.7905, Validation Loss = 0.1417, Validation Accuracy = 0.7950\n"
     ]
    },
    {
     "name": "stderr",
     "output_type": "stream",
     "text": [
      "Best trial: 30. Best value: 0.155945: 100%|██████████| 50/50 [00:17<00:00,  2.81it/s]\n"
     ]
    },
    {
     "name": "stdout",
     "output_type": "stream",
     "text": [
      "Timestep 59.00% (Optimized): Training Loss = 0.1526, Accuracy = 0.7878, Validation Loss = 0.1409, Validation Accuracy = 0.7909\n"
     ]
    },
    {
     "name": "stderr",
     "output_type": "stream",
     "text": [
      "Best trial: 32. Best value: 0.146774: 100%|██████████| 50/50 [00:24<00:00,  2.03it/s]\n"
     ]
    },
    {
     "name": "stdout",
     "output_type": "stream",
     "text": [
      "Timestep 59.50% (Optimized): Training Loss = 0.1345, Accuracy = 0.8018, Validation Loss = 0.1308, Validation Accuracy = 0.8029\n"
     ]
    },
    {
     "name": "stderr",
     "output_type": "stream",
     "text": [
      "Best trial: 47. Best value: 0.174568: 100%|██████████| 50/50 [00:10<00:00,  4.65it/s]\n"
     ]
    },
    {
     "name": "stdout",
     "output_type": "stream",
     "text": [
      "Timestep 60.00% (Optimized): Training Loss = 0.1465, Accuracy = 0.7918, Validation Loss = 0.1579, Validation Accuracy = 0.7623\n"
     ]
    },
    {
     "name": "stderr",
     "output_type": "stream",
     "text": [
      "Best trial: 30. Best value: 0.147805: 100%|██████████| 50/50 [00:27<00:00,  1.85it/s]\n"
     ]
    },
    {
     "name": "stdout",
     "output_type": "stream",
     "text": [
      "Timestep 60.50% (Optimized): Training Loss = 0.1423, Accuracy = 0.7967, Validation Loss = 0.1307, Validation Accuracy = 0.8266\n"
     ]
    },
    {
     "name": "stderr",
     "output_type": "stream",
     "text": [
      "Best trial: 19. Best value: 0.142022: 100%|██████████| 50/50 [00:21<00:00,  2.30it/s]\n"
     ]
    },
    {
     "name": "stdout",
     "output_type": "stream",
     "text": [
      "Timestep 61.00% (Optimized): Training Loss = 0.1499, Accuracy = 0.7670, Validation Loss = 0.1200, Validation Accuracy = 0.8141\n"
     ]
    },
    {
     "name": "stderr",
     "output_type": "stream",
     "text": [
      "Best trial: 26. Best value: 0.158244: 100%|██████████| 50/50 [00:19<00:00,  2.58it/s]\n"
     ]
    },
    {
     "name": "stdout",
     "output_type": "stream",
     "text": [
      "Timestep 61.50% (Optimized): Training Loss = 0.1372, Accuracy = 0.7761, Validation Loss = 0.1418, Validation Accuracy = 0.7855\n"
     ]
    },
    {
     "name": "stderr",
     "output_type": "stream",
     "text": [
      "Best trial: 49. Best value: 0.147311: 100%|██████████| 50/50 [00:17<00:00,  2.89it/s]\n"
     ]
    },
    {
     "name": "stdout",
     "output_type": "stream",
     "text": [
      "Timestep 62.00% (Optimized): Training Loss = 0.1376, Accuracy = 0.7978, Validation Loss = 0.1351, Validation Accuracy = 0.8123\n"
     ]
    },
    {
     "name": "stderr",
     "output_type": "stream",
     "text": [
      "Best trial: 42. Best value: 0.138411: 100%|██████████| 50/50 [00:33<00:00,  1.51it/s]\n"
     ]
    },
    {
     "name": "stdout",
     "output_type": "stream",
     "text": [
      "Timestep 62.50% (Optimized): Training Loss = 0.1361, Accuracy = 0.7979, Validation Loss = 0.1249, Validation Accuracy = 0.8023\n"
     ]
    },
    {
     "name": "stderr",
     "output_type": "stream",
     "text": [
      "Best trial: 42. Best value: 0.136819: 100%|██████████| 50/50 [00:14<00:00,  3.36it/s]\n"
     ]
    },
    {
     "name": "stdout",
     "output_type": "stream",
     "text": [
      "Timestep 63.00% (Optimized): Training Loss = 0.1307, Accuracy = 0.8092, Validation Loss = 0.1253, Validation Accuracy = 0.8269\n"
     ]
    },
    {
     "name": "stderr",
     "output_type": "stream",
     "text": [
      "Best trial: 40. Best value: 0.166527: 100%|██████████| 50/50 [00:20<00:00,  2.39it/s]\n"
     ]
    },
    {
     "name": "stdout",
     "output_type": "stream",
     "text": [
      "Timestep 63.50% (Optimized): Training Loss = 0.1368, Accuracy = 0.8109, Validation Loss = 0.1572, Validation Accuracy = 0.7736\n"
     ]
    },
    {
     "name": "stderr",
     "output_type": "stream",
     "text": [
      "Best trial: 30. Best value: 0.140137: 100%|██████████| 50/50 [00:21<00:00,  2.33it/s]\n"
     ]
    },
    {
     "name": "stdout",
     "output_type": "stream",
     "text": [
      "Timestep 64.00% (Optimized): Training Loss = 0.1253, Accuracy = 0.8308, Validation Loss = 0.1266, Validation Accuracy = 0.8094\n"
     ]
    },
    {
     "name": "stderr",
     "output_type": "stream",
     "text": [
      "Best trial: 23. Best value: 0.150383: 100%|██████████| 50/50 [00:29<00:00,  1.68it/s]\n"
     ]
    },
    {
     "name": "stdout",
     "output_type": "stream",
     "text": [
      "Timestep 64.50% (Optimized): Training Loss = 0.1480, Accuracy = 0.7843, Validation Loss = 0.1361, Validation Accuracy = 0.8101\n"
     ]
    },
    {
     "name": "stderr",
     "output_type": "stream",
     "text": [
      "Best trial: 45. Best value: 0.145854: 100%|██████████| 50/50 [00:22<00:00,  2.19it/s]\n"
     ]
    },
    {
     "name": "stdout",
     "output_type": "stream",
     "text": [
      "Timestep 65.00% (Optimized): Training Loss = 0.1331, Accuracy = 0.8127, Validation Loss = 0.1315, Validation Accuracy = 0.8208\n"
     ]
    },
    {
     "name": "stderr",
     "output_type": "stream",
     "text": [
      "Best trial: 43. Best value: 0.143981: 100%|██████████| 50/50 [00:22<00:00,  2.23it/s]\n"
     ]
    },
    {
     "name": "stdout",
     "output_type": "stream",
     "text": [
      "Timestep 65.50% (Optimized): Training Loss = 0.1308, Accuracy = 0.8219, Validation Loss = 0.1271, Validation Accuracy = 0.8288\n"
     ]
    },
    {
     "name": "stderr",
     "output_type": "stream",
     "text": [
      "Best trial: 36. Best value: 0.144601: 100%|██████████| 50/50 [00:23<00:00,  2.12it/s]\n"
     ]
    },
    {
     "name": "stdout",
     "output_type": "stream",
     "text": [
      "Timestep 66.00% (Optimized): Training Loss = 0.1004, Accuracy = 0.8700, Validation Loss = 0.1318, Validation Accuracy = 0.8000\n"
     ]
    },
    {
     "name": "stderr",
     "output_type": "stream",
     "text": [
      "Best trial: 43. Best value: 0.127127: 100%|██████████| 50/50 [00:32<00:00,  1.52it/s]\n"
     ]
    },
    {
     "name": "stdout",
     "output_type": "stream",
     "text": [
      "Timestep 66.50% (Optimized): Training Loss = 0.1127, Accuracy = 0.8443, Validation Loss = 0.1113, Validation Accuracy = 0.8423\n"
     ]
    },
    {
     "name": "stderr",
     "output_type": "stream",
     "text": [
      "Best trial: 20. Best value: 0.141728: 100%|██████████| 50/50 [00:24<00:00,  2.08it/s]\n"
     ]
    },
    {
     "name": "stdout",
     "output_type": "stream",
     "text": [
      "Timestep 67.00% (Optimized): Training Loss = 0.1296, Accuracy = 0.8220, Validation Loss = 0.1296, Validation Accuracy = 0.8211\n"
     ]
    },
    {
     "name": "stderr",
     "output_type": "stream",
     "text": [
      "Best trial: 7. Best value: 0.165505: 100%|██████████| 50/50 [00:18<00:00,  2.72it/s]\n"
     ]
    },
    {
     "name": "stdout",
     "output_type": "stream",
     "text": [
      "Timestep 67.50% (Optimized): Training Loss = 0.1322, Accuracy = 0.8058, Validation Loss = 0.1527, Validation Accuracy = 0.7686\n"
     ]
    },
    {
     "name": "stderr",
     "output_type": "stream",
     "text": [
      "Best trial: 32. Best value: 0.14619: 100%|██████████| 50/50 [00:32<00:00,  1.53it/s] \n"
     ]
    },
    {
     "name": "stdout",
     "output_type": "stream",
     "text": [
      "Timestep 68.00% (Optimized): Training Loss = 0.1265, Accuracy = 0.8157, Validation Loss = 0.1352, Validation Accuracy = 0.8147\n"
     ]
    },
    {
     "name": "stderr",
     "output_type": "stream",
     "text": [
      "Best trial: 43. Best value: 0.133745: 100%|██████████| 50/50 [00:15<00:00,  3.31it/s]\n"
     ]
    },
    {
     "name": "stdout",
     "output_type": "stream",
     "text": [
      "Timestep 68.50% (Optimized): Training Loss = 0.1218, Accuracy = 0.8207, Validation Loss = 0.1168, Validation Accuracy = 0.8250\n"
     ]
    },
    {
     "name": "stderr",
     "output_type": "stream",
     "text": [
      "Best trial: 46. Best value: 0.127946: 100%|██████████| 50/50 [00:18<00:00,  2.64it/s]\n"
     ]
    },
    {
     "name": "stdout",
     "output_type": "stream",
     "text": [
      "Timestep 69.00% (Optimized): Training Loss = 0.1229, Accuracy = 0.8314, Validation Loss = 0.1159, Validation Accuracy = 0.8363\n"
     ]
    },
    {
     "name": "stderr",
     "output_type": "stream",
     "text": [
      "Best trial: 17. Best value: 0.140786: 100%|██████████| 50/50 [00:16<00:00,  2.97it/s]\n"
     ]
    },
    {
     "name": "stdout",
     "output_type": "stream",
     "text": [
      "Timestep 69.50% (Optimized): Training Loss = 0.1212, Accuracy = 0.8377, Validation Loss = 0.1309, Validation Accuracy = 0.8146\n"
     ]
    },
    {
     "name": "stderr",
     "output_type": "stream",
     "text": [
      "Best trial: 48. Best value: 0.14206: 100%|██████████| 50/50 [00:29<00:00,  1.72it/s] \n"
     ]
    },
    {
     "name": "stdout",
     "output_type": "stream",
     "text": [
      "Timestep 70.00% (Optimized): Training Loss = 0.1266, Accuracy = 0.8215, Validation Loss = 0.1282, Validation Accuracy = 0.8028\n"
     ]
    },
    {
     "name": "stderr",
     "output_type": "stream",
     "text": [
      "Best trial: 42. Best value: 0.129811: 100%|██████████| 50/50 [00:31<00:00,  1.58it/s]\n"
     ]
    },
    {
     "name": "stdout",
     "output_type": "stream",
     "text": [
      "Timestep 70.50% (Optimized): Training Loss = 0.1128, Accuracy = 0.8370, Validation Loss = 0.1150, Validation Accuracy = 0.8319\n"
     ]
    },
    {
     "name": "stderr",
     "output_type": "stream",
     "text": [
      "Best trial: 38. Best value: 0.139897: 100%|██████████| 50/50 [00:58<00:00,  1.16s/it]\n"
     ]
    },
    {
     "name": "stdout",
     "output_type": "stream",
     "text": [
      "Timestep 71.00% (Optimized): Training Loss = 0.1274, Accuracy = 0.8116, Validation Loss = 0.1249, Validation Accuracy = 0.8184\n"
     ]
    },
    {
     "name": "stderr",
     "output_type": "stream",
     "text": [
      "Best trial: 42. Best value: 0.148667: 100%|██████████| 50/50 [00:42<00:00,  1.17it/s]\n"
     ]
    },
    {
     "name": "stdout",
     "output_type": "stream",
     "text": [
      "Timestep 71.50% (Optimized): Training Loss = 0.1178, Accuracy = 0.8252, Validation Loss = 0.1371, Validation Accuracy = 0.7989\n"
     ]
    },
    {
     "name": "stderr",
     "output_type": "stream",
     "text": [
      "Best trial: 34. Best value: 0.135478: 100%|██████████| 50/50 [00:37<00:00,  1.32it/s]\n"
     ]
    },
    {
     "name": "stdout",
     "output_type": "stream",
     "text": [
      "Timestep 72.00% (Optimized): Training Loss = 0.1140, Accuracy = 0.8434, Validation Loss = 0.1222, Validation Accuracy = 0.8258\n"
     ]
    },
    {
     "name": "stderr",
     "output_type": "stream",
     "text": [
      "Best trial: 31. Best value: 0.137512: 100%|██████████| 50/50 [00:19<00:00,  2.58it/s]\n"
     ]
    },
    {
     "name": "stdout",
     "output_type": "stream",
     "text": [
      "Timestep 72.50% (Optimized): Training Loss = 0.1239, Accuracy = 0.8269, Validation Loss = 0.1212, Validation Accuracy = 0.8144\n"
     ]
    },
    {
     "name": "stderr",
     "output_type": "stream",
     "text": [
      "Best trial: 33. Best value: 0.128846: 100%|██████████| 50/50 [00:22<00:00,  2.21it/s]\n"
     ]
    },
    {
     "name": "stdout",
     "output_type": "stream",
     "text": [
      "Timestep 73.00% (Optimized): Training Loss = 0.1268, Accuracy = 0.8157, Validation Loss = 0.1087, Validation Accuracy = 0.8507\n"
     ]
    },
    {
     "name": "stderr",
     "output_type": "stream",
     "text": [
      "Best trial: 25. Best value: 0.135781: 100%|██████████| 50/50 [00:13<00:00,  3.68it/s]\n"
     ]
    },
    {
     "name": "stdout",
     "output_type": "stream",
     "text": [
      "Timestep 73.50% (Optimized): Training Loss = 0.1242, Accuracy = 0.8307, Validation Loss = 0.1174, Validation Accuracy = 0.8363\n"
     ]
    },
    {
     "name": "stderr",
     "output_type": "stream",
     "text": [
      "Best trial: 32. Best value: 0.130026: 100%|██████████| 50/50 [00:15<00:00,  3.15it/s]\n"
     ]
    },
    {
     "name": "stdout",
     "output_type": "stream",
     "text": [
      "Timestep 74.00% (Optimized): Training Loss = 0.1176, Accuracy = 0.8307, Validation Loss = 0.1158, Validation Accuracy = 0.8275\n"
     ]
    },
    {
     "name": "stderr",
     "output_type": "stream",
     "text": [
      "Best trial: 41. Best value: 0.131844: 100%|██████████| 50/50 [00:24<00:00,  2.04it/s]\n"
     ]
    },
    {
     "name": "stdout",
     "output_type": "stream",
     "text": [
      "Timestep 74.50% (Optimized): Training Loss = 0.1261, Accuracy = 0.8249, Validation Loss = 0.1157, Validation Accuracy = 0.8484\n",
      "Completed 150/201 timesteps\n"
     ]
    },
    {
     "name": "stderr",
     "output_type": "stream",
     "text": [
      "Best trial: 35. Best value: 0.139288: 100%|██████████| 50/50 [00:39<00:00,  1.26it/s]\n"
     ]
    },
    {
     "name": "stdout",
     "output_type": "stream",
     "text": [
      "Timestep 75.00% (Optimized): Training Loss = 0.1291, Accuracy = 0.7950, Validation Loss = 0.1216, Validation Accuracy = 0.8186\n"
     ]
    },
    {
     "name": "stderr",
     "output_type": "stream",
     "text": [
      "Best trial: 28. Best value: 0.142544: 100%|██████████| 50/50 [00:16<00:00,  3.11it/s]\n"
     ]
    },
    {
     "name": "stdout",
     "output_type": "stream",
     "text": [
      "Timestep 75.50% (Optimized): Training Loss = 0.1006, Accuracy = 0.8602, Validation Loss = 0.1176, Validation Accuracy = 0.8274\n"
     ]
    },
    {
     "name": "stderr",
     "output_type": "stream",
     "text": [
      "Best trial: 49. Best value: 0.120702: 100%|██████████| 50/50 [00:11<00:00,  4.29it/s]\n"
     ]
    },
    {
     "name": "stdout",
     "output_type": "stream",
     "text": [
      "Timestep 76.00% (Optimized): Training Loss = 0.1248, Accuracy = 0.8215, Validation Loss = 0.1024, Validation Accuracy = 0.8468\n"
     ]
    },
    {
     "name": "stderr",
     "output_type": "stream",
     "text": [
      "Best trial: 36. Best value: 0.110756: 100%|██████████| 50/50 [00:21<00:00,  2.38it/s]\n"
     ]
    },
    {
     "name": "stdout",
     "output_type": "stream",
     "text": [
      "Timestep 76.50% (Optimized): Training Loss = 0.1093, Accuracy = 0.8620, Validation Loss = 0.0969, Validation Accuracy = 0.8635\n"
     ]
    },
    {
     "name": "stderr",
     "output_type": "stream",
     "text": [
      "Best trial: 22. Best value: 0.130577: 100%|██████████| 50/50 [00:33<00:00,  1.49it/s]\n"
     ]
    },
    {
     "name": "stdout",
     "output_type": "stream",
     "text": [
      "Timestep 77.00% (Optimized): Training Loss = 0.1132, Accuracy = 0.8466, Validation Loss = 0.1191, Validation Accuracy = 0.8360\n"
     ]
    },
    {
     "name": "stderr",
     "output_type": "stream",
     "text": [
      "Best trial: 42. Best value: 0.120936: 100%|██████████| 50/50 [00:31<00:00,  1.57it/s]\n"
     ]
    },
    {
     "name": "stdout",
     "output_type": "stream",
     "text": [
      "Timestep 77.50% (Optimized): Training Loss = 0.1079, Accuracy = 0.8552, Validation Loss = 0.1034, Validation Accuracy = 0.8507\n"
     ]
    },
    {
     "name": "stderr",
     "output_type": "stream",
     "text": [
      "Best trial: 23. Best value: 0.127499: 100%|██████████| 50/50 [00:18<00:00,  2.74it/s]\n"
     ]
    },
    {
     "name": "stdout",
     "output_type": "stream",
     "text": [
      "Timestep 78.00% (Optimized): Training Loss = 0.1171, Accuracy = 0.8402, Validation Loss = 0.1092, Validation Accuracy = 0.8416\n"
     ]
    },
    {
     "name": "stderr",
     "output_type": "stream",
     "text": [
      "Best trial: 47. Best value: 0.108336: 100%|██████████| 50/50 [00:32<00:00,  1.52it/s]\n"
     ]
    },
    {
     "name": "stdout",
     "output_type": "stream",
     "text": [
      "Timestep 78.50% (Optimized): Training Loss = 0.1018, Accuracy = 0.8570, Validation Loss = 0.0949, Validation Accuracy = 0.8653\n"
     ]
    },
    {
     "name": "stderr",
     "output_type": "stream",
     "text": [
      "Best trial: 45. Best value: 0.113825: 100%|██████████| 50/50 [00:12<00:00,  4.16it/s]\n"
     ]
    },
    {
     "name": "stdout",
     "output_type": "stream",
     "text": [
      "Timestep 79.00% (Optimized): Training Loss = 0.1055, Accuracy = 0.8618, Validation Loss = 0.1006, Validation Accuracy = 0.8661\n"
     ]
    },
    {
     "name": "stderr",
     "output_type": "stream",
     "text": [
      "Best trial: 46. Best value: 0.121345: 100%|██████████| 50/50 [00:25<00:00,  1.97it/s]\n"
     ]
    },
    {
     "name": "stdout",
     "output_type": "stream",
     "text": [
      "Timestep 79.50% (Optimized): Training Loss = 0.1164, Accuracy = 0.8203, Validation Loss = 0.1068, Validation Accuracy = 0.8314\n"
     ]
    },
    {
     "name": "stderr",
     "output_type": "stream",
     "text": [
      "Best trial: 43. Best value: 0.115391: 100%|██████████| 50/50 [00:16<00:00,  3.11it/s]\n"
     ]
    },
    {
     "name": "stdout",
     "output_type": "stream",
     "text": [
      "Timestep 80.00% (Optimized): Training Loss = 0.0860, Accuracy = 0.8861, Validation Loss = 0.1058, Validation Accuracy = 0.8564\n"
     ]
    },
    {
     "name": "stderr",
     "output_type": "stream",
     "text": [
      "Best trial: 42. Best value: 0.112815: 100%|██████████| 50/50 [00:19<00:00,  2.57it/s]\n"
     ]
    },
    {
     "name": "stdout",
     "output_type": "stream",
     "text": [
      "Timestep 80.50% (Optimized): Training Loss = 0.1034, Accuracy = 0.8623, Validation Loss = 0.0994, Validation Accuracy = 0.8543\n"
     ]
    },
    {
     "name": "stderr",
     "output_type": "stream",
     "text": [
      "Best trial: 42. Best value: 0.115035: 100%|██████████| 50/50 [00:33<00:00,  1.48it/s]\n"
     ]
    },
    {
     "name": "stdout",
     "output_type": "stream",
     "text": [
      "Timestep 81.00% (Optimized): Training Loss = 0.1009, Accuracy = 0.8626, Validation Loss = 0.1042, Validation Accuracy = 0.8591\n"
     ]
    },
    {
     "name": "stderr",
     "output_type": "stream",
     "text": [
      "Best trial: 40. Best value: 0.116043: 100%|██████████| 50/50 [00:12<00:00,  4.09it/s]\n"
     ]
    },
    {
     "name": "stdout",
     "output_type": "stream",
     "text": [
      "Timestep 81.50% (Optimized): Training Loss = 0.1073, Accuracy = 0.8482, Validation Loss = 0.1018, Validation Accuracy = 0.8644\n"
     ]
    },
    {
     "name": "stderr",
     "output_type": "stream",
     "text": [
      "Best trial: 34. Best value: 0.126777: 100%|██████████| 50/50 [00:14<00:00,  3.54it/s]\n"
     ]
    },
    {
     "name": "stdout",
     "output_type": "stream",
     "text": [
      "Timestep 82.00% (Optimized): Training Loss = 0.1103, Accuracy = 0.8280, Validation Loss = 0.1085, Validation Accuracy = 0.8406\n"
     ]
    },
    {
     "name": "stderr",
     "output_type": "stream",
     "text": [
      "Best trial: 38. Best value: 0.111725: 100%|██████████| 50/50 [00:11<00:00,  4.29it/s]\n"
     ]
    },
    {
     "name": "stdout",
     "output_type": "stream",
     "text": [
      "Timestep 82.50% (Optimized): Training Loss = 0.1140, Accuracy = 0.8401, Validation Loss = 0.0947, Validation Accuracy = 0.8672\n"
     ]
    },
    {
     "name": "stderr",
     "output_type": "stream",
     "text": [
      "Best trial: 40. Best value: 0.0999218: 100%|██████████| 50/50 [00:15<00:00,  3.23it/s]\n"
     ]
    },
    {
     "name": "stdout",
     "output_type": "stream",
     "text": [
      "Timestep 83.00% (Optimized): Training Loss = 0.1043, Accuracy = 0.8585, Validation Loss = 0.0837, Validation Accuracy = 0.8854\n"
     ]
    },
    {
     "name": "stderr",
     "output_type": "stream",
     "text": [
      "Best trial: 43. Best value: 0.11799: 100%|██████████| 50/50 [00:16<00:00,  3.08it/s] \n"
     ]
    },
    {
     "name": "stdout",
     "output_type": "stream",
     "text": [
      "Timestep 83.50% (Optimized): Training Loss = 0.0946, Accuracy = 0.8750, Validation Loss = 0.1069, Validation Accuracy = 0.8504\n"
     ]
    },
    {
     "name": "stderr",
     "output_type": "stream",
     "text": [
      "Best trial: 48. Best value: 0.118027: 100%|██████████| 50/50 [00:20<00:00,  2.45it/s]\n"
     ]
    },
    {
     "name": "stdout",
     "output_type": "stream",
     "text": [
      "Timestep 84.00% (Optimized): Training Loss = 0.0849, Accuracy = 0.8844, Validation Loss = 0.1063, Validation Accuracy = 0.8486\n"
     ]
    },
    {
     "name": "stderr",
     "output_type": "stream",
     "text": [
      "Best trial: 45. Best value: 0.0911286: 100%|██████████| 50/50 [00:24<00:00,  2.05it/s]\n"
     ]
    },
    {
     "name": "stdout",
     "output_type": "stream",
     "text": [
      "Timestep 84.50% (Optimized): Training Loss = 0.0935, Accuracy = 0.8771, Validation Loss = 0.0827, Validation Accuracy = 0.8870\n"
     ]
    },
    {
     "name": "stderr",
     "output_type": "stream",
     "text": [
      "Best trial: 48. Best value: 0.108521: 100%|██████████| 50/50 [00:17<00:00,  2.93it/s]\n"
     ]
    },
    {
     "name": "stdout",
     "output_type": "stream",
     "text": [
      "Timestep 85.00% (Optimized): Training Loss = 0.0897, Accuracy = 0.8820, Validation Loss = 0.0996, Validation Accuracy = 0.8649\n"
     ]
    },
    {
     "name": "stderr",
     "output_type": "stream",
     "text": [
      "Best trial: 46. Best value: 0.122166: 100%|██████████| 50/50 [00:17<00:00,  2.83it/s]\n"
     ]
    },
    {
     "name": "stdout",
     "output_type": "stream",
     "text": [
      "Timestep 85.50% (Optimized): Training Loss = 0.1008, Accuracy = 0.8691, Validation Loss = 0.1063, Validation Accuracy = 0.8402\n"
     ]
    },
    {
     "name": "stderr",
     "output_type": "stream",
     "text": [
      "Best trial: 41. Best value: 0.111196: 100%|██████████| 50/50 [00:21<00:00,  2.34it/s]\n"
     ]
    },
    {
     "name": "stdout",
     "output_type": "stream",
     "text": [
      "Timestep 86.00% (Optimized): Training Loss = 0.0936, Accuracy = 0.8696, Validation Loss = 0.0998, Validation Accuracy = 0.8529\n"
     ]
    },
    {
     "name": "stderr",
     "output_type": "stream",
     "text": [
      "Best trial: 47. Best value: 0.110616: 100%|██████████| 50/50 [00:10<00:00,  4.94it/s]\n"
     ]
    },
    {
     "name": "stdout",
     "output_type": "stream",
     "text": [
      "Timestep 86.50% (Optimized): Training Loss = 0.0979, Accuracy = 0.8496, Validation Loss = 0.0977, Validation Accuracy = 0.8560\n"
     ]
    },
    {
     "name": "stderr",
     "output_type": "stream",
     "text": [
      "Best trial: 43. Best value: 0.101304: 100%|██████████| 50/50 [00:09<00:00,  5.38it/s]\n"
     ]
    },
    {
     "name": "stdout",
     "output_type": "stream",
     "text": [
      "Timestep 87.00% (Optimized): Training Loss = 0.0972, Accuracy = 0.8682, Validation Loss = 0.0897, Validation Accuracy = 0.8771\n"
     ]
    },
    {
     "name": "stderr",
     "output_type": "stream",
     "text": [
      "Best trial: 46. Best value: 0.10557: 100%|██████████| 50/50 [00:10<00:00,  4.79it/s] \n"
     ]
    },
    {
     "name": "stdout",
     "output_type": "stream",
     "text": [
      "Timestep 87.50% (Optimized): Training Loss = 0.1074, Accuracy = 0.8449, Validation Loss = 0.0846, Validation Accuracy = 0.8732\n"
     ]
    },
    {
     "name": "stderr",
     "output_type": "stream",
     "text": [
      "Best trial: 31. Best value: 0.0939901: 100%|██████████| 50/50 [00:16<00:00,  3.09it/s]\n"
     ]
    },
    {
     "name": "stdout",
     "output_type": "stream",
     "text": [
      "Timestep 88.00% (Optimized): Training Loss = 0.0744, Accuracy = 0.8798, Validation Loss = 0.0815, Validation Accuracy = 0.8689\n"
     ]
    },
    {
     "name": "stderr",
     "output_type": "stream",
     "text": [
      "Best trial: 47. Best value: 0.108876: 100%|██████████| 50/50 [00:11<00:00,  4.33it/s]\n"
     ]
    },
    {
     "name": "stdout",
     "output_type": "stream",
     "text": [
      "Timestep 88.50% (Optimized): Training Loss = 0.0965, Accuracy = 0.8676, Validation Loss = 0.0960, Validation Accuracy = 0.8571\n"
     ]
    },
    {
     "name": "stderr",
     "output_type": "stream",
     "text": [
      "Best trial: 21. Best value: 0.0898339: 100%|██████████| 50/50 [00:11<00:00,  4.37it/s]\n"
     ]
    },
    {
     "name": "stdout",
     "output_type": "stream",
     "text": [
      "Timestep 89.00% (Optimized): Training Loss = 0.0879, Accuracy = 0.8754, Validation Loss = 0.0731, Validation Accuracy = 0.8909\n"
     ]
    },
    {
     "name": "stderr",
     "output_type": "stream",
     "text": [
      "Best trial: 35. Best value: 0.0786406: 100%|██████████| 50/50 [00:08<00:00,  5.60it/s]\n"
     ]
    },
    {
     "name": "stdout",
     "output_type": "stream",
     "text": [
      "Timestep 89.50% (Optimized): Training Loss = 0.0918, Accuracy = 0.8842, Validation Loss = 0.0650, Validation Accuracy = 0.9093\n"
     ]
    },
    {
     "name": "stderr",
     "output_type": "stream",
     "text": [
      "Best trial: 29. Best value: 0.0817028: 100%|██████████| 50/50 [00:13<00:00,  3.80it/s]\n"
     ]
    },
    {
     "name": "stdout",
     "output_type": "stream",
     "text": [
      "Timestep 90.00% (Optimized): Training Loss = 0.1011, Accuracy = 0.8424, Validation Loss = 0.0667, Validation Accuracy = 0.8860\n"
     ]
    },
    {
     "name": "stderr",
     "output_type": "stream",
     "text": [
      "Best trial: 22. Best value: 0.0913043: 100%|██████████| 50/50 [00:17<00:00,  2.83it/s]\n"
     ]
    },
    {
     "name": "stdout",
     "output_type": "stream",
     "text": [
      "Timestep 90.50% (Optimized): Training Loss = 0.0932, Accuracy = 0.8694, Validation Loss = 0.0730, Validation Accuracy = 0.8944\n"
     ]
    },
    {
     "name": "stderr",
     "output_type": "stream",
     "text": [
      "Best trial: 27. Best value: 0.102151: 100%|██████████| 50/50 [00:10<00:00,  4.90it/s]\n"
     ]
    },
    {
     "name": "stdout",
     "output_type": "stream",
     "text": [
      "Timestep 91.00% (Optimized): Training Loss = 0.0944, Accuracy = 0.8636, Validation Loss = 0.0874, Validation Accuracy = 0.8683\n"
     ]
    },
    {
     "name": "stderr",
     "output_type": "stream",
     "text": [
      "Best trial: 23. Best value: 0.0728681: 100%|██████████| 50/50 [00:16<00:00,  3.08it/s]\n"
     ]
    },
    {
     "name": "stdout",
     "output_type": "stream",
     "text": [
      "Timestep 91.50% (Optimized): Training Loss = 0.0847, Accuracy = 0.8788, Validation Loss = 0.0598, Validation Accuracy = 0.9093\n"
     ]
    },
    {
     "name": "stderr",
     "output_type": "stream",
     "text": [
      "Best trial: 22. Best value: 0.0858814: 100%|██████████| 50/50 [00:19<00:00,  2.52it/s]\n"
     ]
    },
    {
     "name": "stdout",
     "output_type": "stream",
     "text": [
      "Timestep 92.00% (Optimized): Training Loss = 0.0867, Accuracy = 0.8714, Validation Loss = 0.0725, Validation Accuracy = 0.8821\n"
     ]
    },
    {
     "name": "stderr",
     "output_type": "stream",
     "text": [
      "Best trial: 49. Best value: 0.0835255: 100%|██████████| 50/50 [00:14<00:00,  3.50it/s]\n"
     ]
    },
    {
     "name": "stdout",
     "output_type": "stream",
     "text": [
      "Timestep 92.50% (Optimized): Training Loss = 0.0907, Accuracy = 0.8759, Validation Loss = 0.0687, Validation Accuracy = 0.9055\n"
     ]
    },
    {
     "name": "stderr",
     "output_type": "stream",
     "text": [
      "Best trial: 37. Best value: 0.0803829: 100%|██████████| 50/50 [00:13<00:00,  3.85it/s]\n"
     ]
    },
    {
     "name": "stdout",
     "output_type": "stream",
     "text": [
      "Timestep 93.00% (Optimized): Training Loss = 0.0808, Accuracy = 0.8814, Validation Loss = 0.0661, Validation Accuracy = 0.9036\n"
     ]
    },
    {
     "name": "stderr",
     "output_type": "stream",
     "text": [
      "Best trial: 15. Best value: 0.0905423: 100%|██████████| 50/50 [00:10<00:00,  4.57it/s]\n"
     ]
    },
    {
     "name": "stdout",
     "output_type": "stream",
     "text": [
      "Timestep 93.50% (Optimized): Training Loss = 0.0792, Accuracy = 0.8901, Validation Loss = 0.0805, Validation Accuracy = 0.8913\n"
     ]
    },
    {
     "name": "stderr",
     "output_type": "stream",
     "text": [
      "Best trial: 45. Best value: 0.0836832: 100%|██████████| 50/50 [00:14<00:00,  3.39it/s]\n"
     ]
    },
    {
     "name": "stdout",
     "output_type": "stream",
     "text": [
      "Timestep 94.00% (Optimized): Training Loss = 0.0773, Accuracy = 0.8933, Validation Loss = 0.0720, Validation Accuracy = 0.8903\n"
     ]
    },
    {
     "name": "stderr",
     "output_type": "stream",
     "text": [
      "Best trial: 21. Best value: 0.0912285: 100%|██████████| 50/50 [00:12<00:00,  3.91it/s]\n"
     ]
    },
    {
     "name": "stdout",
     "output_type": "stream",
     "text": [
      "Timestep 94.50% (Optimized): Training Loss = 0.0755, Accuracy = 0.9003, Validation Loss = 0.0817, Validation Accuracy = 0.8799\n"
     ]
    },
    {
     "name": "stderr",
     "output_type": "stream",
     "text": [
      "Best trial: 38. Best value: 0.0867594: 100%|██████████| 50/50 [00:15<00:00,  3.27it/s]\n"
     ]
    },
    {
     "name": "stdout",
     "output_type": "stream",
     "text": [
      "Timestep 95.00% (Optimized): Training Loss = 0.0754, Accuracy = 0.8917, Validation Loss = 0.0768, Validation Accuracy = 0.8891\n"
     ]
    },
    {
     "name": "stderr",
     "output_type": "stream",
     "text": [
      "Best trial: 38. Best value: 0.0896031: 100%|██████████| 50/50 [00:16<00:00,  2.96it/s]\n"
     ]
    },
    {
     "name": "stdout",
     "output_type": "stream",
     "text": [
      "Timestep 95.50% (Optimized): Training Loss = 0.0788, Accuracy = 0.8925, Validation Loss = 0.0772, Validation Accuracy = 0.8920\n"
     ]
    },
    {
     "name": "stderr",
     "output_type": "stream",
     "text": [
      "Best trial: 45. Best value: 0.0970993: 100%|██████████| 50/50 [00:17<00:00,  2.81it/s]\n"
     ]
    },
    {
     "name": "stdout",
     "output_type": "stream",
     "text": [
      "Timestep 96.00% (Optimized): Training Loss = 0.0828, Accuracy = 0.8841, Validation Loss = 0.0859, Validation Accuracy = 0.8766\n"
     ]
    },
    {
     "name": "stderr",
     "output_type": "stream",
     "text": [
      "Best trial: 43. Best value: 0.0850222: 100%|██████████| 50/50 [00:20<00:00,  2.45it/s]\n"
     ]
    },
    {
     "name": "stdout",
     "output_type": "stream",
     "text": [
      "Timestep 96.50% (Optimized): Training Loss = 0.0750, Accuracy = 0.8970, Validation Loss = 0.0716, Validation Accuracy = 0.9031\n"
     ]
    },
    {
     "name": "stderr",
     "output_type": "stream",
     "text": [
      "Best trial: 43. Best value: 0.0843766: 100%|██████████| 50/50 [00:23<00:00,  2.16it/s]\n"
     ]
    },
    {
     "name": "stdout",
     "output_type": "stream",
     "text": [
      "Timestep 97.00% (Optimized): Training Loss = 0.0745, Accuracy = 0.9011, Validation Loss = 0.0733, Validation Accuracy = 0.8990\n"
     ]
    },
    {
     "name": "stderr",
     "output_type": "stream",
     "text": [
      "Best trial: 48. Best value: 0.0913511: 100%|██████████| 50/50 [00:15<00:00,  3.23it/s]\n"
     ]
    },
    {
     "name": "stdout",
     "output_type": "stream",
     "text": [
      "Timestep 97.50% (Optimized): Training Loss = 0.0817, Accuracy = 0.8890, Validation Loss = 0.0772, Validation Accuracy = 0.8815\n"
     ]
    },
    {
     "name": "stderr",
     "output_type": "stream",
     "text": [
      "Best trial: 47. Best value: 0.0779992: 100%|██████████| 50/50 [00:21<00:00,  2.31it/s]\n"
     ]
    },
    {
     "name": "stdout",
     "output_type": "stream",
     "text": [
      "Timestep 98.00% (Optimized): Training Loss = 0.0519, Accuracy = 0.9131, Validation Loss = 0.0651, Validation Accuracy = 0.8897\n"
     ]
    },
    {
     "name": "stderr",
     "output_type": "stream",
     "text": [
      "Best trial: 34. Best value: 0.0680988: 100%|██████████| 50/50 [00:16<00:00,  3.12it/s]\n"
     ]
    },
    {
     "name": "stdout",
     "output_type": "stream",
     "text": [
      "Timestep 98.50% (Optimized): Training Loss = 0.0355, Accuracy = 0.9566, Validation Loss = 0.0598, Validation Accuracy = 0.9221\n"
     ]
    },
    {
     "name": "stderr",
     "output_type": "stream",
     "text": [
      "Best trial: 42. Best value: 0.0983669: 100%|██████████| 50/50 [00:12<00:00,  3.96it/s]\n"
     ]
    },
    {
     "name": "stdout",
     "output_type": "stream",
     "text": [
      "Timestep 99.00% (Optimized): Training Loss = 0.0831, Accuracy = 0.8681, Validation Loss = 0.0771, Validation Accuracy = 0.8739\n"
     ]
    },
    {
     "name": "stderr",
     "output_type": "stream",
     "text": [
      "Best trial: 49. Best value: 0.0848149: 100%|██████████| 50/50 [00:14<00:00,  3.53it/s]\n"
     ]
    },
    {
     "name": "stdout",
     "output_type": "stream",
     "text": [
      "Timestep 99.50% (Optimized): Training Loss = 0.0614, Accuracy = 0.9113, Validation Loss = 0.0701, Validation Accuracy = 0.8824\n",
      "Completed 200/201 timesteps\n"
     ]
    },
    {
     "name": "stderr",
     "output_type": "stream",
     "text": [
      "Best trial: 46. Best value: 0.0439745: 100%|██████████| 50/50 [00:19<00:00,  2.51it/s]\n"
     ]
    },
    {
     "name": "stdout",
     "output_type": "stream",
     "text": [
      "Timestep 100.00% (Optimized): Training Loss = 0.0347, Accuracy = 0.9540, Validation Loss = 0.0363, Validation Accuracy = 0.9474\n",
      "Completed 201/201 timesteps\n"
     ]
    }
   ],
   "source": [
    "modules_to_reload = [\n",
    "    'models.xg_boost',\n",
    "]\n",
    "\n",
    "for module_name in modules_to_reload:\n",
    "    if module_name in sys.modules:\n",
    "        del sys.modules[module_name]\n",
    "import process_data\n",
    "\n",
    "from models.xg_boost import setup_xgboost_models\n",
    "other_features = [\n",
    "            \"type.id\",             # Play type (categorical)\n",
    "            \"home_has_possession\", # Binary indicator\n",
    "            \"end.down\",            # Down number (1-4, discrete)\n",
    "            \"home_timeouts_left\",  # Discrete count (0-3)\n",
    "            \"away_timeouts_left\",  # Discrete count (0-3)\n",
    "        ]\n",
    "numeric_features = [\n",
    "    \"score_difference\",\n",
    "    \"relative_strength\", \n",
    "    \"end.yardsToEndzone\", \n",
    "    \"end.distance\", \n",
    "    \"field_position_shift\"\n",
    "]\n",
    "models = setup_xgboost_models(training_data, validation_data, numeric_features = numeric_features, other_features = other_features, optimize_hyperparams=True, use_calibration=True)\n"
   ]
  },
  {
   "cell_type": "code",
   "execution_count": 17,
   "metadata": {},
   "outputs": [],
   "source": [
    "def setup_single_model(training_data, test_data):\n",
    "    # Flatten all training data into single arrays\n",
    "    X_train = []\n",
    "    y_train = []\n",
    "    for timestep in training_data:\n",
    "        for row in training_data[timestep]:\n",
    "            X_train.append(row[\"rows\"].reshape(-1))\n",
    "            y_train.append(row[\"label\"])\n",
    "    X_train = np.array(X_train)\n",
    "    y_train = np.array(y_train)\n",
    "\n",
    "    # Flatten all test data into single arrays  \n",
    "    X_test = []\n",
    "    y_test = []\n",
    "    for timestep in test_data:\n",
    "        for row in test_data[timestep]:\n",
    "            X_test.append(row[\"rows\"].reshape(-1))\n",
    "            y_test.append(row[\"label\"])\n",
    "    X_test = np.array(X_test)\n",
    "    y_test = np.array(y_test)\n",
    "\n",
    "    # Train with enhanced regularization\n",
    "    model = LightGBM(use_calibration=True)\n",
    "    model.fit(X_train, y_train)\n",
    "\n",
    "    # Evaluate performance\n",
    "    y_test_pred = model.predict_proba(X_test)[:, 1]\n",
    "    test_loss = brier_loss(y_test, y_test_pred)\n",
    "    test_accuracy = model.score(X_test, y_test)\n",
    "\n",
    "    print(f\"Test Loss = {test_loss:.4f}, Test Accuracy = {test_accuracy:.4f}\")\n",
    "\n",
    "    return model\n",
    "\n",
    "# model = setup_single_model(training_data, test_data)"
   ]
  },
  {
   "cell_type": "code",
   "execution_count": 25,
   "metadata": {},
   "outputs": [
    {
     "ename": "KeyError",
     "evalue": "'model'",
     "output_type": "error",
     "traceback": [
      "\u001b[0;31m---------------------------------------------------------------------------\u001b[0m",
      "\u001b[0;31mKeyError\u001b[0m                                  Traceback (most recent call last)",
      "Cell \u001b[0;32mIn[25], line 10\u001b[0m\n\u001b[1;32m      7\u001b[0m     \u001b[38;5;28;01mif\u001b[39;00m module_name \u001b[38;5;129;01min\u001b[39;00m sys\u001b[38;5;241m.\u001b[39mmodules:\n\u001b[1;32m      8\u001b[0m         \u001b[38;5;28;01mdel\u001b[39;00m sys\u001b[38;5;241m.\u001b[39mmodules[module_name]\n\u001b[0;32m---> 10\u001b[0m x \u001b[38;5;241m=\u001b[39m \u001b[43mprocess_data\u001b[49m\u001b[38;5;241;43m.\u001b[39;49m\u001b[43mplot_loss\u001b[49m\u001b[43m(\u001b[49m\u001b[43mmodels\u001b[49m\u001b[43m,\u001b[49m\u001b[43m \u001b[49m\u001b[43mtest_data\u001b[49m\u001b[43m,\u001b[49m\u001b[43m \u001b[49m\u001b[38;5;124;43m\"\u001b[39;49m\u001b[38;5;124;43mLogistic Regression\u001b[39;49m\u001b[38;5;124;43m\"\u001b[39;49m\u001b[43m)\u001b[49m\n",
      "File \u001b[0;32m~/Documents/University_of_Waterloo/Winter 2025/Research/code/NFL/ML/notebooks/process_data.py:279\u001b[0m, in \u001b[0;36mplot_loss\u001b[0;34m(models, test_data, title)\u001b[0m\n\u001b[1;32m    277\u001b[0m labels_by_model \u001b[38;5;241m=\u001b[39m defaultdict(\u001b[38;5;28mlist\u001b[39m)\n\u001b[1;32m    278\u001b[0m \u001b[38;5;28;01mfor\u001b[39;00m e \u001b[38;5;129;01min\u001b[39;00m entries:\n\u001b[0;32m--> 279\u001b[0m     rows_by_model[\u001b[43me\u001b[49m\u001b[43m[\u001b[49m\u001b[38;5;124;43m\"\u001b[39;49m\u001b[38;5;124;43mmodel\u001b[39;49m\u001b[38;5;124;43m\"\u001b[39;49m\u001b[43m]\u001b[49m]\u001b[38;5;241m.\u001b[39mappend(e[\u001b[38;5;124m\"\u001b[39m\u001b[38;5;124mrows\u001b[39m\u001b[38;5;124m\"\u001b[39m])\n\u001b[1;32m    280\u001b[0m     labels_by_model[e[\u001b[38;5;124m\"\u001b[39m\u001b[38;5;124mmodel\u001b[39m\u001b[38;5;124m\"\u001b[39m]]\u001b[38;5;241m.\u001b[39mappend(e[\u001b[38;5;124m'\u001b[39m\u001b[38;5;124mlabel\u001b[39m\u001b[38;5;124m'\u001b[39m])\n\u001b[1;32m    281\u001b[0m \u001b[38;5;66;03m# Predict probabilities in batches per model (preserve ordering of rows_by_model groups)\u001b[39;00m\n",
      "\u001b[0;31mKeyError\u001b[0m: 'model'"
     ]
    }
   ],
   "source": [
    "import process_data\n",
    "modules_to_reload = [\n",
    "    'process_data',\n",
    "]\n",
    "\n",
    "for module_name in modules_to_reload:\n",
    "    if module_name in sys.modules:\n",
    "        del sys.modules[module_name]\n",
    "\n",
    "x = process_data.plot_loss(models, test_data, \"Logistic Regression\")"
   ]
  },
  {
   "cell_type": "code",
   "execution_count": 18,
   "metadata": {},
   "outputs": [
    {
     "name": "stdout",
     "output_type": "stream",
     "text": [
      "Timestep 0.00%: Accuracy = 0.6997, Brier Score = 0.2137\n",
      "Timestep 0.50%: Accuracy = 0.6408, Brier Score = 0.2262\n",
      "Timestep 1.00%: Accuracy = 0.6836, Brier Score = 0.2268\n",
      "Timestep 1.50%: Accuracy = 0.6870, Brier Score = 0.2246\n",
      "Timestep 2.00%: Accuracy = 0.6614, Brier Score = 0.2207\n",
      "Timestep 2.50%: Accuracy = 0.6216, Brier Score = 0.2295\n",
      "Timestep 3.00%: Accuracy = 0.6818, Brier Score = 0.2157\n",
      "Timestep 3.50%: Accuracy = 0.6989, Brier Score = 0.2177\n",
      "Timestep 4.00%: Accuracy = 0.6555, Brier Score = 0.2321\n",
      "Timestep 4.50%: Accuracy = 0.6535, Brier Score = 0.2187\n",
      "Timestep 5.00%: Accuracy = 0.6261, Brier Score = 0.2179\n",
      "Timestep 5.50%: Accuracy = 0.6687, Brier Score = 0.2369\n",
      "Timestep 6.00%: Accuracy = 0.6974, Brier Score = 0.2154\n",
      "Timestep 6.50%: Accuracy = 0.6830, Brier Score = 0.2255\n",
      "Timestep 7.00%: Accuracy = 0.6667, Brier Score = 0.2294\n",
      "Timestep 7.50%: Accuracy = 0.6480, Brier Score = 0.2104\n",
      "Timestep 8.00%: Accuracy = 0.6457, Brier Score = 0.2159\n",
      "Timestep 8.50%: Accuracy = 0.6796, Brier Score = 0.2070\n",
      "Timestep 9.00%: Accuracy = 0.6820, Brier Score = 0.2181\n",
      "Timestep 9.50%: Accuracy = 0.7069, Brier Score = 0.2097\n",
      "Timestep 10.00%: Accuracy = 0.7078, Brier Score = 0.2086\n",
      "Timestep 10.50%: Accuracy = 0.6414, Brier Score = 0.2113\n",
      "Timestep 11.00%: Accuracy = 0.6478, Brier Score = 0.2142\n",
      "Timestep 11.50%: Accuracy = 0.6834, Brier Score = 0.2113\n",
      "Timestep 12.00%: Accuracy = 0.7223, Brier Score = 0.1996\n",
      "Timestep 12.50%: Accuracy = 0.6768, Brier Score = 0.2128\n",
      "Timestep 13.00%: Accuracy = 0.6963, Brier Score = 0.2049\n",
      "Timestep 13.50%: Accuracy = 0.6720, Brier Score = 0.2339\n",
      "Timestep 14.00%: Accuracy = 0.7480, Brier Score = 0.1905\n",
      "Timestep 14.50%: Accuracy = 0.6850, Brier Score = 0.2110\n",
      "Timestep 15.00%: Accuracy = 0.6667, Brier Score = 0.2177\n",
      "Timestep 15.50%: Accuracy = 0.7121, Brier Score = 0.1966\n",
      "Timestep 16.00%: Accuracy = 0.6981, Brier Score = 0.1994\n",
      "Timestep 16.50%: Accuracy = 0.6653, Brier Score = 0.2117\n",
      "Timestep 17.00%: Accuracy = 0.7181, Brier Score = 0.1931\n",
      "Timestep 17.50%: Accuracy = 0.6860, Brier Score = 0.2115\n",
      "Timestep 18.00%: Accuracy = 0.6775, Brier Score = 0.2027\n",
      "Timestep 18.50%: Accuracy = 0.6688, Brier Score = 0.2121\n",
      "Timestep 19.00%: Accuracy = 0.6358, Brier Score = 0.2323\n",
      "Timestep 19.50%: Accuracy = 0.6984, Brier Score = 0.1968\n",
      "Timestep 20.00%: Accuracy = 0.6779, Brier Score = 0.2139\n",
      "Timestep 20.50%: Accuracy = 0.6512, Brier Score = 0.2183\n",
      "Timestep 21.00%: Accuracy = 0.6894, Brier Score = 0.2076\n",
      "Timestep 21.50%: Accuracy = 0.6627, Brier Score = 0.2220\n",
      "Timestep 22.00%: Accuracy = 0.6421, Brier Score = 0.2105\n",
      "Timestep 22.50%: Accuracy = 0.6646, Brier Score = 0.2066\n",
      "Timestep 23.00%: Accuracy = 0.6493, Brier Score = 0.2048\n",
      "Timestep 23.50%: Accuracy = 0.6536, Brier Score = 0.2145\n",
      "Timestep 24.00%: Accuracy = 0.5858, Brier Score = 0.2226\n",
      "Timestep 24.50%: Accuracy = 0.6297, Brier Score = 0.2138\n",
      "Timestep 25.00%: Accuracy = 0.6386, Brier Score = 0.2099\n",
      "Timestep 25.50%: Accuracy = 0.6266, Brier Score = 0.2255\n",
      "Timestep 26.00%: Accuracy = 0.6501, Brier Score = 0.2093\n",
      "Timestep 26.50%: Accuracy = 0.6937, Brier Score = 0.2169\n",
      "Timestep 27.00%: Accuracy = 0.7080, Brier Score = 0.1882\n",
      "Timestep 27.50%: Accuracy = 0.6515, Brier Score = 0.2106\n",
      "Timestep 28.00%: Accuracy = 0.6461, Brier Score = 0.2159\n",
      "Timestep 28.50%: Accuracy = 0.6647, Brier Score = 0.2137\n",
      "Timestep 29.00%: Accuracy = 0.6875, Brier Score = 0.1896\n",
      "Timestep 29.50%: Accuracy = 0.6901, Brier Score = 0.1957\n",
      "Timestep 30.00%: Accuracy = 0.6722, Brier Score = 0.1979\n",
      "Timestep 30.50%: Accuracy = 0.6441, Brier Score = 0.2072\n",
      "Timestep 31.00%: Accuracy = 0.6775, Brier Score = 0.1989\n",
      "Timestep 31.50%: Accuracy = 0.6591, Brier Score = 0.2141\n",
      "Timestep 32.00%: Accuracy = 0.6490, Brier Score = 0.2037\n",
      "Timestep 32.50%: Accuracy = 0.6419, Brier Score = 0.2046\n",
      "Timestep 33.00%: Accuracy = 0.6718, Brier Score = 0.1993\n",
      "Timestep 33.50%: Accuracy = 0.7193, Brier Score = 0.1908\n",
      "Timestep 34.00%: Accuracy = 0.6639, Brier Score = 0.2067\n",
      "Timestep 34.50%: Accuracy = 0.6762, Brier Score = 0.2002\n",
      "Timestep 35.00%: Accuracy = 0.7152, Brier Score = 0.1921\n",
      "Timestep 35.50%: Accuracy = 0.6280, Brier Score = 0.2042\n",
      "Timestep 36.00%: Accuracy = 0.7155, Brier Score = 0.1820\n",
      "Timestep 36.50%: Accuracy = 0.7204, Brier Score = 0.1860\n",
      "Timestep 37.00%: Accuracy = 0.6746, Brier Score = 0.1845\n",
      "Timestep 37.50%: Accuracy = 0.6887, Brier Score = 0.1909\n",
      "Timestep 38.00%: Accuracy = 0.7004, Brier Score = 0.1824\n",
      "Timestep 38.50%: Accuracy = 0.7283, Brier Score = 0.1749\n",
      "Timestep 39.00%: Accuracy = 0.7332, Brier Score = 0.1755\n",
      "Timestep 39.50%: Accuracy = 0.7341, Brier Score = 0.1785\n",
      "Timestep 40.00%: Accuracy = 0.7041, Brier Score = 0.1816\n",
      "Timestep 40.50%: Accuracy = 0.7201, Brier Score = 0.1710\n",
      "Timestep 41.00%: Accuracy = 0.7148, Brier Score = 0.1880\n",
      "Timestep 41.50%: Accuracy = 0.7357, Brier Score = 0.1694\n",
      "Timestep 42.00%: Accuracy = 0.7165, Brier Score = 0.1880\n",
      "Timestep 42.50%: Accuracy = 0.7424, Brier Score = 0.1754\n",
      "Timestep 43.00%: Accuracy = 0.7428, Brier Score = 0.1844\n",
      "Timestep 43.50%: Accuracy = 0.7468, Brier Score = 0.1731\n",
      "Timestep 44.00%: Accuracy = 0.7604, Brier Score = 0.1685\n",
      "Timestep 44.50%: Accuracy = 0.7255, Brier Score = 0.1620\n",
      "Timestep 45.00%: Accuracy = 0.7903, Brier Score = 0.1550\n",
      "Timestep 45.50%: Accuracy = 0.7583, Brier Score = 0.1634\n",
      "Timestep 46.00%: Accuracy = 0.7657, Brier Score = 0.1711\n",
      "Timestep 46.50%: Accuracy = 0.7982, Brier Score = 0.1403\n",
      "Timestep 47.00%: Accuracy = 0.7717, Brier Score = 0.1656\n",
      "Timestep 47.50%: Accuracy = 0.7799, Brier Score = 0.1580\n",
      "Timestep 48.00%: Accuracy = 0.7857, Brier Score = 0.1628\n",
      "Timestep 48.50%: Accuracy = 0.7710, Brier Score = 0.1660\n",
      "Timestep 49.00%: Accuracy = 0.7857, Brier Score = 0.1506\n",
      "Timestep 49.50%: Accuracy = 0.7710, Brier Score = 0.1556\n",
      "Timestep 50.00%: Accuracy = 0.7420, Brier Score = 0.1686\n",
      "Timestep 50.50%: Accuracy = 0.7847, Brier Score = 0.1496\n",
      "Timestep 51.00%: Accuracy = 0.7646, Brier Score = 0.1592\n",
      "Timestep 51.50%: Accuracy = 0.7610, Brier Score = 0.1586\n",
      "Timestep 52.00%: Accuracy = 0.7826, Brier Score = 0.1465\n",
      "Timestep 52.50%: Accuracy = 0.7734, Brier Score = 0.1573\n",
      "Timestep 53.00%: Accuracy = 0.7439, Brier Score = 0.1694\n",
      "Timestep 53.50%: Accuracy = 0.7458, Brier Score = 0.1614\n",
      "Timestep 54.00%: Accuracy = 0.7723, Brier Score = 0.1575\n",
      "Timestep 54.50%: Accuracy = 0.7956, Brier Score = 0.1504\n",
      "Timestep 55.00%: Accuracy = 0.7841, Brier Score = 0.1444\n",
      "Timestep 55.50%: Accuracy = 0.7505, Brier Score = 0.1644\n",
      "Timestep 56.00%: Accuracy = 0.7680, Brier Score = 0.1552\n",
      "Timestep 56.50%: Accuracy = 0.7639, Brier Score = 0.1533\n",
      "Timestep 57.00%: Accuracy = 0.7714, Brier Score = 0.1625\n",
      "Timestep 57.50%: Accuracy = 0.7830, Brier Score = 0.1495\n",
      "Timestep 58.00%: Accuracy = 0.7934, Brier Score = 0.1407\n",
      "Timestep 58.50%: Accuracy = 0.7856, Brier Score = 0.1496\n",
      "Timestep 59.00%: Accuracy = 0.8124, Brier Score = 0.1331\n",
      "Timestep 59.50%: Accuracy = 0.8073, Brier Score = 0.1604\n",
      "Timestep 60.00%: Accuracy = 0.8136, Brier Score = 0.1332\n",
      "Timestep 60.50%: Accuracy = 0.7718, Brier Score = 0.1490\n",
      "Timestep 61.00%: Accuracy = 0.7803, Brier Score = 0.1470\n",
      "Timestep 61.50%: Accuracy = 0.7717, Brier Score = 0.1436\n",
      "Timestep 62.00%: Accuracy = 0.7378, Brier Score = 0.1618\n",
      "Timestep 62.50%: Accuracy = 0.8187, Brier Score = 0.1315\n",
      "Timestep 63.00%: Accuracy = 0.7896, Brier Score = 0.1466\n",
      "Timestep 63.50%: Accuracy = 0.8174, Brier Score = 0.1370\n",
      "Timestep 64.00%: Accuracy = 0.8237, Brier Score = 0.1271\n",
      "Timestep 64.50%: Accuracy = 0.8138, Brier Score = 0.1386\n",
      "Timestep 65.00%: Accuracy = 0.7834, Brier Score = 0.1510\n",
      "Timestep 65.50%: Accuracy = 0.8080, Brier Score = 0.1296\n",
      "Timestep 66.00%: Accuracy = 0.8215, Brier Score = 0.1405\n",
      "Timestep 66.50%: Accuracy = 0.7893, Brier Score = 0.1438\n",
      "Timestep 67.00%: Accuracy = 0.8525, Brier Score = 0.1230\n",
      "Timestep 67.50%: Accuracy = 0.8040, Brier Score = 0.1396\n",
      "Timestep 68.00%: Accuracy = 0.8176, Brier Score = 0.1169\n",
      "Timestep 68.50%: Accuracy = 0.8022, Brier Score = 0.1438\n",
      "Timestep 69.00%: Accuracy = 0.8048, Brier Score = 0.1191\n",
      "Timestep 69.50%: Accuracy = 0.7787, Brier Score = 0.1284\n",
      "Timestep 70.00%: Accuracy = 0.8099, Brier Score = 0.1309\n",
      "Timestep 70.50%: Accuracy = 0.8260, Brier Score = 0.1216\n",
      "Timestep 71.00%: Accuracy = 0.8308, Brier Score = 0.1100\n",
      "Timestep 71.50%: Accuracy = 0.8186, Brier Score = 0.1147\n",
      "Timestep 72.00%: Accuracy = 0.8059, Brier Score = 0.1263\n",
      "Timestep 72.50%: Accuracy = 0.8347, Brier Score = 0.1115\n",
      "Timestep 73.00%: Accuracy = 0.8154, Brier Score = 0.1213\n",
      "Timestep 73.50%: Accuracy = 0.8238, Brier Score = 0.1258\n",
      "Timestep 74.00%: Accuracy = 0.8281, Brier Score = 0.1181\n",
      "Timestep 74.50%: Accuracy = 0.8101, Brier Score = 0.1260\n",
      "Timestep 75.00%: Accuracy = 0.8327, Brier Score = 0.1202\n",
      "Timestep 75.50%: Accuracy = 0.8414, Brier Score = 0.1156\n",
      "Timestep 76.00%: Accuracy = 0.8653, Brier Score = 0.1092\n",
      "Timestep 76.50%: Accuracy = 0.8370, Brier Score = 0.1233\n",
      "Timestep 77.00%: Accuracy = 0.8005, Brier Score = 0.1175\n",
      "Timestep 77.50%: Accuracy = 0.8043, Brier Score = 0.1084\n",
      "Timestep 78.00%: Accuracy = 0.8377, Brier Score = 0.1182\n",
      "Timestep 78.50%: Accuracy = 0.8600, Brier Score = 0.1036\n",
      "Timestep 79.00%: Accuracy = 0.8340, Brier Score = 0.1134\n",
      "Timestep 79.50%: Accuracy = 0.8597, Brier Score = 0.1122\n",
      "Timestep 80.00%: Accuracy = 0.8557, Brier Score = 0.1072\n",
      "Timestep 80.50%: Accuracy = 0.8633, Brier Score = 0.1111\n",
      "Timestep 81.00%: Accuracy = 0.8446, Brier Score = 0.1030\n",
      "Timestep 81.50%: Accuracy = 0.8419, Brier Score = 0.1102\n",
      "Timestep 82.00%: Accuracy = 0.8783, Brier Score = 0.0966\n",
      "Timestep 82.50%: Accuracy = 0.8665, Brier Score = 0.1060\n",
      "Timestep 83.00%: Accuracy = 0.8477, Brier Score = 0.1050\n",
      "Timestep 83.50%: Accuracy = 0.8503, Brier Score = 0.0991\n",
      "Timestep 84.00%: Accuracy = 0.8693, Brier Score = 0.1001\n",
      "Timestep 84.50%: Accuracy = 0.8148, Brier Score = 0.1181\n",
      "Timestep 85.00%: Accuracy = 0.8747, Brier Score = 0.0901\n",
      "Timestep 85.50%: Accuracy = 0.8361, Brier Score = 0.1242\n",
      "Timestep 86.00%: Accuracy = 0.8788, Brier Score = 0.0888\n",
      "Timestep 86.50%: Accuracy = 0.8525, Brier Score = 0.0951\n",
      "Timestep 87.00%: Accuracy = 0.9036, Brier Score = 0.0827\n",
      "Timestep 87.50%: Accuracy = 0.8504, Brier Score = 0.0924\n",
      "Timestep 88.00%: Accuracy = 0.8742, Brier Score = 0.0935\n",
      "Timestep 88.50%: Accuracy = 0.8630, Brier Score = 0.0885\n",
      "Timestep 89.00%: Accuracy = 0.8949, Brier Score = 0.0861\n",
      "Timestep 89.50%: Accuracy = 0.8708, Brier Score = 0.0907\n",
      "Timestep 90.00%: Accuracy = 0.8634, Brier Score = 0.0863\n",
      "Timestep 90.50%: Accuracy = 0.8687, Brier Score = 0.0943\n",
      "Timestep 91.00%: Accuracy = 0.8482, Brier Score = 0.0923\n",
      "Timestep 91.50%: Accuracy = 0.8673, Brier Score = 0.0813\n",
      "Timestep 92.00%: Accuracy = 0.8661, Brier Score = 0.0823\n",
      "Timestep 92.50%: Accuracy = 0.8818, Brier Score = 0.0776\n",
      "Timestep 93.00%: Accuracy = 0.8590, Brier Score = 0.0916\n",
      "Timestep 93.50%: Accuracy = 0.8659, Brier Score = 0.0926\n",
      "Timestep 94.00%: Accuracy = 0.8644, Brier Score = 0.0887\n",
      "Timestep 94.50%: Accuracy = 0.8853, Brier Score = 0.0746\n",
      "Timestep 95.00%: Accuracy = 0.8975, Brier Score = 0.0787\n",
      "Timestep 95.50%: Accuracy = 0.8705, Brier Score = 0.0929\n",
      "Timestep 96.00%: Accuracy = 0.8597, Brier Score = 0.0831\n",
      "Timestep 96.50%: Accuracy = 0.9123, Brier Score = 0.0718\n",
      "Timestep 97.00%: Accuracy = 0.8955, Brier Score = 0.0748\n",
      "Timestep 97.50%: Accuracy = 0.8656, Brier Score = 0.0954\n",
      "Timestep 98.00%: Accuracy = 0.8673, Brier Score = 0.0713\n",
      "Timestep 98.50%: Accuracy = 0.8831, Brier Score = 0.0731\n",
      "Timestep 99.00%: Accuracy = 0.9009, Brier Score = 0.0686\n",
      "Timestep 99.50%: Accuracy = 0.8432, Brier Score = 0.0942\n",
      "Timestep 100.00%: Accuracy = 0.8627, Brier Score = 0.0858\n"
     ]
    },
    {
     "data": {
      "image/png": "[encoded data removed]",
      "text/plain": [
       "<Figure size 1500x600 with 2 Axes>"
      ]
     },
     "metadata": {},
     "output_type": "display_data"
    },
    {
     "name": "stdout",
     "output_type": "stream",
     "text": [
      "\n",
      "Summary Statistics:\n",
      "Average Accuracy: 0.7596 ± 0.0809\n",
      "Average Brier Score: 0.1589 ± 0.0478\n",
      "Best Accuracy: 0.9123 at timestep 96.50%\n",
      "Best Brier Score: 0.0686 at timestep 99.00%\n"
     ]
    }
   ],
   "source": [
    "# Test accuracy and Brier score of model for each timestep on test data and plot\n",
    "accuracies = []\n",
    "brier_scores = []\n",
    "timesteps = []\n",
    "\n",
    "for timestep, i in zip(models, test_data.keys()):\n",
    "    model = models[timestep]\n",
    "    # Convert test data to array\n",
    "    y_test = np.array([row[\"label\"] for row in test_data[i]])\n",
    "    X_test = np.array([row[\"rows\"].reshape(-1) for row in test_data[i]])\n",
    "    \n",
    "    # Calculate accuracy\n",
    "    accuracy = model.score(X_test, y_test)\n",
    "    \n",
    "    # Calculate Brier score\n",
    "    y_test_pred_proba = model.predict_proba(X_test)[:, 1]  # Get probability predictions\n",
    "    brier_score = brier_loss(y_test, y_test_pred_proba)\n",
    "    \n",
    "    print(f\"Timestep {timestep:.2%}: Accuracy = {accuracy:.4f}, Brier Score = {brier_score:.4f}\")\n",
    "    accuracies.append(accuracy)\n",
    "    brier_scores.append(brier_score)\n",
    "    timesteps.append(timestep)\n",
    "\n",
    "# Create subplots for both metrics\n",
    "fig, (ax1, ax2) = plt.subplots(1, 2, figsize=(15, 6))\n",
    "\n",
    "# Plot accuracy\n",
    "ax1.plot(timesteps, accuracies, 'b-', linewidth=2, marker='o', markersize=3)\n",
    "ax1.set_xlabel(\"Timestep\")\n",
    "ax1.set_ylabel(\"Accuracy\")\n",
    "ax1.set_title(\"Test Accuracy vs Timestep\")\n",
    "ax1.grid(True, alpha=0.3)\n",
    "ax1.set_ylim([min(accuracies) * 0.95, max(accuracies) * 1.05])\n",
    "\n",
    "# Plot Brier score\n",
    "ax2.plot(timesteps, brier_scores, 'r-', linewidth=2, marker='s', markersize=3)\n",
    "ax2.set_xlabel(\"Timestep\")\n",
    "ax2.set_ylabel(\"Brier Score\")\n",
    "ax2.set_title(\"Test Brier Score vs Timestep\")\n",
    "ax2.grid(True, alpha=0.3)\n",
    "ax2.set_ylim([min(brier_scores) * 0.95, max(brier_scores) * 1.05])\n",
    "\n",
    "plt.tight_layout()\n",
    "plt.show()\n",
    "\n",
    "# Print summary statistics\n",
    "print(f\"\\nSummary Statistics:\")\n",
    "print(f\"Average Accuracy: {np.mean(accuracies):.4f} ± {np.std(accuracies):.4f}\")\n",
    "print(f\"Average Brier Score: {np.mean(brier_scores):.4f} ± {np.std(brier_scores):.4f}\")\n",
    "print(f\"Best Accuracy: {max(accuracies):.4f} at timestep {timesteps[np.argmax(accuracies)]:.2%}\")\n",
    "print(f\"Best Brier Score: {min(brier_scores):.4f} at timestep {timesteps[np.argmin(brier_scores)]:.2%}\")"
   ]
  },
  {
   "cell_type": "code",
   "execution_count": 19,
   "metadata": {},
   "outputs": [
    {
     "name": "stdout",
     "output_type": "stream",
     "text": [
      "Loading data for 2024\n",
      "Processed file:  game_401671629.csv\n",
      "Processed file:  game_401671601.csv\n",
      "Processed file:  game_401671826.csv\n",
      "Processed file:  game_401671832.csv\n",
      "Processed file:  game_401671749.csv\n",
      "Processed file:  game_401671775.csv\n",
      "Processed file:  game_401671761.csv\n",
      "Processed file:  game_401671760.csv\n",
      "Processed file:  game_401671774.csv\n",
      "Processed file:  game_401671748.csv\n",
      "Processed file:  game_401671833.csv\n",
      "Processed file:  game_401671827.csv\n",
      "Processed file:  game_401671600.csv\n",
      "Processed file:  game_401671628.csv\n",
      "Processed file:  game_401671616.csv\n",
      "Processed file:  game_401671831.csv\n",
      "Processed file:  game_401671825.csv\n",
      "Processed file:  game_401671819.csv\n",
      "Processed file:  game_401671762.csv\n",
      "Processed file:  game_401671776.csv\n",
      "Processed file:  game_401671789.csv\n",
      "Processed file:  game_401671788.csv\n",
      "Processed file:  game_401671777.csv\n",
      "Processed file:  game_401671763.csv\n",
      "Processed file:  game_401671818.csv\n",
      "Processed file:  game_401671824.csv\n",
      "Processed file:  game_401671830.csv\n",
      "Processed file:  game_401671617.csv\n",
      "Processed file:  game_401671808.csv\n",
      "Processed file:  game_401671834.csv\n",
      "Processed file:  game_401671820.csv\n",
      "Processed file:  game_401671767.csv\n",
      "Processed file:  game_401671773.csv\n",
      "Processed file:  game_401671798.csv\n",
      "Processed file:  game_401671799.csv\n",
      "Processed file:  game_401671772.csv\n",
      "Processed file:  game_401671766.csv\n",
      "Processed file:  game_401671821.csv\n",
      "Processed file:  game_401671835.csv\n",
      "Processed file:  game_401671809.csv\n",
      "Processed file:  game_401671638.csv\n",
      "Processed file:  game_401671823.csv\n",
      "Processed file:  game_401671837.csv\n",
      "Processed file:  game_401671599.csv\n",
      "Processed file:  game_401671770.csv\n",
      "Processed file:  game_401671764.csv\n",
      "Processed file:  game_401671758.csv\n",
      "Processed file:  game_401671759.csv\n",
      "Processed file:  game_401671765.csv\n",
      "Processed file:  game_401671771.csv\n",
      "Processed file:  game_401671836.csv\n",
      "Processed file:  game_401671822.csv\n",
      "Processed file:  game_401671639.csv\n",
      "Processed file:  game_401671662.csv\n",
      "Processed file:  game_401671676.csv\n",
      "Processed file:  game_401671845.csv\n",
      "Processed file:  game_401671851.csv\n",
      "Processed file:  game_401671689.csv\n",
      "Processed file:  game_401671716.csv\n",
      "Processed file:  game_401671702.csv\n",
      "Processed file:  game_401671703.csv\n",
      "Processed file:  game_401671717.csv\n",
      "Processed file:  game_401671688.csv\n",
      "Processed file:  game_401671850.csv\n",
      "Processed file:  game_401671844.csv\n",
      "Processed file:  game_401671677.csv\n",
      "Processed file:  game_401671663.csv\n",
      "Processed file:  game_401671649.csv\n",
      "Processed file:  game_401671675.csv\n",
      "Processed file:  game_401671661.csv\n",
      "Processed file:  game_401671852.csv\n",
      "Processed file:  game_401671846.csv\n",
      "Processed file:  game_401671729.csv\n",
      "Processed file:  game_401671701.csv\n",
      "Processed file:  game_401671715.csv\n",
      "Processed file:  game_401671714.csv\n",
      "Processed file:  game_401671700.csv\n",
      "Processed file:  game_401671728.csv\n",
      "Processed file:  game_401671489.csv\n",
      "Processed file:  game_401671847.csv\n",
      "Processed file:  game_401671853.csv\n",
      "Processed file:  game_401671660.csv\n",
      "Processed file:  game_401671674.csv\n",
      "Processed file:  game_401671648.csv\n",
      "Processed file:  game_401671670.csv\n",
      "Processed file:  game_401671664.csv\n",
      "Processed file:  game_401671658.csv\n",
      "Processed file:  game_401671857.csv\n",
      "Processed file:  game_401671843.csv\n",
      "Processed file:  game_401671704.csv\n",
      "Processed file:  game_401671710.csv\n",
      "Processed file:  game_401671738.csv\n",
      "Processed file:  game_401671739.csv\n",
      "Processed file:  game_401671711.csv\n",
      "Processed file:  game_401671705.csv\n",
      "Processed file:  game_401671842.csv\n",
      "Processed file:  game_401671856.csv\n",
      "Processed file:  game_401671659.csv\n",
      "Processed file:  game_401671665.csv\n",
      "Processed file:  game_401671671.csv\n",
      "Processed file:  game_401671667.csv\n",
      "Processed file:  game_401671673.csv\n",
      "Processed file:  game_401671868.csv\n",
      "Processed file:  game_401671840.csv\n",
      "Processed file:  game_401671698.csv\n",
      "Processed file:  game_401671854.csv\n",
      "Processed file:  game_401671713.csv\n",
      "Processed file:  game_401671707.csv\n",
      "Processed file:  game_401671706.csv\n",
      "Processed file:  game_401671712.csv\n",
      "Processed file:  game_401671855.csv\n",
      "Processed file:  game_401671699.csv\n",
      "Processed file:  game_401671841.csv\n",
      "Processed file:  game_401671869.csv\n",
      "Processed file:  game_401671672.csv\n",
      "Processed file:  game_401671666.csv\n",
      "Processed file:  game_401671643.csv\n",
      "Processed file:  game_401671657.csv\n",
      "Processed file:  game_401671864.csv\n",
      "Processed file:  game_401671870.csv\n",
      "Processed file:  game_401671858.csv\n",
      "Processed file:  game_401671680.csv\n",
      "Processed file:  game_401671694.csv\n",
      "Processed file:  game_401671737.csv\n",
      "Processed file:  game_401671723.csv\n",
      "Processed file:  game_401671722.csv\n",
      "Processed file:  game_401671736.csv\n",
      "Processed file:  game_401671695.csv\n",
      "Processed file:  game_401671681.csv\n",
      "Processed file:  game_401671859.csv\n",
      "Processed file:  game_401671871.csv\n",
      "Processed file:  game_401671865.csv\n",
      "Processed file:  game_401671656.csv\n",
      "Processed file:  game_401671642.csv\n",
      "Processed file:  game_401671668.csv\n",
      "Processed file:  game_401671654.csv\n",
      "Processed file:  game_401671640.csv\n",
      "Processed file:  game_401671873.csv\n",
      "Processed file:  game_401671867.csv\n",
      "Processed file:  game_401671697.csv\n",
      "Processed file:  game_401671683.csv\n",
      "Processed file:  game_401671495.csv\n",
      "Processed file:  game_401671708.csv\n",
      "Processed file:  game_401671720.csv\n",
      "Processed file:  game_401671734.csv\n",
      "Processed file:  game_401671735.csv\n",
      "Processed file:  game_401671721.csv\n",
      "Processed file:  game_401671709.csv\n",
      "Processed file:  game_401671494.csv\n",
      "Processed file:  game_401671682.csv\n",
      "Processed file:  game_401671696.csv\n",
      "Processed file:  game_401671866.csv\n",
      "Processed file:  game_401671872.csv\n",
      "Processed file:  game_401671641.csv\n",
      "Processed file:  game_401671655.csv\n",
      "Processed file:  game_401671669.csv\n",
      "Processed file:  game_401671651.csv\n",
      "Processed file:  game_401671645.csv\n",
      "Processed file:  game_401671679.csv\n",
      "Processed file:  game_401671692.csv\n",
      "Processed file:  game_401671686.csv\n",
      "Processed file:  game_401671876.csv\n",
      "Processed file:  game_401671862.csv\n",
      "Processed file:  game_401671490.csv\n",
      "Processed file:  game_401671725.csv\n",
      "Processed file:  game_401671731.csv\n",
      "Processed file:  game_401671719.csv\n",
      "Processed file:  game_401671718.csv\n",
      "Processed file:  game_401671730.csv\n",
      "Processed file:  game_401671724.csv\n",
      "Processed file:  game_401671491.csv\n",
      "Processed file:  game_401671863.csv\n",
      "Processed file:  game_401671877.csv\n",
      "Processed file:  game_401671687.csv\n",
      "Processed file:  game_401671693.csv\n",
      "Processed file:  game_401671678.csv\n",
      "Processed file:  game_401671644.csv\n",
      "Processed file:  game_401671650.csv\n",
      "Processed file:  game_401671646.csv\n",
      "Processed file:  game_401671652.csv\n",
      "Processed file:  game_401671685.csv\n",
      "Processed file:  game_401671849.csv\n",
      "Processed file:  game_401671691.csv\n",
      "Processed file:  game_401671861.csv\n",
      "Processed file:  game_401671875.csv\n",
      "Processed file:  game_401671493.csv\n",
      "Processed file:  game_401671732.csv\n",
      "Processed file:  game_401671726.csv\n",
      "Processed file:  game_401671727.csv\n",
      "Processed file:  game_401671733.csv\n",
      "Processed file:  game_401671492.csv\n",
      "Processed file:  game_401671874.csv\n",
      "Processed file:  game_401671860.csv\n",
      "Processed file:  game_401671690.csv\n",
      "Processed file:  game_401671848.csv\n",
      "Processed file:  game_401671684.csv\n",
      "Processed file:  game_401671653.csv\n",
      "Processed file:  game_401671647.csv\n",
      "Processed file:  game_401671620.csv\n",
      "Processed file:  game_401671634.csv\n",
      "Processed file:  game_401671807.csv\n",
      "Processed file:  game_401671813.csv\n",
      "Processed file:  game_401671768.csv\n",
      "Processed file:  game_401671754.csv\n",
      "Processed file:  game_401671740.csv\n",
      "Processed file:  game_401671797.csv\n",
      "Processed file:  game_401671783.csv\n",
      "Processed file:  game_401671782.csv\n",
      "Processed file:  game_401671796.csv\n",
      "Processed file:  game_401671741.csv\n",
      "Processed file:  game_401671755.csv\n",
      "Processed file:  game_401671769.csv\n",
      "Processed file:  game_401671812.csv\n",
      "Processed file:  game_401671806.csv\n",
      "Processed file:  game_401671635.csv\n",
      "Processed file:  game_401671621.csv\n",
      "Processed file:  game_401671637.csv\n",
      "Processed file:  game_401671623.csv\n",
      "Processed file:  game_401671810.csv\n",
      "Processed file:  game_401671804.csv\n",
      "Processed file:  game_401671838.csv\n",
      "Processed file:  game_401671743.csv\n",
      "Processed file:  game_401671757.csv\n",
      "Processed file:  game_401671780.csv\n",
      "Processed file:  game_401671794.csv\n",
      "Processed file:  game_401671795.csv\n",
      "Processed file:  game_401671781.csv\n",
      "Processed file:  game_401671756.csv\n",
      "Processed file:  game_401671742.csv\n",
      "Processed file:  game_401671839.csv\n",
      "Processed file:  game_401671805.csv\n",
      "Processed file:  game_401671811.csv\n",
      "Processed file:  game_401671622.csv\n",
      "Processed file:  game_401671636.csv\n",
      "Processed file:  game_401671632.csv\n",
      "Processed file:  game_401671626.csv\n",
      "Processed file:  game_401671829.csv\n",
      "Processed file:  game_401671815.csv\n",
      "Processed file:  game_401671801.csv\n",
      "Processed file:  game_401671746.csv\n",
      "Processed file:  game_401671752.csv\n",
      "Processed file:  game_401671785.csv\n",
      "Processed file:  game_401671791.csv\n",
      "Processed file:  game_401671790.csv\n",
      "Processed file:  game_401671784.csv\n",
      "Processed file:  game_401671753.csv\n",
      "Processed file:  game_401671747.csv\n",
      "Processed file:  game_401671800.csv\n",
      "Processed file:  game_401671814.csv\n",
      "Processed file:  game_401671828.csv\n",
      "Processed file:  game_401671627.csv\n",
      "Processed file:  game_401671633.csv\n",
      "Processed file:  game_401671625.csv\n",
      "Processed file:  game_401671631.csv\n",
      "Processed file:  game_401671619.csv\n",
      "Processed file:  game_401671802.csv\n",
      "Processed file:  game_401671816.csv\n",
      "Processed file:  game_401671751.csv\n",
      "Processed file:  game_401671745.csv\n",
      "Processed file:  game_401671779.csv\n",
      "Processed file:  game_401671792.csv\n",
      "Processed file:  game_401671786.csv\n",
      "Processed file:  game_401671787.csv\n",
      "Processed file:  game_401671793.csv\n",
      "Processed file:  game_401671778.csv\n",
      "Processed file:  game_401671744.csv\n",
      "Processed file:  game_401671750.csv\n",
      "Processed file:  game_401671817.csv\n",
      "Processed file:  game_401671803.csv\n",
      "Processed file:  game_401671618.csv\n",
      "Processed file:  game_401671630.csv\n",
      "Processed file:  game_401671624.csv\n"
     ]
    }
   ],
   "source": [
    "modules_to_reload = [\n",
    "    'process_data',\n",
    "]\n",
    "\n",
    "for module_name in modules_to_reload:\n",
    "    if module_name in sys.modules:\n",
    "        del sys.modules[module_name]\n",
    "\n",
    "from process_data import write_predictions\n",
    "\n",
    "write_predictions(models, interpolated_dir, [2024], 0, features, replace_nan_val = 0, phat_b = \"xgboost_phat_b\")"
   ]
  }
 ],
 "metadata": {
  "kernelspec": {
   "display_name": "NFL_env",
   "language": "python",
   "name": "python3"
  },
  "language_info": {
   "codemirror_mode": {
    "name": "ipython",
    "version": 3
   },
   "file_extension": ".py",
   "mimetype": "text/x-python",
   "name": "python",
   "nbconvert_exporter": "python",
   "pygments_lexer": "ipython3",
   "version": "3.9.13"
  }
 },
 "nbformat": 4,
 "nbformat_minor": 2
}
