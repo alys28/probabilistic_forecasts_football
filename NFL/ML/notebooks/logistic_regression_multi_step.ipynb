{
 "cells": [
  {
   "cell_type": "code",
   "execution_count": 69,
   "metadata": {},
   "outputs": [],
   "source": [
    "import pandas as pd\n",
    "import numpy as np\n",
    "import matplotlib.pyplot as plt\n",
    "import sys\n",
    "import os"
   ]
  },
  {
   "cell_type": "code",
   "execution_count": 70,
   "metadata": {},
   "outputs": [
    {
     "name": "stdout",
     "output_type": "stream",
     "text": [
      "/Users/aly/Documents/University_of_Waterloo/Winter 2025/Research/code/NFL/ML\n"
     ]
    }
   ],
   "source": [
    "parent_dir = os.path.abspath(os.path.join(os.getcwd(), \"..\"))\n",
    "sys.path.append(parent_dir)\n",
    "print(parent_dir)\n",
    "interpolated_dir = os.path.join(parent_dir, \"dataset_interpolated_fixed\")\n",
    "features = [\"score_difference\", \"type.id\", \"relative_strength\", \"home_has_possession\", \"end.down\", \"end.yardsToEndzone\", \"end.distance\", \"field_position_shift\", \"home_timeouts_left\", \"away_timeouts_left\"]"
   ]
  },
  {
   "cell_type": "code",
   "execution_count": 71,
   "metadata": {},
   "outputs": [
    {
     "name": "stdout",
     "output_type": "stream",
     "text": [
      "Loading data for 2022\n",
      "  Processing 271 CSV files in parallel with 8 workers...\n",
      "  Completed processing 2022\n",
      "Loading data for 2024\n",
      "skipping  2024\n",
      "Loading data for 2023\n",
      "skipping  2023\n",
      "Loading data for .DS_Store\n",
      "Loading data for 2017\n",
      "  Processing 254 CSV files in parallel with 8 workers...\n",
      "  NaN found in file: /Users/aly/Documents/University_of_Waterloo/Winter 2025/Research/code/NFL/ML/dataset_interpolated_fixed/2017/game_400951752.csv\n",
      "  NaN found in file: /Users/aly/Documents/University_of_Waterloo/Winter 2025/Research/code/NFL/ML/dataset_interpolated_fixed/2017/game_400951752.csv\n",
      "  Completed processing 2017\n",
      "Loading data for 2019\n",
      "  Processing 256 CSV files in parallel with 8 workers...\n",
      "  NaN found in file: /Users/aly/Documents/University_of_Waterloo/Winter 2025/Research/code/NFL/ML/dataset_interpolated_fixed/2019/game_401127989.csv\n",
      "  NaN found in file: /Users/aly/Documents/University_of_Waterloo/Winter 2025/Research/code/NFL/ML/dataset_interpolated_fixed/2019/game_401127963.csv\n",
      "  NaN found in file: /Users/aly/Documents/University_of_Waterloo/Winter 2025/Research/code/NFL/ML/dataset_interpolated_fixed/2019/game_401127963.csv\n",
      "  Completed processing 2019\n",
      "Loading data for 2021\n",
      "  Processing 272 CSV files in parallel with 8 workers...\n",
      "  NaN found in file: /Users/aly/Documents/University_of_Waterloo/Winter 2025/Research/code/NFL/ML/dataset_interpolated_fixed/2021/game_401326405.csv\n",
      "  NaN found in file: /Users/aly/Documents/University_of_Waterloo/Winter 2025/Research/code/NFL/ML/dataset_interpolated_fixed/2021/game_401326412.csv\n",
      "  NaN found in file: /Users/aly/Documents/University_of_Waterloo/Winter 2025/Research/code/NFL/ML/dataset_interpolated_fixed/2021/game_401326412.csv\n",
      "  Completed processing 2021\n",
      "Loading data for 2020\n",
      "  Processing 255 CSV files in parallel with 8 workers...\n",
      "  NaN found in file: /Users/aly/Documents/University_of_Waterloo/Winter 2025/Research/code/NFL/ML/dataset_interpolated_fixed/2020/game_401220254.csv\n",
      "  NaN found in file: /Users/aly/Documents/University_of_Waterloo/Winter 2025/Research/code/NFL/ML/dataset_interpolated_fixed/2020/game_401220161.csv\n",
      "  NaN found in file: /Users/aly/Documents/University_of_Waterloo/Winter 2025/Research/code/NFL/ML/dataset_interpolated_fixed/2020/game_401220161.csv\n",
      "  Completed processing 2020\n",
      "Loading data for 2018\n",
      "  Processing 255 CSV files in parallel with 8 workers...\n",
      "  NaN found in file: /Users/aly/Documents/University_of_Waterloo/Winter 2025/Research/code/NFL/ML/dataset_interpolated_fixed/2018/game_401030954.csv\n",
      "  NaN found in file: /Users/aly/Documents/University_of_Waterloo/Winter 2025/Research/code/NFL/ML/dataset_interpolated_fixed/2018/game_401030954.csv\n",
      "  NaN found in file: /Users/aly/Documents/University_of_Waterloo/Winter 2025/Research/code/NFL/ML/dataset_interpolated_fixed/2018/game_401030954.csv\n",
      "  NaN found in file: /Users/aly/Documents/University_of_Waterloo/Winter 2025/Research/code/NFL/ML/dataset_interpolated_fixed/2018/game_401030831.csv\n",
      "  NaN found in file: /Users/aly/Documents/University_of_Waterloo/Winter 2025/Research/code/NFL/ML/dataset_interpolated_fixed/2018/game_401030831.csv\n",
      "  NaN found in file: /Users/aly/Documents/University_of_Waterloo/Winter 2025/Research/code/NFL/ML/dataset_interpolated_fixed/2018/game_401030856.csv\n",
      "  NaN found in file: /Users/aly/Documents/University_of_Waterloo/Winter 2025/Research/code/NFL/ML/dataset_interpolated_fixed/2018/game_401030931.csv\n",
      "  Completed processing 2018\n",
      "Loading data for 2016\n",
      "  Processing 254 CSV files in parallel with 8 workers...\n",
      "  NaN found in file: /Users/aly/Documents/University_of_Waterloo/Winter 2025/Research/code/NFL/ML/dataset_interpolated_fixed/2016/game_400874612.csv\n",
      "  Completed processing 2016\n",
      "Loading data for 2022\n",
      "skipping  2022\n",
      "Loading data for 2024\n",
      "skipping  2024\n",
      "Loading data for 2023\n",
      "  Processing 272 CSV files in parallel with 8 workers...\n",
      "  Completed processing 2023\n",
      "Loading data for .DS_Store\n",
      "Loading data for 2017\n",
      "skipping  2017\n",
      "Loading data for 2019\n",
      "skipping  2019\n",
      "Loading data for 2021\n",
      "skipping  2021\n",
      "Loading data for 2020\n",
      "skipping  2020\n",
      "Loading data for 2018\n",
      "skipping  2018\n",
      "Loading data for 2016\n",
      "skipping  2016\n",
      "Loading data for 2022\n",
      "skipping  2022\n",
      "Loading data for 2024\n",
      "  Processing 272 CSV files in parallel with 8 workers...\n",
      "  NaN found in file: /Users/aly/Documents/University_of_Waterloo/Winter 2025/Research/code/NFL/ML/dataset_interpolated_fixed/2024/game_401671770.csv\n",
      "  Completed processing 2024\n",
      "Loading data for 2023\n",
      "skipping  2023\n",
      "Loading data for .DS_Store\n",
      "Loading data for 2017\n",
      "skipping  2017\n",
      "Loading data for 2019\n",
      "skipping  2019\n",
      "Loading data for 2021\n",
      "skipping  2021\n",
      "Loading data for 2020\n",
      "skipping  2020\n",
      "Loading data for 2018\n",
      "skipping  2018\n",
      "Loading data for 2016\n",
      "skipping  2016\n"
     ]
    }
   ],
   "source": [
    "# Reset the modules\n",
    "modules_to_reload = [\n",
    "    'process_data',\n",
    "]\n",
    "\n",
    "for module_name in modules_to_reload:\n",
    "    if module_name in sys.modules:\n",
    "        del sys.modules[module_name]\n",
    "\n",
    "import process_data\n",
    "training_data = process_data.load_data(interpolated_dir, \n",
    "                                       years = [2016, 2017,2018, 2019, 2020, 2021, 2022], \n",
    "                                       history_length = 0, \n",
    "                                       features = features, \n",
    "                                       label_feature = \"home_win\")\n",
    "\n",
    "validation_data = process_data.load_data(interpolated_dir, \n",
    "                                       years = [2023], \n",
    "                                       history_length = 0, \n",
    "                                       features = features, \n",
    "                                       label_feature = \"home_win\",\n",
    "                                       train = True\n",
    "                                       )\n",
    "\n",
    "test_data = process_data.load_data(interpolated_dir, \n",
    "                                       years = [2024],\n",
    "                                       history_length = 0, \n",
    "                                       features = features, \n",
    "                                       label_feature = \"home_win\",\n",
    "                                       train = False\n",
    "                                       )\n"
   ]
  },
  {
   "cell_type": "code",
   "execution_count": 72,
   "metadata": {},
   "outputs": [
    {
     "name": "stdout",
     "output_type": "stream",
     "text": [
      "timestep: 0.0, number of instances: 3244\n",
      "timestep: 0.005, number of instances: 1142\n",
      "timestep: 0.01, number of instances: 2157\n",
      "timestep: 0.015, number of instances: 1805\n",
      "timestep: 0.02, number of instances: 2016\n",
      "timestep: 0.025, number of instances: 2086\n",
      "timestep: 0.03, number of instances: 1976\n",
      "timestep: 0.035, number of instances: 2157\n",
      "timestep: 0.04, number of instances: 2047\n",
      "timestep: 0.045, number of instances: 2177\n",
      "timestep: 0.05, number of instances: 2126\n",
      "timestep: 0.055, number of instances: 2038\n",
      "timestep: 0.06, number of instances: 2220\n",
      "timestep: 0.065, number of instances: 2157\n",
      "timestep: 0.07, number of instances: 2181\n",
      "timestep: 0.075, number of instances: 2135\n",
      "timestep: 0.08, number of instances: 2193\n",
      "timestep: 0.085, number of instances: 2211\n",
      "timestep: 0.09, number of instances: 2122\n",
      "timestep: 0.095, number of instances: 2207\n",
      "timestep: 0.1, number of instances: 2178\n",
      "timestep: 0.105, number of instances: 2161\n",
      "timestep: 0.11, number of instances: 2234\n",
      "timestep: 0.115, number of instances: 2122\n",
      "timestep: 0.12, number of instances: 2214\n",
      "timestep: 0.125, number of instances: 2242\n",
      "timestep: 0.13, number of instances: 2206\n",
      "timestep: 0.135, number of instances: 2136\n",
      "timestep: 0.14, number of instances: 2126\n",
      "timestep: 0.145, number of instances: 2157\n",
      "timestep: 0.15, number of instances: 2235\n",
      "timestep: 0.155, number of instances: 2058\n",
      "timestep: 0.16, number of instances: 2275\n",
      "timestep: 0.165, number of instances: 2094\n",
      "timestep: 0.17, number of instances: 2173\n",
      "timestep: 0.175, number of instances: 2219\n",
      "timestep: 0.18, number of instances: 2109\n",
      "timestep: 0.185, number of instances: 2175\n",
      "timestep: 0.19, number of instances: 2125\n",
      "timestep: 0.195, number of instances: 2194\n",
      "timestep: 0.2, number of instances: 2113\n",
      "timestep: 0.205, number of instances: 2171\n",
      "timestep: 0.21, number of instances: 2316\n",
      "timestep: 0.215, number of instances: 2068\n",
      "timestep: 0.22, number of instances: 2188\n",
      "timestep: 0.225, number of instances: 2208\n",
      "timestep: 0.23, number of instances: 2101\n",
      "timestep: 0.235, number of instances: 2225\n",
      "timestep: 0.24, number of instances: 2098\n",
      "timestep: 0.245, number of instances: 1971\n",
      "timestep: 0.25, number of instances: 6480\n",
      "timestep: 0.255, number of instances: 1263\n",
      "timestep: 0.26, number of instances: 1683\n",
      "timestep: 0.265, number of instances: 2280\n",
      "timestep: 0.27, number of instances: 2018\n",
      "timestep: 0.275, number of instances: 2331\n",
      "timestep: 0.28, number of instances: 2000\n",
      "timestep: 0.285, number of instances: 2340\n",
      "timestep: 0.29, number of instances: 2121\n",
      "timestep: 0.295, number of instances: 2185\n",
      "timestep: 0.3, number of instances: 2199\n",
      "timestep: 0.305, number of instances: 2097\n",
      "timestep: 0.31, number of instances: 2225\n",
      "timestep: 0.315, number of instances: 2165\n",
      "timestep: 0.32, number of instances: 2223\n",
      "timestep: 0.325, number of instances: 2108\n",
      "timestep: 0.33, number of instances: 2192\n",
      "timestep: 0.335, number of instances: 2217\n",
      "timestep: 0.34, number of instances: 2166\n",
      "timestep: 0.345, number of instances: 2276\n",
      "timestep: 0.35, number of instances: 2188\n",
      "timestep: 0.355, number of instances: 2218\n",
      "timestep: 0.36, number of instances: 2142\n",
      "timestep: 0.365, number of instances: 2245\n",
      "timestep: 0.37, number of instances: 2142\n",
      "timestep: 0.375, number of instances: 2218\n",
      "timestep: 0.38, number of instances: 2153\n",
      "timestep: 0.385, number of instances: 2159\n",
      "timestep: 0.39, number of instances: 2175\n",
      "timestep: 0.395, number of instances: 2218\n",
      "timestep: 0.4, number of instances: 2161\n",
      "timestep: 0.405, number of instances: 2072\n",
      "timestep: 0.41, number of instances: 2255\n",
      "timestep: 0.415, number of instances: 2162\n",
      "timestep: 0.42, number of instances: 2239\n",
      "timestep: 0.425, number of instances: 2202\n",
      "timestep: 0.43, number of instances: 2166\n",
      "timestep: 0.435, number of instances: 2251\n",
      "timestep: 0.44, number of instances: 2171\n",
      "timestep: 0.445, number of instances: 2237\n",
      "timestep: 0.45, number of instances: 2203\n",
      "timestep: 0.455, number of instances: 2194\n",
      "timestep: 0.46, number of instances: 2283\n",
      "timestep: 0.465, number of instances: 2086\n",
      "timestep: 0.47, number of instances: 6070\n",
      "timestep: 0.475, number of instances: 3056\n",
      "timestep: 0.48, number of instances: 3289\n",
      "timestep: 0.485, number of instances: 3773\n",
      "timestep: 0.49, number of instances: 4531\n",
      "timestep: 0.495, number of instances: 5561\n",
      "timestep: 0.5, number of instances: 9928\n",
      "timestep: 0.505, number of instances: 1271\n",
      "timestep: 0.51, number of instances: 2074\n",
      "timestep: 0.515, number of instances: 1816\n",
      "timestep: 0.52, number of instances: 2039\n",
      "timestep: 0.525, number of instances: 2173\n",
      "timestep: 0.53, number of instances: 2025\n",
      "timestep: 0.535, number of instances: 2175\n",
      "timestep: 0.54, number of instances: 2090\n",
      "timestep: 0.545, number of instances: 2063\n",
      "timestep: 0.55, number of instances: 2144\n",
      "timestep: 0.555, number of instances: 2109\n",
      "timestep: 0.56, number of instances: 2177\n",
      "timestep: 0.565, number of instances: 2164\n",
      "timestep: 0.57, number of instances: 2220\n",
      "timestep: 0.575, number of instances: 2218\n",
      "timestep: 0.58, number of instances: 2120\n",
      "timestep: 0.585, number of instances: 2174\n",
      "timestep: 0.59, number of instances: 2256\n",
      "timestep: 0.595, number of instances: 2199\n",
      "timestep: 0.6, number of instances: 2191\n",
      "timestep: 0.605, number of instances: 2226\n",
      "timestep: 0.61, number of instances: 2236\n",
      "timestep: 0.615, number of instances: 2210\n",
      "timestep: 0.62, number of instances: 2164\n",
      "timestep: 0.625, number of instances: 2235\n",
      "timestep: 0.63, number of instances: 2206\n",
      "timestep: 0.635, number of instances: 2208\n",
      "timestep: 0.64, number of instances: 2077\n",
      "timestep: 0.645, number of instances: 2272\n",
      "timestep: 0.65, number of instances: 2182\n",
      "timestep: 0.655, number of instances: 2250\n",
      "timestep: 0.66, number of instances: 2221\n",
      "timestep: 0.665, number of instances: 2183\n",
      "timestep: 0.67, number of instances: 2162\n",
      "timestep: 0.675, number of instances: 2182\n",
      "timestep: 0.68, number of instances: 2160\n",
      "timestep: 0.685, number of instances: 2270\n",
      "timestep: 0.69, number of instances: 2198\n",
      "timestep: 0.695, number of instances: 2179\n",
      "timestep: 0.7, number of instances: 2224\n",
      "timestep: 0.705, number of instances: 2144\n",
      "timestep: 0.71, number of instances: 2126\n",
      "timestep: 0.715, number of instances: 2230\n",
      "timestep: 0.72, number of instances: 2200\n",
      "timestep: 0.725, number of instances: 2231\n",
      "timestep: 0.73, number of instances: 2236\n",
      "timestep: 0.735, number of instances: 2186\n",
      "timestep: 0.74, number of instances: 2049\n",
      "timestep: 0.745, number of instances: 1950\n",
      "timestep: 0.75, number of instances: 6306\n",
      "timestep: 0.755, number of instances: 1301\n",
      "timestep: 0.76, number of instances: 1701\n",
      "timestep: 0.765, number of instances: 2287\n",
      "timestep: 0.77, number of instances: 1979\n",
      "timestep: 0.775, number of instances: 2431\n",
      "timestep: 0.78, number of instances: 2049\n",
      "timestep: 0.785, number of instances: 2274\n",
      "timestep: 0.79, number of instances: 2127\n",
      "timestep: 0.795, number of instances: 2105\n",
      "timestep: 0.8, number of instances: 2334\n",
      "timestep: 0.805, number of instances: 2229\n",
      "timestep: 0.81, number of instances: 2231\n",
      "timestep: 0.815, number of instances: 2195\n",
      "timestep: 0.82, number of instances: 2277\n",
      "timestep: 0.825, number of instances: 2130\n",
      "timestep: 0.83, number of instances: 2196\n",
      "timestep: 0.835, number of instances: 2198\n",
      "timestep: 0.84, number of instances: 2219\n",
      "timestep: 0.845, number of instances: 2229\n",
      "timestep: 0.85, number of instances: 2207\n",
      "timestep: 0.855, number of instances: 2181\n",
      "timestep: 0.86, number of instances: 2228\n",
      "timestep: 0.865, number of instances: 2203\n",
      "timestep: 0.87, number of instances: 2187\n",
      "timestep: 0.875, number of instances: 2265\n",
      "timestep: 0.88, number of instances: 2219\n",
      "timestep: 0.885, number of instances: 2257\n",
      "timestep: 0.89, number of instances: 2237\n",
      "timestep: 0.895, number of instances: 2287\n",
      "timestep: 0.9, number of instances: 2253\n",
      "timestep: 0.905, number of instances: 2256\n",
      "timestep: 0.91, number of instances: 2320\n",
      "timestep: 0.915, number of instances: 2289\n",
      "timestep: 0.92, number of instances: 2430\n",
      "timestep: 0.925, number of instances: 2559\n",
      "timestep: 0.93, number of instances: 2509\n",
      "timestep: 0.935, number of instances: 2646\n",
      "timestep: 0.94, number of instances: 2844\n",
      "timestep: 0.945, number of instances: 2856\n",
      "timestep: 0.95, number of instances: 2934\n",
      "timestep: 0.955, number of instances: 2796\n",
      "timestep: 0.96, number of instances: 2935\n",
      "timestep: 0.965, number of instances: 2685\n",
      "timestep: 0.97, number of instances: 6245\n",
      "timestep: 0.975, number of instances: 2893\n",
      "timestep: 0.98, number of instances: 3039\n",
      "timestep: 0.985, number of instances: 2991\n",
      "timestep: 0.99, number of instances: 2993\n",
      "timestep: 0.995, number of instances: 2981\n",
      "timestep: 1.0, number of instances: 3686\n"
     ]
    }
   ],
   "source": [
    "# Get information about the data\n",
    "training_data = dict(sorted(training_data.items()))\n",
    "for timestep in training_data:\n",
    "    print(f\"timestep: {timestep}, number of instances: {len(training_data[timestep])}\")"
   ]
  },
  {
   "cell_type": "code",
   "execution_count": 73,
   "metadata": {},
   "outputs": [
    {
     "name": "stdout",
     "output_type": "stream",
     "text": [
      "timestep: 0.0, number of instances: 343\n",
      "timestep: 0.005, number of instances: 426\n",
      "timestep: 0.01, number of instances: 373\n",
      "timestep: 0.015, number of instances: 476\n",
      "timestep: 0.02, number of instances: 378\n",
      "timestep: 0.025, number of instances: 481\n",
      "timestep: 0.03, number of instances: 418\n",
      "timestep: 0.035, number of instances: 455\n",
      "timestep: 0.04, number of instances: 476\n",
      "timestep: 0.045, number of instances: 430\n",
      "timestep: 0.05, number of instances: 468\n",
      "timestep: 0.055, number of instances: 501\n",
      "timestep: 0.06, number of instances: 466\n",
      "timestep: 0.065, number of instances: 470\n",
      "timestep: 0.07, number of instances: 459\n",
      "timestep: 0.075, number of instances: 500\n",
      "timestep: 0.08, number of instances: 477\n",
      "timestep: 0.085, number of instances: 437\n",
      "timestep: 0.09, number of instances: 522\n",
      "timestep: 0.095, number of instances: 464\n",
      "timestep: 0.1, number of instances: 503\n",
      "timestep: 0.105, number of instances: 474\n",
      "timestep: 0.11, number of instances: 477\n",
      "timestep: 0.115, number of instances: 458\n",
      "timestep: 0.12, number of instances: 479\n",
      "timestep: 0.125, number of instances: 495\n",
      "timestep: 0.13, number of instances: 438\n",
      "timestep: 0.135, number of instances: 497\n",
      "timestep: 0.14, number of instances: 488\n",
      "timestep: 0.145, number of instances: 454\n",
      "timestep: 0.15, number of instances: 471\n",
      "timestep: 0.155, number of instances: 455\n",
      "timestep: 0.16, number of instances: 467\n",
      "timestep: 0.165, number of instances: 505\n",
      "timestep: 0.17, number of instances: 447\n",
      "timestep: 0.175, number of instances: 516\n",
      "timestep: 0.18, number of instances: 462\n",
      "timestep: 0.185, number of instances: 477\n",
      "timestep: 0.19, number of instances: 497\n",
      "timestep: 0.195, number of instances: 451\n",
      "timestep: 0.2, number of instances: 503\n",
      "timestep: 0.205, number of instances: 473\n",
      "timestep: 0.21, number of instances: 470\n",
      "timestep: 0.215, number of instances: 504\n",
      "timestep: 0.22, number of instances: 461\n",
      "timestep: 0.225, number of instances: 489\n",
      "timestep: 0.23, number of instances: 479\n",
      "timestep: 0.235, number of instances: 459\n",
      "timestep: 0.24, number of instances: 466\n",
      "timestep: 0.245, number of instances: 316\n",
      "timestep: 0.25, number of instances: 999\n",
      "timestep: 0.255, number of instances: 466\n",
      "timestep: 0.26, number of instances: 383\n",
      "timestep: 0.265, number of instances: 542\n",
      "timestep: 0.27, number of instances: 411\n",
      "timestep: 0.275, number of instances: 528\n",
      "timestep: 0.28, number of instances: 438\n",
      "timestep: 0.285, number of instances: 501\n",
      "timestep: 0.29, number of instances: 464\n",
      "timestep: 0.295, number of instances: 455\n",
      "timestep: 0.3, number of instances: 485\n",
      "timestep: 0.305, number of instances: 517\n",
      "timestep: 0.31, number of instances: 493\n",
      "timestep: 0.315, number of instances: 443\n",
      "timestep: 0.32, number of instances: 490\n",
      "timestep: 0.325, number of instances: 458\n",
      "timestep: 0.33, number of instances: 515\n",
      "timestep: 0.335, number of instances: 456\n",
      "timestep: 0.34, number of instances: 476\n",
      "timestep: 0.345, number of instances: 491\n",
      "timestep: 0.35, number of instances: 488\n",
      "timestep: 0.355, number of instances: 492\n",
      "timestep: 0.36, number of instances: 464\n",
      "timestep: 0.365, number of instances: 465\n",
      "timestep: 0.37, number of instances: 464\n",
      "timestep: 0.375, number of instances: 469\n",
      "timestep: 0.38, number of instances: 504\n",
      "timestep: 0.385, number of instances: 449\n",
      "timestep: 0.39, number of instances: 461\n",
      "timestep: 0.395, number of instances: 519\n",
      "timestep: 0.4, number of instances: 490\n",
      "timestep: 0.405, number of instances: 468\n",
      "timestep: 0.41, number of instances: 526\n",
      "timestep: 0.415, number of instances: 454\n",
      "timestep: 0.42, number of instances: 462\n",
      "timestep: 0.425, number of instances: 462\n",
      "timestep: 0.43, number of instances: 486\n",
      "timestep: 0.435, number of instances: 470\n",
      "timestep: 0.44, number of instances: 480\n",
      "timestep: 0.445, number of instances: 470\n",
      "timestep: 0.45, number of instances: 496\n",
      "timestep: 0.455, number of instances: 509\n",
      "timestep: 0.46, number of instances: 431\n",
      "timestep: 0.465, number of instances: 337\n",
      "timestep: 0.47, number of instances: 1073\n",
      "timestep: 0.475, number of instances: 536\n",
      "timestep: 0.48, number of instances: 560\n",
      "timestep: 0.485, number of instances: 655\n",
      "timestep: 0.49, number of instances: 700\n",
      "timestep: 0.495, number of instances: 882\n",
      "timestep: 0.5, number of instances: 1837\n",
      "timestep: 0.505, number of instances: 418\n",
      "timestep: 0.51, number of instances: 378\n",
      "timestep: 0.515, number of instances: 502\n",
      "timestep: 0.52, number of instances: 391\n",
      "timestep: 0.525, number of instances: 512\n",
      "timestep: 0.53, number of instances: 453\n",
      "timestep: 0.535, number of instances: 476\n",
      "timestep: 0.54, number of instances: 470\n",
      "timestep: 0.545, number of instances: 455\n",
      "timestep: 0.55, number of instances: 477\n",
      "timestep: 0.555, number of instances: 465\n",
      "timestep: 0.56, number of instances: 487\n",
      "timestep: 0.565, number of instances: 466\n",
      "timestep: 0.57, number of instances: 468\n",
      "timestep: 0.575, number of instances: 470\n",
      "timestep: 0.58, number of instances: 484\n",
      "timestep: 0.585, number of instances: 499\n",
      "timestep: 0.59, number of instances: 469\n",
      "timestep: 0.595, number of instances: 493\n",
      "timestep: 0.6, number of instances: 456\n",
      "timestep: 0.605, number of instances: 517\n",
      "timestep: 0.61, number of instances: 446\n",
      "timestep: 0.615, number of instances: 473\n",
      "timestep: 0.62, number of instances: 511\n",
      "timestep: 0.625, number of instances: 491\n",
      "timestep: 0.63, number of instances: 480\n",
      "timestep: 0.635, number of instances: 482\n",
      "timestep: 0.64, number of instances: 448\n",
      "timestep: 0.645, number of instances: 494\n",
      "timestep: 0.65, number of instances: 494\n",
      "timestep: 0.655, number of instances: 526\n",
      "timestep: 0.66, number of instances: 465\n",
      "timestep: 0.665, number of instances: 484\n",
      "timestep: 0.67, number of instances: 461\n",
      "timestep: 0.675, number of instances: 454\n",
      "timestep: 0.68, number of instances: 499\n",
      "timestep: 0.685, number of instances: 450\n",
      "timestep: 0.69, number of instances: 456\n",
      "timestep: 0.695, number of instances: 497\n",
      "timestep: 0.7, number of instances: 463\n",
      "timestep: 0.705, number of instances: 500\n",
      "timestep: 0.71, number of instances: 461\n",
      "timestep: 0.715, number of instances: 485\n",
      "timestep: 0.72, number of instances: 438\n",
      "timestep: 0.725, number of instances: 484\n",
      "timestep: 0.73, number of instances: 482\n",
      "timestep: 0.735, number of instances: 454\n",
      "timestep: 0.74, number of instances: 448\n",
      "timestep: 0.745, number of instances: 337\n",
      "timestep: 0.75, number of instances: 992\n",
      "timestep: 0.755, number of instances: 473\n",
      "timestep: 0.76, number of instances: 386\n",
      "timestep: 0.765, number of instances: 583\n",
      "timestep: 0.77, number of instances: 396\n",
      "timestep: 0.775, number of instances: 557\n",
      "timestep: 0.78, number of instances: 456\n",
      "timestep: 0.785, number of instances: 493\n",
      "timestep: 0.79, number of instances: 512\n",
      "timestep: 0.795, number of instances: 449\n",
      "timestep: 0.8, number of instances: 506\n",
      "timestep: 0.805, number of instances: 461\n",
      "timestep: 0.81, number of instances: 489\n",
      "timestep: 0.815, number of instances: 487\n",
      "timestep: 0.82, number of instances: 493\n",
      "timestep: 0.825, number of instances: 472\n",
      "timestep: 0.83, number of instances: 499\n",
      "timestep: 0.835, number of instances: 481\n",
      "timestep: 0.84, number of instances: 459\n",
      "timestep: 0.845, number of instances: 513\n",
      "timestep: 0.85, number of instances: 463\n",
      "timestep: 0.855, number of instances: 488\n",
      "timestep: 0.86, number of instances: 462\n",
      "timestep: 0.865, number of instances: 495\n",
      "timestep: 0.87, number of instances: 498\n",
      "timestep: 0.875, number of instances: 488\n",
      "timestep: 0.88, number of instances: 461\n",
      "timestep: 0.885, number of instances: 489\n",
      "timestep: 0.89, number of instances: 495\n",
      "timestep: 0.895, number of instances: 449\n",
      "timestep: 0.9, number of instances: 505\n",
      "timestep: 0.905, number of instances: 457\n",
      "timestep: 0.91, number of instances: 481\n",
      "timestep: 0.915, number of instances: 505\n",
      "timestep: 0.92, number of instances: 493\n",
      "timestep: 0.925, number of instances: 499\n",
      "timestep: 0.93, number of instances: 525\n",
      "timestep: 0.935, number of instances: 507\n",
      "timestep: 0.94, number of instances: 553\n",
      "timestep: 0.945, number of instances: 558\n",
      "timestep: 0.95, number of instances: 517\n",
      "timestep: 0.955, number of instances: 525\n",
      "timestep: 0.96, number of instances: 556\n",
      "timestep: 0.965, number of instances: 422\n",
      "timestep: 0.97, number of instances: 1091\n",
      "timestep: 0.975, number of instances: 521\n",
      "timestep: 0.98, number of instances: 535\n",
      "timestep: 0.985, number of instances: 573\n",
      "timestep: 0.99, number of instances: 535\n",
      "timestep: 0.995, number of instances: 491\n",
      "timestep: 1.0, number of instances: 590\n"
     ]
    }
   ],
   "source": [
    "for timestep in test_data:\n",
    "    print(f\"timestep: {timestep}, number of instances: {len(test_data[timestep])}\")"
   ]
  },
  {
   "cell_type": "code",
   "execution_count": 110,
   "metadata": {},
   "outputs": [],
   "source": [
    "other_features = [\n",
    "            \"type.id\",             # Play type (categorical)\n",
    "            \"home_has_possession\", # Binary indicator\n",
    "            \"end.down\",            # Down number (1-4, discrete)\n",
    "            \"home_timeouts_left\",  # Discrete count (0-3)\n",
    "            \"away_timeouts_left\",  # Discrete count (0-3)\n",
    "        ]\n",
    "numeric_features = [\n",
    "    \"score_difference\",\n",
    "    \"relative_strength\", \n",
    "    \"end.yardsToEndzone\", \n",
    "    \"end.distance\", \n",
    "    \"field_position_shift\"\n",
    "]"
   ]
  },
  {
   "cell_type": "code",
   "execution_count": 147,
   "metadata": {},
   "outputs": [
    {
     "name": "stdout",
     "output_type": "stream",
     "text": [
      "Processing timestep: 0.0\n"
     ]
    },
    {
     "name": "stderr",
     "output_type": "stream",
     "text": [
      "Best trial: 21. Best value: 0.635932: 100%|██████████| 50/50 [00:04<00:00, 11.38it/s]\n",
      "/Users/aly/Documents/University_of_Waterloo/Winter 2025/Research/code/NFL_env/lib/python3.9/site-packages/sklearn/linear_model/_logistic.py:1196: UserWarning: l1_ratio parameter is only used when penalty is 'elasticnet'. Got (penalty=l1)\n",
      "  warnings.warn(\n"
     ]
    },
    {
     "name": "stdout",
     "output_type": "stream",
     "text": [
      "Timestep 0.00% (Optimized): Training Loss = 0.6245, Accuracy = 0.6436, Test Loss = 0.6359, Test Accuracy = 0.6635\n",
      "Processing timestep: 0.005\n"
     ]
    },
    {
     "name": "stderr",
     "output_type": "stream",
     "text": [
      "Best trial: 25. Best value: 0.682942: 100%|██████████| 50/50 [00:02<00:00, 21.77it/s]\n",
      "/Users/aly/Documents/University_of_Waterloo/Winter 2025/Research/code/NFL_env/lib/python3.9/site-packages/sklearn/linear_model/_logistic.py:1196: UserWarning: l1_ratio parameter is only used when penalty is 'elasticnet'. Got (penalty=l1)\n",
      "  warnings.warn(\n"
     ]
    },
    {
     "name": "stdout",
     "output_type": "stream",
     "text": [
      "Timestep 0.50% (Optimized): Training Loss = 0.6468, Accuracy = 0.6401, Test Loss = 0.6829, Test Accuracy = 0.5323\n",
      "Processing timestep: 0.01\n"
     ]
    },
    {
     "name": "stderr",
     "output_type": "stream",
     "text": [
      "Best trial: 31. Best value: 0.642701:  76%|███████▌  | 38/50 [00:05<00:00, 13.46it/s]/Users/aly/Documents/University_of_Waterloo/Winter 2025/Research/code/NFL_env/lib/python3.9/site-packages/sklearn/linear_model/_sag.py:348: ConvergenceWarning: The max_iter was reached which means the coef_ did not converge\n",
      "  warnings.warn(\n",
      "Best trial: 31. Best value: 0.642701: 100%|██████████| 50/50 [00:06<00:00,  7.85it/s]\n",
      "/Users/aly/Documents/University_of_Waterloo/Winter 2025/Research/code/NFL_env/lib/python3.9/site-packages/sklearn/linear_model/_logistic.py:1196: UserWarning: l1_ratio parameter is only used when penalty is 'elasticnet'. Got (penalty=l1)\n",
      "  warnings.warn(\n"
     ]
    },
    {
     "name": "stdout",
     "output_type": "stream",
     "text": [
      "Timestep 1.00% (Optimized): Training Loss = 0.6193, Accuracy = 0.6430, Test Loss = 0.6427, Test Accuracy = 0.6269\n",
      "Processing timestep: 0.015\n"
     ]
    },
    {
     "name": "stderr",
     "output_type": "stream",
     "text": [
      "Best trial: 31. Best value: 0.649183: 100%|██████████| 50/50 [00:37<00:00,  1.32it/s]\n",
      "/Users/aly/Documents/University_of_Waterloo/Winter 2025/Research/code/NFL_env/lib/python3.9/site-packages/sklearn/linear_model/_logistic.py:1196: UserWarning: l1_ratio parameter is only used when penalty is 'elasticnet'. Got (penalty=l2)\n",
      "  warnings.warn(\n"
     ]
    },
    {
     "name": "stdout",
     "output_type": "stream",
     "text": [
      "Timestep 1.50% (Optimized): Training Loss = 0.6237, Accuracy = 0.6449, Test Loss = 0.6492, Test Accuracy = 0.6285\n",
      "Processing timestep: 0.02\n"
     ]
    },
    {
     "name": "stderr",
     "output_type": "stream",
     "text": [
      "Best trial: 8. Best value: 0.671141:  38%|███▊      | 19/50 [00:02<00:03, 10.01it/s]/Users/aly/Documents/University_of_Waterloo/Winter 2025/Research/code/NFL_env/lib/python3.9/site-packages/sklearn/linear_model/_sag.py:348: ConvergenceWarning: The max_iter was reached which means the coef_ did not converge\n",
      "  warnings.warn(\n",
      "Best trial: 25. Best value: 0.670953: 100%|██████████| 50/50 [00:05<00:00,  8.60it/s]\n",
      "/Users/aly/Documents/University_of_Waterloo/Winter 2025/Research/code/NFL_env/lib/python3.9/site-packages/sklearn/linear_model/_logistic.py:1196: UserWarning: l1_ratio parameter is only used when penalty is 'elasticnet'. Got (penalty=l1)\n",
      "  warnings.warn(\n"
     ]
    },
    {
     "name": "stdout",
     "output_type": "stream",
     "text": [
      "Timestep 2.00% (Optimized): Training Loss = 0.6339, Accuracy = 0.6448, Test Loss = 0.6710, Test Accuracy = 0.5813\n",
      "Processing timestep: 0.025\n"
     ]
    },
    {
     "name": "stderr",
     "output_type": "stream",
     "text": [
      "Best trial: 32. Best value: 0.629979: 100%|██████████| 50/50 [00:04<00:00, 11.01it/s]\n"
     ]
    },
    {
     "name": "stdout",
     "output_type": "stream",
     "text": [
      "Timestep 2.50% (Optimized): Training Loss = 0.6329, Accuracy = 0.6352, Test Loss = 0.6300, Test Accuracy = 0.6487\n",
      "Processing timestep: 0.03\n"
     ]
    },
    {
     "name": "stderr",
     "output_type": "stream",
     "text": [
      "Best trial: 49. Best value: 0.642564: 100%|██████████| 50/50 [00:06<00:00,  7.40it/s]\n"
     ]
    },
    {
     "name": "stdout",
     "output_type": "stream",
     "text": [
      "Timestep 3.00% (Optimized): Training Loss = 0.6238, Accuracy = 0.6457, Test Loss = 0.6426, Test Accuracy = 0.6541\n",
      "Processing timestep: 0.035\n"
     ]
    },
    {
     "name": "stderr",
     "output_type": "stream",
     "text": [
      "Best trial: 25. Best value: 0.668949: 100%|██████████| 50/50 [00:05<00:00,  9.14it/s]\n",
      "/Users/aly/Documents/University_of_Waterloo/Winter 2025/Research/code/NFL_env/lib/python3.9/site-packages/sklearn/linear_model/_logistic.py:1196: UserWarning: l1_ratio parameter is only used when penalty is 'elasticnet'. Got (penalty=l1)\n",
      "  warnings.warn(\n"
     ]
    },
    {
     "name": "stdout",
     "output_type": "stream",
     "text": [
      "Timestep 3.50% (Optimized): Training Loss = 0.6290, Accuracy = 0.6426, Test Loss = 0.6689, Test Accuracy = 0.5774\n",
      "Processing timestep: 0.04\n"
     ]
    },
    {
     "name": "stderr",
     "output_type": "stream",
     "text": [
      "Best trial: 41. Best value: 0.669059: 100%|██████████| 50/50 [00:07<00:00,  6.48it/s]\n",
      "/Users/aly/Documents/University_of_Waterloo/Winter 2025/Research/code/NFL_env/lib/python3.9/site-packages/sklearn/linear_model/_logistic.py:1196: UserWarning: l1_ratio parameter is only used when penalty is 'elasticnet'. Got (penalty=l1)\n",
      "  warnings.warn(\n"
     ]
    },
    {
     "name": "stdout",
     "output_type": "stream",
     "text": [
      "Timestep 4.00% (Optimized): Training Loss = 0.6265, Accuracy = 0.6468, Test Loss = 0.6691, Test Accuracy = 0.5987\n",
      "Processing timestep: 0.045\n"
     ]
    },
    {
     "name": "stderr",
     "output_type": "stream",
     "text": [
      "Best trial: 41. Best value: 0.646232: 100%|██████████| 50/50 [00:05<00:00,  8.44it/s]\n",
      "/Users/aly/Documents/University_of_Waterloo/Winter 2025/Research/code/NFL_env/lib/python3.9/site-packages/sklearn/linear_model/_logistic.py:1196: UserWarning: l1_ratio parameter is only used when penalty is 'elasticnet'. Got (penalty=l2)\n",
      "  warnings.warn(\n"
     ]
    },
    {
     "name": "stdout",
     "output_type": "stream",
     "text": [
      "Timestep 4.50% (Optimized): Training Loss = 0.6261, Accuracy = 0.6472, Test Loss = 0.6462, Test Accuracy = 0.6170\n",
      "Processing timestep: 0.05\n"
     ]
    },
    {
     "name": "stderr",
     "output_type": "stream",
     "text": [
      "Best trial: 13. Best value: 0.633318: 100%|██████████| 50/50 [00:03<00:00, 13.00it/s]\n",
      "/Users/aly/Documents/University_of_Waterloo/Winter 2025/Research/code/NFL_env/lib/python3.9/site-packages/sklearn/linear_model/_logistic.py:1196: UserWarning: l1_ratio parameter is only used when penalty is 'elasticnet'. Got (penalty=l2)\n",
      "  warnings.warn(\n"
     ]
    },
    {
     "name": "stdout",
     "output_type": "stream",
     "text": [
      "Timestep 5.00% (Optimized): Training Loss = 0.6211, Accuracy = 0.6533, Test Loss = 0.6333, Test Accuracy = 0.6540\n",
      "Processing timestep: 0.055\n"
     ]
    },
    {
     "name": "stderr",
     "output_type": "stream",
     "text": [
      "Best trial: 26. Best value: 0.6351: 100%|██████████| 50/50 [00:03<00:00, 14.37it/s]  \n",
      "/Users/aly/Documents/University_of_Waterloo/Winter 2025/Research/code/NFL_env/lib/python3.9/site-packages/sklearn/linear_model/_logistic.py:1196: UserWarning: l1_ratio parameter is only used when penalty is 'elasticnet'. Got (penalty=l2)\n",
      "  warnings.warn(\n"
     ]
    },
    {
     "name": "stdout",
     "output_type": "stream",
     "text": [
      "Timestep 5.50% (Optimized): Training Loss = 0.6141, Accuracy = 0.6658, Test Loss = 0.6351, Test Accuracy = 0.6348\n",
      "Processing timestep: 0.06\n"
     ]
    },
    {
     "name": "stderr",
     "output_type": "stream",
     "text": [
      "Best trial: 0. Best value: 0.646126:  12%|█▏        | 6/50 [00:01<00:14,  3.06it/s]/Users/aly/Documents/University_of_Waterloo/Winter 2025/Research/code/NFL_env/lib/python3.9/site-packages/sklearn/linear_model/_sag.py:348: ConvergenceWarning: The max_iter was reached which means the coef_ did not converge\n",
      "  warnings.warn(\n",
      "Best trial: 17. Best value: 0.643641:  40%|████      | 20/50 [00:03<00:02, 13.60it/s]/Users/aly/Documents/University_of_Waterloo/Winter 2025/Research/code/NFL_env/lib/python3.9/site-packages/sklearn/linear_model/_sag.py:348: ConvergenceWarning: The max_iter was reached which means the coef_ did not converge\n",
      "  warnings.warn(\n",
      "Best trial: 17. Best value: 0.643641:  56%|█████▌    | 28/50 [00:04<00:01, 12.72it/s]/Users/aly/Documents/University_of_Waterloo/Winter 2025/Research/code/NFL_env/lib/python3.9/site-packages/sklearn/linear_model/_sag.py:348: ConvergenceWarning: The max_iter was reached which means the coef_ did not converge\n",
      "  warnings.warn(\n",
      "Best trial: 17. Best value: 0.643641:  72%|███████▏  | 36/50 [00:04<00:01, 12.90it/s]/Users/aly/Documents/University_of_Waterloo/Winter 2025/Research/code/NFL_env/lib/python3.9/site-packages/sklearn/linear_model/_sag.py:348: ConvergenceWarning: The max_iter was reached which means the coef_ did not converge\n",
      "  warnings.warn(\n",
      "Best trial: 17. Best value: 0.643641:  98%|█████████▊| 49/50 [00:06<00:00, 12.64it/s]/Users/aly/Documents/University_of_Waterloo/Winter 2025/Research/code/NFL_env/lib/python3.9/site-packages/sklearn/linear_model/_sag.py:348: ConvergenceWarning: The max_iter was reached which means the coef_ did not converge\n",
      "  warnings.warn(\n",
      "Best trial: 17. Best value: 0.643641: 100%|██████████| 50/50 [00:06<00:00,  7.37it/s]\n",
      "/Users/aly/Documents/University_of_Waterloo/Winter 2025/Research/code/NFL_env/lib/python3.9/site-packages/sklearn/linear_model/_logistic.py:1196: UserWarning: l1_ratio parameter is only used when penalty is 'elasticnet'. Got (penalty=l2)\n",
      "  warnings.warn(\n"
     ]
    },
    {
     "name": "stdout",
     "output_type": "stream",
     "text": [
      "Timestep 6.00% (Optimized): Training Loss = 0.6190, Accuracy = 0.6514, Test Loss = 0.6436, Test Accuracy = 0.6601\n",
      "Processing timestep: 0.065\n"
     ]
    },
    {
     "name": "stderr",
     "output_type": "stream",
     "text": [
      "Best trial: 27. Best value: 0.634902: 100%|██████████| 50/50 [00:04<00:00, 10.12it/s]\n",
      "/Users/aly/Documents/University_of_Waterloo/Winter 2025/Research/code/NFL_env/lib/python3.9/site-packages/sklearn/linear_model/_logistic.py:1196: UserWarning: l1_ratio parameter is only used when penalty is 'elasticnet'. Got (penalty=l2)\n",
      "  warnings.warn(\n"
     ]
    },
    {
     "name": "stdout",
     "output_type": "stream",
     "text": [
      "Timestep 6.50% (Optimized): Training Loss = 0.6231, Accuracy = 0.6546, Test Loss = 0.6349, Test Accuracy = 0.6467\n",
      "Processing timestep: 0.07\n"
     ]
    },
    {
     "name": "stderr",
     "output_type": "stream",
     "text": [
      "Best trial: 25. Best value: 0.642508: 100%|██████████| 50/50 [00:03<00:00, 15.05it/s]\n",
      "/Users/aly/Documents/University_of_Waterloo/Winter 2025/Research/code/NFL_env/lib/python3.9/site-packages/sklearn/linear_model/_logistic.py:1196: UserWarning: l1_ratio parameter is only used when penalty is 'elasticnet'. Got (penalty=l2)\n",
      "  warnings.warn(\n"
     ]
    },
    {
     "name": "stdout",
     "output_type": "stream",
     "text": [
      "Timestep 7.00% (Optimized): Training Loss = 0.6135, Accuracy = 0.6657, Test Loss = 0.6425, Test Accuracy = 0.6023\n",
      "Processing timestep: 0.075\n"
     ]
    },
    {
     "name": "stderr",
     "output_type": "stream",
     "text": [
      "Best trial: 1. Best value: 0.62338:  12%|█▏        | 6/50 [00:01<00:13,  3.27it/s]/Users/aly/Documents/University_of_Waterloo/Winter 2025/Research/code/NFL_env/lib/python3.9/site-packages/sklearn/linear_model/_sag.py:348: ConvergenceWarning: The max_iter was reached which means the coef_ did not converge\n",
      "  warnings.warn(\n",
      "Best trial: 1. Best value: 0.62338:  30%|███       | 15/50 [00:02<00:04,  8.42it/s]/Users/aly/Documents/University_of_Waterloo/Winter 2025/Research/code/NFL_env/lib/python3.9/site-packages/sklearn/linear_model/_sag.py:348: ConvergenceWarning: The max_iter was reached which means the coef_ did not converge\n",
      "  warnings.warn(\n",
      "Best trial: 16. Best value: 0.623375:  34%|███▍      | 17/50 [00:02<00:03,  8.84it/s]/Users/aly/Documents/University_of_Waterloo/Winter 2025/Research/code/NFL_env/lib/python3.9/site-packages/sklearn/linear_model/_sag.py:348: ConvergenceWarning: The max_iter was reached which means the coef_ did not converge\n",
      "  warnings.warn(\n",
      "Best trial: 16. Best value: 0.623375:  34%|███▍      | 17/50 [00:03<00:03,  8.84it/s]/Users/aly/Documents/University_of_Waterloo/Winter 2025/Research/code/NFL_env/lib/python3.9/site-packages/sklearn/linear_model/_sag.py:348: ConvergenceWarning: The max_iter was reached which means the coef_ did not converge\n",
      "  warnings.warn(\n",
      "Best trial: 18. Best value: 0.623341:  38%|███▊      | 19/50 [00:03<00:05,  6.00it/s]/Users/aly/Documents/University_of_Waterloo/Winter 2025/Research/code/NFL_env/lib/python3.9/site-packages/sklearn/linear_model/_sag.py:348: ConvergenceWarning: The max_iter was reached which means the coef_ did not converge\n",
      "  warnings.warn(\n",
      "Best trial: 19. Best value: 0.623339:  38%|███▊      | 19/50 [00:03<00:05,  6.00it/s]/Users/aly/Documents/University_of_Waterloo/Winter 2025/Research/code/NFL_env/lib/python3.9/site-packages/sklearn/linear_model/_sag.py:348: ConvergenceWarning: The max_iter was reached which means the coef_ did not converge\n",
      "  warnings.warn(\n",
      "Best trial: 19. Best value: 0.623339:  42%|████▏     | 21/50 [00:04<00:06,  4.54it/s]/Users/aly/Documents/University_of_Waterloo/Winter 2025/Research/code/NFL_env/lib/python3.9/site-packages/sklearn/linear_model/_sag.py:348: ConvergenceWarning: The max_iter was reached which means the coef_ did not converge\n",
      "  warnings.warn(\n",
      "Best trial: 21. Best value: 0.623333:  44%|████▍     | 22/50 [00:04<00:07,  3.96it/s]/Users/aly/Documents/University_of_Waterloo/Winter 2025/Research/code/NFL_env/lib/python3.9/site-packages/sklearn/linear_model/_sag.py:348: ConvergenceWarning: The max_iter was reached which means the coef_ did not converge\n",
      "  warnings.warn(\n",
      "Best trial: 22. Best value: 0.62333: 100%|██████████| 50/50 [00:17<00:00,  2.92it/s] \n",
      "/Users/aly/Documents/University_of_Waterloo/Winter 2025/Research/code/NFL_env/lib/python3.9/site-packages/sklearn/linear_model/_sag.py:348: ConvergenceWarning: The max_iter was reached which means the coef_ did not converge\n",
      "  warnings.warn(\n"
     ]
    },
    {
     "name": "stdout",
     "output_type": "stream",
     "text": [
      "Timestep 7.50% (Optimized): Training Loss = 0.6179, Accuracy = 0.6576, Test Loss = 0.6233, Test Accuracy = 0.6347\n",
      "Processing timestep: 0.08\n"
     ]
    },
    {
     "name": "stderr",
     "output_type": "stream",
     "text": [
      "Best trial: 31. Best value: 0.637634: 100%|██████████| 50/50 [00:11<00:00,  4.36it/s]\n",
      "/Users/aly/Documents/University_of_Waterloo/Winter 2025/Research/code/NFL_env/lib/python3.9/site-packages/sklearn/linear_model/_logistic.py:1196: UserWarning: l1_ratio parameter is only used when penalty is 'elasticnet'. Got (penalty=l2)\n",
      "  warnings.warn(\n"
     ]
    },
    {
     "name": "stdout",
     "output_type": "stream",
     "text": [
      "Timestep 8.00% (Optimized): Training Loss = 0.6019, Accuracy = 0.6776, Test Loss = 0.6376, Test Accuracy = 0.6293\n",
      "Processing timestep: 0.085\n"
     ]
    },
    {
     "name": "stderr",
     "output_type": "stream",
     "text": [
      "Best trial: 2. Best value: 0.610697:  12%|█▏        | 6/50 [00:02<00:20,  2.16it/s]/Users/aly/Documents/University_of_Waterloo/Winter 2025/Research/code/NFL_env/lib/python3.9/site-packages/sklearn/linear_model/_sag.py:348: ConvergenceWarning: The max_iter was reached which means the coef_ did not converge\n",
      "  warnings.warn(\n",
      "Best trial: 17. Best value: 0.610623:  48%|████▊     | 24/50 [00:07<00:08,  3.18it/s]/Users/aly/Documents/University_of_Waterloo/Winter 2025/Research/code/NFL_env/lib/python3.9/site-packages/sklearn/linear_model/_sag.py:348: ConvergenceWarning: The max_iter was reached which means the coef_ did not converge\n",
      "  warnings.warn(\n",
      "Best trial: 17. Best value: 0.610623:  70%|███████   | 35/50 [00:10<00:04,  3.68it/s]/Users/aly/Documents/University_of_Waterloo/Winter 2025/Research/code/NFL_env/lib/python3.9/site-packages/sklearn/linear_model/_sag.py:348: ConvergenceWarning: The max_iter was reached which means the coef_ did not converge\n",
      "  warnings.warn(\n",
      "Best trial: 17. Best value: 0.610623: 100%|██████████| 50/50 [00:16<00:00,  3.09it/s]\n",
      "/Users/aly/Documents/University_of_Waterloo/Winter 2025/Research/code/NFL_env/lib/python3.9/site-packages/sklearn/linear_model/_logistic.py:1196: UserWarning: l1_ratio parameter is only used when penalty is 'elasticnet'. Got (penalty=l2)\n",
      "  warnings.warn(\n"
     ]
    },
    {
     "name": "stdout",
     "output_type": "stream",
     "text": [
      "Timestep 8.50% (Optimized): Training Loss = 0.6081, Accuracy = 0.6644, Test Loss = 0.6106, Test Accuracy = 0.6547\n",
      "Processing timestep: 0.09\n"
     ]
    },
    {
     "name": "stderr",
     "output_type": "stream",
     "text": [
      "Best trial: 1. Best value: 0.624774:  12%|█▏        | 6/50 [00:01<00:15,  2.88it/s]/Users/aly/Documents/University_of_Waterloo/Winter 2025/Research/code/NFL_env/lib/python3.9/site-packages/sklearn/linear_model/_sag.py:348: ConvergenceWarning: The max_iter was reached which means the coef_ did not converge\n",
      "  warnings.warn(\n",
      "Best trial: 12. Best value: 0.624512:  36%|███▌      | 18/50 [00:03<00:04,  7.85it/s]/Users/aly/Documents/University_of_Waterloo/Winter 2025/Research/code/NFL_env/lib/python3.9/site-packages/sklearn/linear_model/_sag.py:348: ConvergenceWarning: The max_iter was reached which means the coef_ did not converge\n",
      "  warnings.warn(\n",
      "Best trial: 20. Best value: 0.624486:  56%|█████▌    | 28/50 [00:04<00:01, 13.47it/s]/Users/aly/Documents/University_of_Waterloo/Winter 2025/Research/code/NFL_env/lib/python3.9/site-packages/sklearn/linear_model/_sag.py:348: ConvergenceWarning: The max_iter was reached which means the coef_ did not converge\n",
      "  warnings.warn(\n",
      "Best trial: 20. Best value: 0.624486:  72%|███████▏  | 36/50 [00:04<00:01, 12.06it/s]/Users/aly/Documents/University_of_Waterloo/Winter 2025/Research/code/NFL_env/lib/python3.9/site-packages/sklearn/linear_model/_sag.py:348: ConvergenceWarning: The max_iter was reached which means the coef_ did not converge\n",
      "  warnings.warn(\n",
      "Best trial: 20. Best value: 0.624486:  78%|███████▊  | 39/50 [00:05<00:01,  5.80it/s]/Users/aly/Documents/University_of_Waterloo/Winter 2025/Research/code/NFL_env/lib/python3.9/site-packages/sklearn/linear_model/_sag.py:348: ConvergenceWarning: The max_iter was reached which means the coef_ did not converge\n",
      "  warnings.warn(\n",
      "Best trial: 45. Best value: 0.624476:  92%|█████████▏| 46/50 [00:06<00:00,  8.95it/s]/Users/aly/Documents/University_of_Waterloo/Winter 2025/Research/code/NFL_env/lib/python3.9/site-packages/sklearn/linear_model/_sag.py:348: ConvergenceWarning: The max_iter was reached which means the coef_ did not converge\n",
      "  warnings.warn(\n",
      "Best trial: 45. Best value: 0.624476: 100%|██████████| 50/50 [00:07<00:00,  6.77it/s]\n",
      "/Users/aly/Documents/University_of_Waterloo/Winter 2025/Research/code/NFL_env/lib/python3.9/site-packages/sklearn/linear_model/_logistic.py:1196: UserWarning: l1_ratio parameter is only used when penalty is 'elasticnet'. Got (penalty=l2)\n",
      "  warnings.warn(\n"
     ]
    },
    {
     "name": "stdout",
     "output_type": "stream",
     "text": [
      "Timestep 9.00% (Optimized): Training Loss = 0.6124, Accuracy = 0.6692, Test Loss = 0.6245, Test Accuracy = 0.6402\n",
      "Processing timestep: 0.095\n"
     ]
    },
    {
     "name": "stderr",
     "output_type": "stream",
     "text": [
      "Best trial: 32. Best value: 0.593765: 100%|██████████| 50/50 [00:01<00:00, 27.35it/s]\n",
      "/Users/aly/Documents/University_of_Waterloo/Winter 2025/Research/code/NFL_env/lib/python3.9/site-packages/sklearn/linear_model/_logistic.py:1196: UserWarning: l1_ratio parameter is only used when penalty is 'elasticnet'. Got (penalty=l2)\n",
      "  warnings.warn(\n"
     ]
    },
    {
     "name": "stdout",
     "output_type": "stream",
     "text": [
      "Timestep 9.50% (Optimized): Training Loss = 0.6093, Accuracy = 0.6602, Test Loss = 0.5938, Test Accuracy = 0.6535\n",
      "Processing timestep: 0.1\n"
     ]
    },
    {
     "name": "stderr",
     "output_type": "stream",
     "text": [
      "Best trial: 12. Best value: 0.594812:  38%|███▊      | 19/50 [00:02<00:03,  8.69it/s]/Users/aly/Documents/University_of_Waterloo/Winter 2025/Research/code/NFL_env/lib/python3.9/site-packages/sklearn/linear_model/_sag.py:348: ConvergenceWarning: The max_iter was reached which means the coef_ did not converge\n",
      "  warnings.warn(\n",
      "Best trial: 24. Best value: 0.594811:  54%|█████▍    | 27/50 [00:03<00:01, 13.66it/s]/Users/aly/Documents/University_of_Waterloo/Winter 2025/Research/code/NFL_env/lib/python3.9/site-packages/sklearn/linear_model/_sag.py:348: ConvergenceWarning: The max_iter was reached which means the coef_ did not converge\n",
      "  warnings.warn(\n",
      "Best trial: 24. Best value: 0.594811:  92%|█████████▏| 46/50 [00:05<00:00, 10.34it/s]/Users/aly/Documents/University_of_Waterloo/Winter 2025/Research/code/NFL_env/lib/python3.9/site-packages/sklearn/linear_model/_sag.py:348: ConvergenceWarning: The max_iter was reached which means the coef_ did not converge\n",
      "  warnings.warn(\n",
      "Best trial: 24. Best value: 0.594811: 100%|██████████| 50/50 [00:06<00:00,  7.52it/s]\n",
      "/Users/aly/Documents/University_of_Waterloo/Winter 2025/Research/code/NFL_env/lib/python3.9/site-packages/sklearn/linear_model/_logistic.py:1196: UserWarning: l1_ratio parameter is only used when penalty is 'elasticnet'. Got (penalty=l2)\n",
      "  warnings.warn(\n"
     ]
    },
    {
     "name": "stdout",
     "output_type": "stream",
     "text": [
      "Timestep 10.00% (Optimized): Training Loss = 0.6025, Accuracy = 0.6800, Test Loss = 0.5948, Test Accuracy = 0.6712\n",
      "Processing timestep: 0.105\n"
     ]
    },
    {
     "name": "stderr",
     "output_type": "stream",
     "text": [
      "Best trial: 13. Best value: 0.611737:  36%|███▌      | 18/50 [00:02<00:03,  8.79it/s]/Users/aly/Documents/University_of_Waterloo/Winter 2025/Research/code/NFL_env/lib/python3.9/site-packages/sklearn/linear_model/_sag.py:348: ConvergenceWarning: The max_iter was reached which means the coef_ did not converge\n",
      "  warnings.warn(\n",
      "Best trial: 21. Best value: 0.611724: 100%|██████████| 50/50 [00:06<00:00,  7.83it/s]\n",
      "/Users/aly/Documents/University_of_Waterloo/Winter 2025/Research/code/NFL_env/lib/python3.9/site-packages/sklearn/linear_model/_logistic.py:1196: UserWarning: l1_ratio parameter is only used when penalty is 'elasticnet'. Got (penalty=l2)\n",
      "  warnings.warn(\n"
     ]
    },
    {
     "name": "stdout",
     "output_type": "stream",
     "text": [
      "Timestep 10.50% (Optimized): Training Loss = 0.5991, Accuracy = 0.6798, Test Loss = 0.6117, Test Accuracy = 0.6486\n",
      "Processing timestep: 0.11\n"
     ]
    },
    {
     "name": "stderr",
     "output_type": "stream",
     "text": [
      "Best trial: 42. Best value: 0.644688: 100%|██████████| 50/50 [00:02<00:00, 24.38it/s]\n",
      "/Users/aly/Documents/University_of_Waterloo/Winter 2025/Research/code/NFL_env/lib/python3.9/site-packages/sklearn/linear_model/_logistic.py:1196: UserWarning: l1_ratio parameter is only used when penalty is 'elasticnet'. Got (penalty=l2)\n",
      "  warnings.warn(\n"
     ]
    },
    {
     "name": "stdout",
     "output_type": "stream",
     "text": [
      "Timestep 11.00% (Optimized): Training Loss = 0.6107, Accuracy = 0.6629, Test Loss = 0.6447, Test Accuracy = 0.6317\n",
      "Processing timestep: 0.115\n"
     ]
    },
    {
     "name": "stderr",
     "output_type": "stream",
     "text": [
      "Best trial: 13. Best value: 0.597196:  36%|███▌      | 18/50 [00:02<00:02, 11.63it/s]/Users/aly/Documents/University_of_Waterloo/Winter 2025/Research/code/NFL_env/lib/python3.9/site-packages/sklearn/linear_model/_sag.py:348: ConvergenceWarning: The max_iter was reached which means the coef_ did not converge\n",
      "  warnings.warn(\n",
      "Best trial: 34. Best value: 0.59716: 100%|██████████| 50/50 [00:05<00:00,  9.22it/s] \n",
      "/Users/aly/Documents/University_of_Waterloo/Winter 2025/Research/code/NFL_env/lib/python3.9/site-packages/sklearn/linear_model/_logistic.py:1196: UserWarning: l1_ratio parameter is only used when penalty is 'elasticnet'. Got (penalty=l2)\n",
      "  warnings.warn(\n"
     ]
    },
    {
     "name": "stdout",
     "output_type": "stream",
     "text": [
      "Timestep 11.50% (Optimized): Training Loss = 0.5917, Accuracy = 0.6772, Test Loss = 0.5972, Test Accuracy = 0.6713\n",
      "Processing timestep: 0.12\n"
     ]
    },
    {
     "name": "stderr",
     "output_type": "stream",
     "text": [
      "Best trial: 42. Best value: 0.602585: 100%|██████████| 50/50 [00:05<00:00,  9.61it/s]\n",
      "/Users/aly/Documents/University_of_Waterloo/Winter 2025/Research/code/NFL_env/lib/python3.9/site-packages/sklearn/linear_model/_logistic.py:1196: UserWarning: l1_ratio parameter is only used when penalty is 'elasticnet'. Got (penalty=l2)\n",
      "  warnings.warn(\n"
     ]
    },
    {
     "name": "stdout",
     "output_type": "stream",
     "text": [
      "Timestep 12.00% (Optimized): Training Loss = 0.6018, Accuracy = 0.6712, Test Loss = 0.6026, Test Accuracy = 0.6596\n",
      "Processing timestep: 0.125\n"
     ]
    },
    {
     "name": "stderr",
     "output_type": "stream",
     "text": [
      "Best trial: 41. Best value: 0.64372: 100%|██████████| 50/50 [00:01<00:00, 35.13it/s] \n",
      "/Users/aly/Documents/University_of_Waterloo/Winter 2025/Research/code/NFL_env/lib/python3.9/site-packages/sklearn/linear_model/_logistic.py:1196: UserWarning: l1_ratio parameter is only used when penalty is 'elasticnet'. Got (penalty=l1)\n",
      "  warnings.warn(\n"
     ]
    },
    {
     "name": "stdout",
     "output_type": "stream",
     "text": [
      "Timestep 12.50% (Optimized): Training Loss = 0.6011, Accuracy = 0.6811, Test Loss = 0.6437, Test Accuracy = 0.6306\n",
      "Processing timestep: 0.13\n"
     ]
    },
    {
     "name": "stderr",
     "output_type": "stream",
     "text": [
      "Best trial: 14. Best value: 0.58966: 100%|██████████| 50/50 [00:07<00:00,  7.10it/s] \n",
      "/Users/aly/Documents/University_of_Waterloo/Winter 2025/Research/code/NFL_env/lib/python3.9/site-packages/sklearn/linear_model/_logistic.py:1196: UserWarning: l1_ratio parameter is only used when penalty is 'elasticnet'. Got (penalty=l2)\n",
      "  warnings.warn(\n"
     ]
    },
    {
     "name": "stdout",
     "output_type": "stream",
     "text": [
      "Timestep 13.00% (Optimized): Training Loss = 0.5917, Accuracy = 0.6845, Test Loss = 0.5897, Test Accuracy = 0.6446\n",
      "Processing timestep: 0.135\n"
     ]
    },
    {
     "name": "stderr",
     "output_type": "stream",
     "text": [
      "Best trial: 21. Best value: 0.621728: 100%|██████████| 50/50 [00:02<00:00, 20.82it/s]\n",
      "/Users/aly/Documents/University_of_Waterloo/Winter 2025/Research/code/NFL_env/lib/python3.9/site-packages/sklearn/linear_model/_logistic.py:1196: UserWarning: l1_ratio parameter is only used when penalty is 'elasticnet'. Got (penalty=l2)\n",
      "  warnings.warn(\n"
     ]
    },
    {
     "name": "stdout",
     "output_type": "stream",
     "text": [
      "Timestep 13.50% (Optimized): Training Loss = 0.6038, Accuracy = 0.6662, Test Loss = 0.6217, Test Accuracy = 0.6218\n",
      "Processing timestep: 0.14\n"
     ]
    },
    {
     "name": "stderr",
     "output_type": "stream",
     "text": [
      "Best trial: 14. Best value: 0.612736:  36%|███▌      | 18/50 [00:02<00:03,  9.61it/s]/Users/aly/Documents/University_of_Waterloo/Winter 2025/Research/code/NFL_env/lib/python3.9/site-packages/sklearn/linear_model/_sag.py:348: ConvergenceWarning: The max_iter was reached which means the coef_ did not converge\n",
      "  warnings.warn(\n",
      "Best trial: 34. Best value: 0.612628: 100%|██████████| 50/50 [00:10<00:00,  4.89it/s]\n"
     ]
    },
    {
     "name": "stdout",
     "output_type": "stream",
     "text": [
      "Timestep 14.00% (Optimized): Training Loss = 0.5922, Accuracy = 0.6914, Test Loss = 0.6126, Test Accuracy = 0.6721\n",
      "Processing timestep: 0.145\n"
     ]
    },
    {
     "name": "stderr",
     "output_type": "stream",
     "text": [
      "Best trial: 32. Best value: 0.626233: 100%|██████████| 50/50 [00:02<00:00, 20.45it/s]\n"
     ]
    },
    {
     "name": "stdout",
     "output_type": "stream",
     "text": [
      "Timestep 14.50% (Optimized): Training Loss = 0.5931, Accuracy = 0.6750, Test Loss = 0.6262, Test Accuracy = 0.6540\n",
      "Processing timestep: 0.15\n"
     ]
    },
    {
     "name": "stderr",
     "output_type": "stream",
     "text": [
      "Best trial: 33. Best value: 0.620959: 100%|██████████| 50/50 [00:02<00:00, 24.80it/s]\n",
      "/Users/aly/Documents/University_of_Waterloo/Winter 2025/Research/code/NFL_env/lib/python3.9/site-packages/sklearn/linear_model/_logistic.py:1196: UserWarning: l1_ratio parameter is only used when penalty is 'elasticnet'. Got (penalty=l2)\n",
      "  warnings.warn(\n"
     ]
    },
    {
     "name": "stdout",
     "output_type": "stream",
     "text": [
      "Timestep 15.00% (Optimized): Training Loss = 0.5856, Accuracy = 0.6993, Test Loss = 0.6210, Test Accuracy = 0.6868\n",
      "Processing timestep: 0.155\n"
     ]
    },
    {
     "name": "stderr",
     "output_type": "stream",
     "text": [
      "Best trial: 46. Best value: 0.566736: 100%|██████████| 50/50 [00:02<00:00, 21.29it/s]\n",
      "/Users/aly/Documents/University_of_Waterloo/Winter 2025/Research/code/NFL_env/lib/python3.9/site-packages/sklearn/linear_model/_logistic.py:1196: UserWarning: l1_ratio parameter is only used when penalty is 'elasticnet'. Got (penalty=l1)\n",
      "  warnings.warn(\n"
     ]
    },
    {
     "name": "stdout",
     "output_type": "stream",
     "text": [
      "Timestep 15.50% (Optimized): Training Loss = 0.5877, Accuracy = 0.6851, Test Loss = 0.5667, Test Accuracy = 0.7030\n",
      "Processing timestep: 0.16\n"
     ]
    },
    {
     "name": "stderr",
     "output_type": "stream",
     "text": [
      "Best trial: 33. Best value: 0.584464: 100%|██████████| 50/50 [00:03<00:00, 13.59it/s]\n",
      "/Users/aly/Documents/University_of_Waterloo/Winter 2025/Research/code/NFL_env/lib/python3.9/site-packages/sklearn/linear_model/_logistic.py:1196: UserWarning: l1_ratio parameter is only used when penalty is 'elasticnet'. Got (penalty=l2)\n",
      "  warnings.warn(\n"
     ]
    },
    {
     "name": "stdout",
     "output_type": "stream",
     "text": [
      "Timestep 16.00% (Optimized): Training Loss = 0.5862, Accuracy = 0.6835, Test Loss = 0.5845, Test Accuracy = 0.6982\n",
      "Processing timestep: 0.165\n"
     ]
    },
    {
     "name": "stderr",
     "output_type": "stream",
     "text": [
      "Best trial: 48. Best value: 0.616587: 100%|██████████| 50/50 [00:06<00:00,  8.19it/s]\n"
     ]
    },
    {
     "name": "stdout",
     "output_type": "stream",
     "text": [
      "Timestep 16.50% (Optimized): Training Loss = 0.5994, Accuracy = 0.6729, Test Loss = 0.6166, Test Accuracy = 0.6444\n",
      "Processing timestep: 0.17\n"
     ]
    },
    {
     "name": "stderr",
     "output_type": "stream",
     "text": [
      "Best trial: 36. Best value: 0.612028: 100%|██████████| 50/50 [00:02<00:00, 16.70it/s]\n",
      "/Users/aly/Documents/University_of_Waterloo/Winter 2025/Research/code/NFL_env/lib/python3.9/site-packages/sklearn/linear_model/_logistic.py:1196: UserWarning: l1_ratio parameter is only used when penalty is 'elasticnet'. Got (penalty=l2)\n",
      "  warnings.warn(\n"
     ]
    },
    {
     "name": "stdout",
     "output_type": "stream",
     "text": [
      "Timestep 17.00% (Optimized): Training Loss = 0.5902, Accuracy = 0.6834, Test Loss = 0.6120, Test Accuracy = 0.6598\n",
      "Processing timestep: 0.175\n"
     ]
    },
    {
     "name": "stderr",
     "output_type": "stream",
     "text": [
      "Best trial: 42. Best value: 0.618499: 100%|██████████| 50/50 [00:02<00:00, 20.06it/s]\n",
      "/Users/aly/Documents/University_of_Waterloo/Winter 2025/Research/code/NFL_env/lib/python3.9/site-packages/sklearn/linear_model/_logistic.py:1196: UserWarning: l1_ratio parameter is only used when penalty is 'elasticnet'. Got (penalty=l2)\n",
      "  warnings.warn(\n"
     ]
    },
    {
     "name": "stdout",
     "output_type": "stream",
     "text": [
      "Timestep 17.50% (Optimized): Training Loss = 0.5998, Accuracy = 0.6773, Test Loss = 0.6185, Test Accuracy = 0.6499\n",
      "Processing timestep: 0.18\n"
     ]
    },
    {
     "name": "stderr",
     "output_type": "stream",
     "text": [
      "Best trial: 42. Best value: 0.582769: 100%|██████████| 50/50 [00:05<00:00,  8.90it/s]\n"
     ]
    },
    {
     "name": "stdout",
     "output_type": "stream",
     "text": [
      "Timestep 18.00% (Optimized): Training Loss = 0.5770, Accuracy = 0.6965, Test Loss = 0.5828, Test Accuracy = 0.6964\n",
      "Processing timestep: 0.185\n"
     ]
    },
    {
     "name": "stderr",
     "output_type": "stream",
     "text": [
      "Best trial: 12. Best value: 0.583528: 100%|██████████| 50/50 [00:01<00:00, 25.36it/s]\n"
     ]
    },
    {
     "name": "stdout",
     "output_type": "stream",
     "text": [
      "Timestep 18.50% (Optimized): Training Loss = 0.5877, Accuracy = 0.6837, Test Loss = 0.5835, Test Accuracy = 0.7175\n",
      "Processing timestep: 0.19\n"
     ]
    },
    {
     "name": "stderr",
     "output_type": "stream",
     "text": [
      "Best trial: 43. Best value: 0.603467: 100%|██████████| 50/50 [00:01<00:00, 25.96it/s]\n",
      "/Users/aly/Documents/University_of_Waterloo/Winter 2025/Research/code/NFL_env/lib/python3.9/site-packages/sklearn/linear_model/_logistic.py:1196: UserWarning: l1_ratio parameter is only used when penalty is 'elasticnet'. Got (penalty=l2)\n",
      "  warnings.warn(\n"
     ]
    },
    {
     "name": "stdout",
     "output_type": "stream",
     "text": [
      "Timestep 19.00% (Optimized): Training Loss = 0.5798, Accuracy = 0.6936, Test Loss = 0.6035, Test Accuracy = 0.6817\n",
      "Processing timestep: 0.195\n"
     ]
    },
    {
     "name": "stderr",
     "output_type": "stream",
     "text": [
      "Best trial: 46. Best value: 0.567796: 100%|██████████| 50/50 [00:05<00:00,  8.96it/s]\n",
      "/Users/aly/Documents/University_of_Waterloo/Winter 2025/Research/code/NFL_env/lib/python3.9/site-packages/sklearn/linear_model/_logistic.py:1196: UserWarning: l1_ratio parameter is only used when penalty is 'elasticnet'. Got (penalty=l1)\n",
      "  warnings.warn(\n"
     ]
    },
    {
     "name": "stdout",
     "output_type": "stream",
     "text": [
      "Timestep 19.50% (Optimized): Training Loss = 0.5730, Accuracy = 0.6942, Test Loss = 0.5678, Test Accuracy = 0.7139\n",
      "Processing timestep: 0.2\n"
     ]
    },
    {
     "name": "stderr",
     "output_type": "stream",
     "text": [
      "Best trial: 22. Best value: 0.583116: 100%|██████████| 50/50 [00:03<00:00, 14.38it/s]\n",
      "/Users/aly/Documents/University_of_Waterloo/Winter 2025/Research/code/NFL_env/lib/python3.9/site-packages/sklearn/linear_model/_logistic.py:1196: UserWarning: l1_ratio parameter is only used when penalty is 'elasticnet'. Got (penalty=l1)\n",
      "  warnings.warn(\n"
     ]
    },
    {
     "name": "stdout",
     "output_type": "stream",
     "text": [
      "Timestep 20.00% (Optimized): Training Loss = 0.5820, Accuracy = 0.6938, Test Loss = 0.5831, Test Accuracy = 0.7201\n",
      "Processing timestep: 0.205\n"
     ]
    },
    {
     "name": "stderr",
     "output_type": "stream",
     "text": [
      "Best trial: 21. Best value: 0.573814: 100%|██████████| 50/50 [00:02<00:00, 18.09it/s]\n",
      "/Users/aly/Documents/University_of_Waterloo/Winter 2025/Research/code/NFL_env/lib/python3.9/site-packages/sklearn/linear_model/_logistic.py:1196: UserWarning: l1_ratio parameter is only used when penalty is 'elasticnet'. Got (penalty=l2)\n",
      "  warnings.warn(\n"
     ]
    },
    {
     "name": "stdout",
     "output_type": "stream",
     "text": [
      "Timestep 20.50% (Optimized): Training Loss = 0.5761, Accuracy = 0.6905, Test Loss = 0.5738, Test Accuracy = 0.7194\n",
      "Processing timestep: 0.21\n"
     ]
    },
    {
     "name": "stderr",
     "output_type": "stream",
     "text": [
      "Best trial: 27. Best value: 0.584689: 100%|██████████| 50/50 [00:02<00:00, 23.84it/s]\n",
      "/Users/aly/Documents/University_of_Waterloo/Winter 2025/Research/code/NFL_env/lib/python3.9/site-packages/sklearn/linear_model/_logistic.py:1196: UserWarning: l1_ratio parameter is only used when penalty is 'elasticnet'. Got (penalty=l1)\n",
      "  warnings.warn(\n"
     ]
    },
    {
     "name": "stdout",
     "output_type": "stream",
     "text": [
      "Timestep 21.00% (Optimized): Training Loss = 0.5727, Accuracy = 0.6999, Test Loss = 0.5847, Test Accuracy = 0.6832\n",
      "Processing timestep: 0.215\n"
     ]
    },
    {
     "name": "stderr",
     "output_type": "stream",
     "text": [
      "Best trial: 29. Best value: 0.5771: 100%|██████████| 50/50 [00:01<00:00, 32.39it/s]  \n",
      "/Users/aly/Documents/University_of_Waterloo/Winter 2025/Research/code/NFL_env/lib/python3.9/site-packages/sklearn/linear_model/_logistic.py:1196: UserWarning: l1_ratio parameter is only used when penalty is 'elasticnet'. Got (penalty=l1)\n",
      "  warnings.warn(\n"
     ]
    },
    {
     "name": "stdout",
     "output_type": "stream",
     "text": [
      "Timestep 21.50% (Optimized): Training Loss = 0.5795, Accuracy = 0.6968, Test Loss = 0.5771, Test Accuracy = 0.7194\n",
      "Processing timestep: 0.22\n"
     ]
    },
    {
     "name": "stderr",
     "output_type": "stream",
     "text": [
      "Best trial: 13. Best value: 0.564995: 100%|██████████| 50/50 [00:02<00:00, 17.06it/s]\n",
      "/Users/aly/Documents/University_of_Waterloo/Winter 2025/Research/code/NFL_env/lib/python3.9/site-packages/sklearn/linear_model/_logistic.py:1196: UserWarning: l1_ratio parameter is only used when penalty is 'elasticnet'. Got (penalty=l1)\n",
      "  warnings.warn(\n"
     ]
    },
    {
     "name": "stdout",
     "output_type": "stream",
     "text": [
      "Timestep 22.00% (Optimized): Training Loss = 0.5711, Accuracy = 0.7093, Test Loss = 0.5650, Test Accuracy = 0.6877\n",
      "Processing timestep: 0.225\n"
     ]
    },
    {
     "name": "stderr",
     "output_type": "stream",
     "text": [
      "Best trial: 46. Best value: 0.557188: 100%|██████████| 50/50 [00:02<00:00, 20.53it/s]\n",
      "/Users/aly/Documents/University_of_Waterloo/Winter 2025/Research/code/NFL_env/lib/python3.9/site-packages/sklearn/linear_model/_logistic.py:1196: UserWarning: l1_ratio parameter is only used when penalty is 'elasticnet'. Got (penalty=l2)\n",
      "  warnings.warn(\n"
     ]
    },
    {
     "name": "stdout",
     "output_type": "stream",
     "text": [
      "Timestep 22.50% (Optimized): Training Loss = 0.5618, Accuracy = 0.7106, Test Loss = 0.5572, Test Accuracy = 0.7021\n",
      "Processing timestep: 0.23\n"
     ]
    },
    {
     "name": "stderr",
     "output_type": "stream",
     "text": [
      "Best trial: 25. Best value: 0.629171: 100%|██████████| 50/50 [00:02<00:00, 20.08it/s]\n",
      "/Users/aly/Documents/University_of_Waterloo/Winter 2025/Research/code/NFL_env/lib/python3.9/site-packages/sklearn/linear_model/_logistic.py:1196: UserWarning: l1_ratio parameter is only used when penalty is 'elasticnet'. Got (penalty=l1)\n",
      "  warnings.warn(\n"
     ]
    },
    {
     "name": "stdout",
     "output_type": "stream",
     "text": [
      "Timestep 23.00% (Optimized): Training Loss = 0.5754, Accuracy = 0.7040, Test Loss = 0.6292, Test Accuracy = 0.6385\n",
      "Processing timestep: 0.235\n"
     ]
    },
    {
     "name": "stderr",
     "output_type": "stream",
     "text": [
      "Best trial: 42. Best value: 0.539086: 100%|██████████| 50/50 [00:02<00:00, 24.42it/s]\n"
     ]
    },
    {
     "name": "stdout",
     "output_type": "stream",
     "text": [
      "Timestep 23.50% (Optimized): Training Loss = 0.5596, Accuracy = 0.7142, Test Loss = 0.5391, Test Accuracy = 0.7227\n",
      "Processing timestep: 0.24\n"
     ]
    },
    {
     "name": "stderr",
     "output_type": "stream",
     "text": [
      "Best trial: 14. Best value: 0.564637: 100%|██████████| 50/50 [00:05<00:00,  9.71it/s]\n"
     ]
    },
    {
     "name": "stdout",
     "output_type": "stream",
     "text": [
      "Timestep 24.00% (Optimized): Training Loss = 0.5824, Accuracy = 0.6902, Test Loss = 0.5646, Test Accuracy = 0.7086\n",
      "Processing timestep: 0.245\n"
     ]
    },
    {
     "name": "stderr",
     "output_type": "stream",
     "text": [
      "Best trial: 0. Best value: 0.581625: 100%|██████████| 50/50 [00:04<00:00, 11.30it/s]\n",
      "/Users/aly/Documents/University_of_Waterloo/Winter 2025/Research/code/NFL_env/lib/python3.9/site-packages/sklearn/linear_model/_logistic.py:1196: UserWarning: l1_ratio parameter is only used when penalty is 'elasticnet'. Got (penalty=l1)\n",
      "  warnings.warn(\n"
     ]
    },
    {
     "name": "stdout",
     "output_type": "stream",
     "text": [
      "Timestep 24.50% (Optimized): Training Loss = 0.5703, Accuracy = 0.7042, Test Loss = 0.5816, Test Accuracy = 0.6791\n",
      "Processing timestep: 0.25\n"
     ]
    },
    {
     "name": "stderr",
     "output_type": "stream",
     "text": [
      "Best trial: 23. Best value: 0.556308: 100%|██████████| 50/50 [00:05<00:00,  8.57it/s]\n",
      "/Users/aly/Documents/University_of_Waterloo/Winter 2025/Research/code/NFL_env/lib/python3.9/site-packages/sklearn/linear_model/_logistic.py:1196: UserWarning: l1_ratio parameter is only used when penalty is 'elasticnet'. Got (penalty=l1)\n",
      "  warnings.warn(\n"
     ]
    },
    {
     "name": "stdout",
     "output_type": "stream",
     "text": [
      "Timestep 25.00% (Optimized): Training Loss = 0.5653, Accuracy = 0.7048, Test Loss = 0.5563, Test Accuracy = 0.7184\n",
      "Processing timestep: 0.255\n"
     ]
    },
    {
     "name": "stderr",
     "output_type": "stream",
     "text": [
      "Best trial: 25. Best value: 0.660531: 100%|██████████| 50/50 [00:01<00:00, 33.66it/s]\n",
      "/Users/aly/Documents/University_of_Waterloo/Winter 2025/Research/code/NFL_env/lib/python3.9/site-packages/sklearn/linear_model/_logistic.py:1196: UserWarning: l1_ratio parameter is only used when penalty is 'elasticnet'. Got (penalty=l1)\n",
      "  warnings.warn(\n"
     ]
    },
    {
     "name": "stdout",
     "output_type": "stream",
     "text": [
      "Timestep 25.50% (Optimized): Training Loss = 0.5778, Accuracy = 0.7118, Test Loss = 0.6605, Test Accuracy = 0.5792\n",
      "Processing timestep: 0.26\n"
     ]
    },
    {
     "name": "stderr",
     "output_type": "stream",
     "text": [
      "Best trial: 32. Best value: 0.57674: 100%|██████████| 50/50 [00:06<00:00,  7.32it/s] \n",
      "/Users/aly/Documents/University_of_Waterloo/Winter 2025/Research/code/NFL_env/lib/python3.9/site-packages/sklearn/linear_model/_logistic.py:1196: UserWarning: l1_ratio parameter is only used when penalty is 'elasticnet'. Got (penalty=l2)\n",
      "  warnings.warn(\n"
     ]
    },
    {
     "name": "stdout",
     "output_type": "stream",
     "text": [
      "Timestep 26.00% (Optimized): Training Loss = 0.5641, Accuracy = 0.7077, Test Loss = 0.5767, Test Accuracy = 0.6943\n",
      "Processing timestep: 0.265\n"
     ]
    },
    {
     "name": "stderr",
     "output_type": "stream",
     "text": [
      "Best trial: 41. Best value: 0.589375: 100%|██████████| 50/50 [00:02<00:00, 21.60it/s]\n",
      "/Users/aly/Documents/University_of_Waterloo/Winter 2025/Research/code/NFL_env/lib/python3.9/site-packages/sklearn/linear_model/_logistic.py:1196: UserWarning: l1_ratio parameter is only used when penalty is 'elasticnet'. Got (penalty=l1)\n",
      "  warnings.warn(\n"
     ]
    },
    {
     "name": "stdout",
     "output_type": "stream",
     "text": [
      "Timestep 26.50% (Optimized): Training Loss = 0.5651, Accuracy = 0.7039, Test Loss = 0.5894, Test Accuracy = 0.6744\n",
      "Processing timestep: 0.27\n"
     ]
    },
    {
     "name": "stderr",
     "output_type": "stream",
     "text": [
      "Best trial: 43. Best value: 0.576442: 100%|██████████| 50/50 [00:02<00:00, 16.88it/s]\n",
      "/Users/aly/Documents/University_of_Waterloo/Winter 2025/Research/code/NFL_env/lib/python3.9/site-packages/sklearn/linear_model/_logistic.py:1196: UserWarning: l1_ratio parameter is only used when penalty is 'elasticnet'. Got (penalty=l2)\n",
      "  warnings.warn(\n"
     ]
    },
    {
     "name": "stdout",
     "output_type": "stream",
     "text": [
      "Timestep 27.00% (Optimized): Training Loss = 0.5564, Accuracy = 0.7136, Test Loss = 0.5764, Test Accuracy = 0.6832\n",
      "Processing timestep: 0.275\n"
     ]
    },
    {
     "name": "stderr",
     "output_type": "stream",
     "text": [
      "Best trial: 43. Best value: 0.561184: 100%|██████████| 50/50 [00:02<00:00, 23.97it/s]\n",
      "/Users/aly/Documents/University_of_Waterloo/Winter 2025/Research/code/NFL_env/lib/python3.9/site-packages/sklearn/linear_model/_logistic.py:1196: UserWarning: l1_ratio parameter is only used when penalty is 'elasticnet'. Got (penalty=l1)\n",
      "  warnings.warn(\n"
     ]
    },
    {
     "name": "stdout",
     "output_type": "stream",
     "text": [
      "Timestep 27.50% (Optimized): Training Loss = 0.5617, Accuracy = 0.6976, Test Loss = 0.5612, Test Accuracy = 0.6961\n",
      "Processing timestep: 0.28\n"
     ]
    },
    {
     "name": "stderr",
     "output_type": "stream",
     "text": [
      "Best trial: 48. Best value: 0.575773: 100%|██████████| 50/50 [00:01<00:00, 34.41it/s]\n",
      "/Users/aly/Documents/University_of_Waterloo/Winter 2025/Research/code/NFL_env/lib/python3.9/site-packages/sklearn/linear_model/_logistic.py:1196: UserWarning: l1_ratio parameter is only used when penalty is 'elasticnet'. Got (penalty=l1)\n",
      "  warnings.warn(\n"
     ]
    },
    {
     "name": "stdout",
     "output_type": "stream",
     "text": [
      "Timestep 28.00% (Optimized): Training Loss = 0.5574, Accuracy = 0.7115, Test Loss = 0.5758, Test Accuracy = 0.6925\n",
      "Processing timestep: 0.285\n"
     ]
    },
    {
     "name": "stderr",
     "output_type": "stream",
     "text": [
      "Best trial: 22. Best value: 0.533966: 100%|██████████| 50/50 [00:02<00:00, 17.25it/s]\n"
     ]
    },
    {
     "name": "stdout",
     "output_type": "stream",
     "text": [
      "Timestep 28.50% (Optimized): Training Loss = 0.5524, Accuracy = 0.7171, Test Loss = 0.5340, Test Accuracy = 0.7181\n",
      "Processing timestep: 0.29\n"
     ]
    },
    {
     "name": "stderr",
     "output_type": "stream",
     "text": [
      "Best trial: 32. Best value: 0.581103: 100%|██████████| 50/50 [00:01<00:00, 36.03it/s]\n",
      "/Users/aly/Documents/University_of_Waterloo/Winter 2025/Research/code/NFL_env/lib/python3.9/site-packages/sklearn/linear_model/_logistic.py:1196: UserWarning: l1_ratio parameter is only used when penalty is 'elasticnet'. Got (penalty=l2)\n",
      "  warnings.warn(\n"
     ]
    },
    {
     "name": "stdout",
     "output_type": "stream",
     "text": [
      "Timestep 29.00% (Optimized): Training Loss = 0.5606, Accuracy = 0.7049, Test Loss = 0.5811, Test Accuracy = 0.6474\n",
      "Processing timestep: 0.295\n"
     ]
    },
    {
     "name": "stderr",
     "output_type": "stream",
     "text": [
      "Best trial: 20. Best value: 0.588351: 100%|██████████| 50/50 [00:03<00:00, 16.18it/s]\n",
      "/Users/aly/Documents/University_of_Waterloo/Winter 2025/Research/code/NFL_env/lib/python3.9/site-packages/sklearn/linear_model/_logistic.py:1196: UserWarning: l1_ratio parameter is only used when penalty is 'elasticnet'. Got (penalty=l2)\n",
      "  warnings.warn(\n"
     ]
    },
    {
     "name": "stdout",
     "output_type": "stream",
     "text": [
      "Timestep 29.50% (Optimized): Training Loss = 0.5563, Accuracy = 0.7053, Test Loss = 0.5884, Test Accuracy = 0.6697\n",
      "Processing timestep: 0.3\n"
     ]
    },
    {
     "name": "stderr",
     "output_type": "stream",
     "text": [
      "Best trial: 46. Best value: 0.557968: 100%|██████████| 50/50 [00:01<00:00, 30.77it/s]\n",
      "/Users/aly/Documents/University_of_Waterloo/Winter 2025/Research/code/NFL_env/lib/python3.9/site-packages/sklearn/linear_model/_logistic.py:1196: UserWarning: l1_ratio parameter is only used when penalty is 'elasticnet'. Got (penalty=l2)\n",
      "  warnings.warn(\n"
     ]
    },
    {
     "name": "stdout",
     "output_type": "stream",
     "text": [
      "Timestep 30.00% (Optimized): Training Loss = 0.5539, Accuracy = 0.7085, Test Loss = 0.5580, Test Accuracy = 0.7108\n",
      "Processing timestep: 0.305\n"
     ]
    },
    {
     "name": "stderr",
     "output_type": "stream",
     "text": [
      "Best trial: 32. Best value: 0.591181: 100%|██████████| 50/50 [00:01<00:00, 25.63it/s]\n"
     ]
    },
    {
     "name": "stdout",
     "output_type": "stream",
     "text": [
      "Timestep 30.50% (Optimized): Training Loss = 0.5548, Accuracy = 0.7043, Test Loss = 0.5912, Test Accuracy = 0.6799\n",
      "Processing timestep: 0.31\n"
     ]
    },
    {
     "name": "stderr",
     "output_type": "stream",
     "text": [
      "Best trial: 20. Best value: 0.550597: 100%|██████████| 50/50 [00:04<00:00, 11.72it/s]\n",
      "/Users/aly/Documents/University_of_Waterloo/Winter 2025/Research/code/NFL_env/lib/python3.9/site-packages/sklearn/linear_model/_logistic.py:1196: UserWarning: l1_ratio parameter is only used when penalty is 'elasticnet'. Got (penalty=l2)\n",
      "  warnings.warn(\n"
     ]
    },
    {
     "name": "stdout",
     "output_type": "stream",
     "text": [
      "Timestep 31.00% (Optimized): Training Loss = 0.5428, Accuracy = 0.7101, Test Loss = 0.5506, Test Accuracy = 0.7214\n",
      "Processing timestep: 0.315\n"
     ]
    },
    {
     "name": "stderr",
     "output_type": "stream",
     "text": [
      "Best trial: 25. Best value: 0.567543: 100%|██████████| 50/50 [00:05<00:00,  9.07it/s]\n",
      "/Users/aly/Documents/University_of_Waterloo/Winter 2025/Research/code/NFL_env/lib/python3.9/site-packages/sklearn/linear_model/_logistic.py:1196: UserWarning: l1_ratio parameter is only used when penalty is 'elasticnet'. Got (penalty=l2)\n",
      "  warnings.warn(\n"
     ]
    },
    {
     "name": "stdout",
     "output_type": "stream",
     "text": [
      "Timestep 31.50% (Optimized): Training Loss = 0.5671, Accuracy = 0.6975, Test Loss = 0.5675, Test Accuracy = 0.7116\n",
      "Processing timestep: 0.32\n"
     ]
    },
    {
     "name": "stderr",
     "output_type": "stream",
     "text": [
      "Best trial: 41. Best value: 0.557654: 100%|██████████| 50/50 [00:10<00:00,  4.66it/s]\n",
      "/Users/aly/Documents/University_of_Waterloo/Winter 2025/Research/code/NFL_env/lib/python3.9/site-packages/sklearn/linear_model/_logistic.py:1196: UserWarning: l1_ratio parameter is only used when penalty is 'elasticnet'. Got (penalty=l2)\n",
      "  warnings.warn(\n"
     ]
    },
    {
     "name": "stdout",
     "output_type": "stream",
     "text": [
      "Timestep 32.00% (Optimized): Training Loss = 0.5400, Accuracy = 0.7121, Test Loss = 0.5577, Test Accuracy = 0.6946\n",
      "Processing timestep: 0.325\n"
     ]
    },
    {
     "name": "stderr",
     "output_type": "stream",
     "text": [
      "Best trial: 31. Best value: 0.58667: 100%|██████████| 50/50 [00:02<00:00, 19.30it/s] \n",
      "/Users/aly/Documents/University_of_Waterloo/Winter 2025/Research/code/NFL_env/lib/python3.9/site-packages/sklearn/linear_model/_logistic.py:1196: UserWarning: l1_ratio parameter is only used when penalty is 'elasticnet'. Got (penalty=l1)\n",
      "  warnings.warn(\n"
     ]
    },
    {
     "name": "stdout",
     "output_type": "stream",
     "text": [
      "Timestep 32.50% (Optimized): Training Loss = 0.5502, Accuracy = 0.7268, Test Loss = 0.5867, Test Accuracy = 0.6787\n",
      "Processing timestep: 0.33\n"
     ]
    },
    {
     "name": "stderr",
     "output_type": "stream",
     "text": [
      "Best trial: 24. Best value: 0.552764: 100%|██████████| 50/50 [00:01<00:00, 28.16it/s]\n"
     ]
    },
    {
     "name": "stdout",
     "output_type": "stream",
     "text": [
      "Timestep 33.00% (Optimized): Training Loss = 0.5504, Accuracy = 0.7217, Test Loss = 0.5528, Test Accuracy = 0.7139\n",
      "Processing timestep: 0.335\n"
     ]
    },
    {
     "name": "stderr",
     "output_type": "stream",
     "text": [
      "Best trial: 41. Best value: 0.527781: 100%|██████████| 50/50 [00:05<00:00,  9.02it/s]\n",
      "/Users/aly/Documents/University_of_Waterloo/Winter 2025/Research/code/NFL_env/lib/python3.9/site-packages/sklearn/linear_model/_logistic.py:1196: UserWarning: l1_ratio parameter is only used when penalty is 'elasticnet'. Got (penalty=l2)\n",
      "  warnings.warn(\n"
     ]
    },
    {
     "name": "stdout",
     "output_type": "stream",
     "text": [
      "Timestep 33.50% (Optimized): Training Loss = 0.5311, Accuracy = 0.7321, Test Loss = 0.5278, Test Accuracy = 0.7187\n",
      "Processing timestep: 0.34\n"
     ]
    },
    {
     "name": "stderr",
     "output_type": "stream",
     "text": [
      "Best trial: 21. Best value: 0.514058: 100%|██████████| 50/50 [00:02<00:00, 20.01it/s]\n"
     ]
    },
    {
     "name": "stdout",
     "output_type": "stream",
     "text": [
      "Timestep 34.00% (Optimized): Training Loss = 0.5347, Accuracy = 0.7267, Test Loss = 0.5141, Test Accuracy = 0.7439\n",
      "Processing timestep: 0.345\n"
     ]
    },
    {
     "name": "stderr",
     "output_type": "stream",
     "text": [
      "Best trial: 42. Best value: 0.540421: 100%|██████████| 50/50 [00:02<00:00, 16.74it/s]\n",
      "/Users/aly/Documents/University_of_Waterloo/Winter 2025/Research/code/NFL_env/lib/python3.9/site-packages/sklearn/linear_model/_logistic.py:1196: UserWarning: l1_ratio parameter is only used when penalty is 'elasticnet'. Got (penalty=l1)\n",
      "  warnings.warn(\n"
     ]
    },
    {
     "name": "stdout",
     "output_type": "stream",
     "text": [
      "Timestep 34.50% (Optimized): Training Loss = 0.5324, Accuracy = 0.7324, Test Loss = 0.5404, Test Accuracy = 0.7134\n",
      "Processing timestep: 0.35\n"
     ]
    },
    {
     "name": "stderr",
     "output_type": "stream",
     "text": [
      "Best trial: 41. Best value: 0.558447: 100%|██████████| 50/50 [00:01<00:00, 35.99it/s]\n",
      "/Users/aly/Documents/University_of_Waterloo/Winter 2025/Research/code/NFL_env/lib/python3.9/site-packages/sklearn/linear_model/_logistic.py:1196: UserWarning: l1_ratio parameter is only used when penalty is 'elasticnet'. Got (penalty=l1)\n",
      "  warnings.warn(\n"
     ]
    },
    {
     "name": "stdout",
     "output_type": "stream",
     "text": [
      "Timestep 35.00% (Optimized): Training Loss = 0.5414, Accuracy = 0.7185, Test Loss = 0.5584, Test Accuracy = 0.7003\n",
      "Processing timestep: 0.355\n"
     ]
    },
    {
     "name": "stderr",
     "output_type": "stream",
     "text": [
      "Best trial: 44. Best value: 0.543189: 100%|██████████| 50/50 [00:01<00:00, 25.88it/s]\n",
      "/Users/aly/Documents/University_of_Waterloo/Winter 2025/Research/code/NFL_env/lib/python3.9/site-packages/sklearn/linear_model/_logistic.py:1196: UserWarning: l1_ratio parameter is only used when penalty is 'elasticnet'. Got (penalty=l2)\n",
      "  warnings.warn(\n"
     ]
    },
    {
     "name": "stdout",
     "output_type": "stream",
     "text": [
      "Timestep 35.50% (Optimized): Training Loss = 0.5362, Accuracy = 0.7187, Test Loss = 0.5432, Test Accuracy = 0.7341\n",
      "Processing timestep: 0.36\n"
     ]
    },
    {
     "name": "stderr",
     "output_type": "stream",
     "text": [
      "Best trial: 45. Best value: 0.539986: 100%|██████████| 50/50 [00:01<00:00, 27.50it/s]\n"
     ]
    },
    {
     "name": "stdout",
     "output_type": "stream",
     "text": [
      "Timestep 36.00% (Optimized): Training Loss = 0.5474, Accuracy = 0.7227, Test Loss = 0.5400, Test Accuracy = 0.7159\n",
      "Processing timestep: 0.365\n"
     ]
    },
    {
     "name": "stderr",
     "output_type": "stream",
     "text": [
      "Best trial: 41. Best value: 0.562539: 100%|██████████| 50/50 [00:01<00:00, 27.11it/s]\n"
     ]
    },
    {
     "name": "stdout",
     "output_type": "stream",
     "text": [
      "Timestep 36.50% (Optimized): Training Loss = 0.5299, Accuracy = 0.7394, Test Loss = 0.5625, Test Accuracy = 0.7072\n",
      "Processing timestep: 0.37\n"
     ]
    },
    {
     "name": "stderr",
     "output_type": "stream",
     "text": [
      "Best trial: 47. Best value: 0.579981: 100%|██████████| 50/50 [00:02<00:00, 23.12it/s]\n",
      "/Users/aly/Documents/University_of_Waterloo/Winter 2025/Research/code/NFL_env/lib/python3.9/site-packages/sklearn/linear_model/_logistic.py:1196: UserWarning: l1_ratio parameter is only used when penalty is 'elasticnet'. Got (penalty=l1)\n",
      "  warnings.warn(\n"
     ]
    },
    {
     "name": "stdout",
     "output_type": "stream",
     "text": [
      "Timestep 37.00% (Optimized): Training Loss = 0.5470, Accuracy = 0.7274, Test Loss = 0.5800, Test Accuracy = 0.7018\n",
      "Processing timestep: 0.375\n"
     ]
    },
    {
     "name": "stderr",
     "output_type": "stream",
     "text": [
      "Best trial: 34. Best value: 0.552579: 100%|██████████| 50/50 [00:02<00:00, 23.48it/s]\n",
      "/Users/aly/Documents/University_of_Waterloo/Winter 2025/Research/code/NFL_env/lib/python3.9/site-packages/sklearn/linear_model/_logistic.py:1196: UserWarning: l1_ratio parameter is only used when penalty is 'elasticnet'. Got (penalty=l1)\n",
      "  warnings.warn(\n"
     ]
    },
    {
     "name": "stdout",
     "output_type": "stream",
     "text": [
      "Timestep 37.50% (Optimized): Training Loss = 0.5250, Accuracy = 0.7290, Test Loss = 0.5526, Test Accuracy = 0.7385\n",
      "Processing timestep: 0.38\n"
     ]
    },
    {
     "name": "stderr",
     "output_type": "stream",
     "text": [
      "Best trial: 41. Best value: 0.517832: 100%|██████████| 50/50 [00:02<00:00, 21.70it/s]\n"
     ]
    },
    {
     "name": "stdout",
     "output_type": "stream",
     "text": [
      "Timestep 38.00% (Optimized): Training Loss = 0.5186, Accuracy = 0.7362, Test Loss = 0.5178, Test Accuracy = 0.7520\n",
      "Processing timestep: 0.385\n"
     ]
    },
    {
     "name": "stderr",
     "output_type": "stream",
     "text": [
      "Best trial: 23. Best value: 0.549083: 100%|██████████| 50/50 [00:02<00:00, 18.53it/s]\n"
     ]
    },
    {
     "name": "stdout",
     "output_type": "stream",
     "text": [
      "Timestep 38.50% (Optimized): Training Loss = 0.5379, Accuracy = 0.7207, Test Loss = 0.5491, Test Accuracy = 0.7233\n",
      "Processing timestep: 0.39\n"
     ]
    },
    {
     "name": "stderr",
     "output_type": "stream",
     "text": [
      "Best trial: 42. Best value: 0.54092: 100%|██████████| 50/50 [00:08<00:00,  5.57it/s] \n",
      "/Users/aly/Documents/University_of_Waterloo/Winter 2025/Research/code/NFL_env/lib/python3.9/site-packages/sklearn/linear_model/_logistic.py:1196: UserWarning: l1_ratio parameter is only used when penalty is 'elasticnet'. Got (penalty=l2)\n",
      "  warnings.warn(\n"
     ]
    },
    {
     "name": "stdout",
     "output_type": "stream",
     "text": [
      "Timestep 39.00% (Optimized): Training Loss = 0.5255, Accuracy = 0.7274, Test Loss = 0.5409, Test Accuracy = 0.7346\n",
      "Processing timestep: 0.395\n"
     ]
    },
    {
     "name": "stderr",
     "output_type": "stream",
     "text": [
      "Best trial: 41. Best value: 0.55105: 100%|██████████| 50/50 [00:01<00:00, 34.83it/s] \n",
      "/Users/aly/Documents/University_of_Waterloo/Winter 2025/Research/code/NFL_env/lib/python3.9/site-packages/sklearn/linear_model/_logistic.py:1196: UserWarning: l1_ratio parameter is only used when penalty is 'elasticnet'. Got (penalty=l1)\n",
      "  warnings.warn(\n"
     ]
    },
    {
     "name": "stdout",
     "output_type": "stream",
     "text": [
      "Timestep 39.50% (Optimized): Training Loss = 0.5332, Accuracy = 0.7263, Test Loss = 0.5510, Test Accuracy = 0.7454\n",
      "Processing timestep: 0.4\n"
     ]
    },
    {
     "name": "stderr",
     "output_type": "stream",
     "text": [
      "Best trial: 47. Best value: 0.53475: 100%|██████████| 50/50 [00:02<00:00, 17.70it/s] \n"
     ]
    },
    {
     "name": "stdout",
     "output_type": "stream",
     "text": [
      "Timestep 40.00% (Optimized): Training Loss = 0.5355, Accuracy = 0.7251, Test Loss = 0.5347, Test Accuracy = 0.7465\n",
      "Processing timestep: 0.405\n"
     ]
    },
    {
     "name": "stderr",
     "output_type": "stream",
     "text": [
      "Best trial: 22. Best value: 0.532184: 100%|██████████| 50/50 [00:02<00:00, 21.30it/s]\n"
     ]
    },
    {
     "name": "stdout",
     "output_type": "stream",
     "text": [
      "Timestep 40.50% (Optimized): Training Loss = 0.5114, Accuracy = 0.7548, Test Loss = 0.5322, Test Accuracy = 0.7447\n",
      "Processing timestep: 0.41\n"
     ]
    },
    {
     "name": "stderr",
     "output_type": "stream",
     "text": [
      "Best trial: 41. Best value: 0.57993: 100%|██████████| 50/50 [00:01<00:00, 25.43it/s] \n",
      "/Users/aly/Documents/University_of_Waterloo/Winter 2025/Research/code/NFL_env/lib/python3.9/site-packages/sklearn/linear_model/_logistic.py:1196: UserWarning: l1_ratio parameter is only used when penalty is 'elasticnet'. Got (penalty=l1)\n",
      "  warnings.warn(\n"
     ]
    },
    {
     "name": "stdout",
     "output_type": "stream",
     "text": [
      "Timestep 41.00% (Optimized): Training Loss = 0.5408, Accuracy = 0.7273, Test Loss = 0.5799, Test Accuracy = 0.7017\n",
      "Processing timestep: 0.415\n"
     ]
    },
    {
     "name": "stderr",
     "output_type": "stream",
     "text": [
      "Best trial: 21. Best value: 0.542211: 100%|██████████| 50/50 [00:11<00:00,  4.41it/s]\n",
      "/Users/aly/Documents/University_of_Waterloo/Winter 2025/Research/code/NFL_env/lib/python3.9/site-packages/sklearn/linear_model/_logistic.py:1196: UserWarning: l1_ratio parameter is only used when penalty is 'elasticnet'. Got (penalty=l2)\n",
      "  warnings.warn(\n"
     ]
    },
    {
     "name": "stdout",
     "output_type": "stream",
     "text": [
      "Timestep 41.50% (Optimized): Training Loss = 0.5201, Accuracy = 0.7373, Test Loss = 0.5422, Test Accuracy = 0.7386\n",
      "Processing timestep: 0.42\n"
     ]
    },
    {
     "name": "stderr",
     "output_type": "stream",
     "text": [
      "Best trial: 35. Best value: 0.576946: 100%|██████████| 50/50 [00:02<00:00, 20.72it/s]\n"
     ]
    },
    {
     "name": "stdout",
     "output_type": "stream",
     "text": [
      "Timestep 42.00% (Optimized): Training Loss = 0.5377, Accuracy = 0.7244, Test Loss = 0.5769, Test Accuracy = 0.7155\n",
      "Processing timestep: 0.425\n"
     ]
    },
    {
     "name": "stderr",
     "output_type": "stream",
     "text": [
      "Best trial: 43. Best value: 0.564881: 100%|██████████| 50/50 [00:01<00:00, 31.98it/s]\n"
     ]
    },
    {
     "name": "stdout",
     "output_type": "stream",
     "text": [
      "Timestep 42.50% (Optimized): Training Loss = 0.5189, Accuracy = 0.7434, Test Loss = 0.5649, Test Accuracy = 0.7480\n",
      "Processing timestep: 0.43\n"
     ]
    },
    {
     "name": "stderr",
     "output_type": "stream",
     "text": [
      "Best trial: 14. Best value: 0.551377: 100%|██████████| 50/50 [00:02<00:00, 21.51it/s]\n"
     ]
    },
    {
     "name": "stdout",
     "output_type": "stream",
     "text": [
      "Timestep 43.00% (Optimized): Training Loss = 0.5073, Accuracy = 0.7512, Test Loss = 0.5514, Test Accuracy = 0.7399\n",
      "Processing timestep: 0.435\n"
     ]
    },
    {
     "name": "stderr",
     "output_type": "stream",
     "text": [
      "Best trial: 47. Best value: 0.514045: 100%|██████████| 50/50 [00:02<00:00, 19.44it/s]\n",
      "/Users/aly/Documents/University_of_Waterloo/Winter 2025/Research/code/NFL_env/lib/python3.9/site-packages/sklearn/linear_model/_logistic.py:1196: UserWarning: l1_ratio parameter is only used when penalty is 'elasticnet'. Got (penalty=l1)\n",
      "  warnings.warn(\n"
     ]
    },
    {
     "name": "stdout",
     "output_type": "stream",
     "text": [
      "Timestep 43.50% (Optimized): Training Loss = 0.5124, Accuracy = 0.7486, Test Loss = 0.5140, Test Accuracy = 0.7670\n",
      "Processing timestep: 0.44\n"
     ]
    },
    {
     "name": "stderr",
     "output_type": "stream",
     "text": [
      "Best trial: 43. Best value: 0.499374: 100%|██████████| 50/50 [00:02<00:00, 18.01it/s]\n",
      "/Users/aly/Documents/University_of_Waterloo/Winter 2025/Research/code/NFL_env/lib/python3.9/site-packages/sklearn/linear_model/_logistic.py:1196: UserWarning: l1_ratio parameter is only used when penalty is 'elasticnet'. Got (penalty=l1)\n",
      "  warnings.warn(\n"
     ]
    },
    {
     "name": "stdout",
     "output_type": "stream",
     "text": [
      "Timestep 44.00% (Optimized): Training Loss = 0.5117, Accuracy = 0.7416, Test Loss = 0.4994, Test Accuracy = 0.7720\n",
      "Processing timestep: 0.445\n"
     ]
    },
    {
     "name": "stderr",
     "output_type": "stream",
     "text": [
      "Best trial: 33. Best value: 0.572576: 100%|██████████| 50/50 [00:02<00:00, 19.48it/s]\n",
      "/Users/aly/Documents/University_of_Waterloo/Winter 2025/Research/code/NFL_env/lib/python3.9/site-packages/sklearn/linear_model/_logistic.py:1196: UserWarning: l1_ratio parameter is only used when penalty is 'elasticnet'. Got (penalty=l2)\n",
      "  warnings.warn(\n"
     ]
    },
    {
     "name": "stdout",
     "output_type": "stream",
     "text": [
      "Timestep 44.50% (Optimized): Training Loss = 0.5123, Accuracy = 0.7447, Test Loss = 0.5726, Test Accuracy = 0.7229\n",
      "Processing timestep: 0.45\n"
     ]
    },
    {
     "name": "stderr",
     "output_type": "stream",
     "text": [
      "Best trial: 41. Best value: 0.513948: 100%|██████████| 50/50 [00:01<00:00, 25.13it/s]\n",
      "/Users/aly/Documents/University_of_Waterloo/Winter 2025/Research/code/NFL_env/lib/python3.9/site-packages/sklearn/linear_model/_logistic.py:1196: UserWarning: l1_ratio parameter is only used when penalty is 'elasticnet'. Got (penalty=l1)\n",
      "  warnings.warn(\n"
     ]
    },
    {
     "name": "stdout",
     "output_type": "stream",
     "text": [
      "Timestep 45.00% (Optimized): Training Loss = 0.5105, Accuracy = 0.7481, Test Loss = 0.5139, Test Accuracy = 0.7337\n",
      "Processing timestep: 0.455\n"
     ]
    },
    {
     "name": "stderr",
     "output_type": "stream",
     "text": [
      "Best trial: 46. Best value: 0.516235: 100%|██████████| 50/50 [00:01<00:00, 27.62it/s]\n",
      "/Users/aly/Documents/University_of_Waterloo/Winter 2025/Research/code/NFL_env/lib/python3.9/site-packages/sklearn/linear_model/_logistic.py:1196: UserWarning: l1_ratio parameter is only used when penalty is 'elasticnet'. Got (penalty=l1)\n",
      "  warnings.warn(\n"
     ]
    },
    {
     "name": "stdout",
     "output_type": "stream",
     "text": [
      "Timestep 45.50% (Optimized): Training Loss = 0.5234, Accuracy = 0.7352, Test Loss = 0.5162, Test Accuracy = 0.7536\n",
      "Processing timestep: 0.46\n"
     ]
    },
    {
     "name": "stderr",
     "output_type": "stream",
     "text": [
      "Best trial: 20. Best value: 0.50612: 100%|██████████| 50/50 [00:01<00:00, 38.22it/s] \n",
      "/Users/aly/Documents/University_of_Waterloo/Winter 2025/Research/code/NFL_env/lib/python3.9/site-packages/sklearn/linear_model/_logistic.py:1196: UserWarning: l1_ratio parameter is only used when penalty is 'elasticnet'. Got (penalty=l1)\n",
      "  warnings.warn(\n"
     ]
    },
    {
     "name": "stdout",
     "output_type": "stream",
     "text": [
      "Timestep 46.00% (Optimized): Training Loss = 0.5014, Accuracy = 0.7622, Test Loss = 0.5061, Test Accuracy = 0.7811\n",
      "Processing timestep: 0.465\n"
     ]
    },
    {
     "name": "stderr",
     "output_type": "stream",
     "text": [
      "Best trial: 48. Best value: 0.517558: 100%|██████████| 50/50 [00:03<00:00, 14.95it/s]\n"
     ]
    },
    {
     "name": "stdout",
     "output_type": "stream",
     "text": [
      "Timestep 46.50% (Optimized): Training Loss = 0.4851, Accuracy = 0.7689, Test Loss = 0.5176, Test Accuracy = 0.7621\n",
      "Processing timestep: 0.47\n"
     ]
    },
    {
     "name": "stderr",
     "output_type": "stream",
     "text": [
      "Best trial: 12. Best value: 0.533745: 100%|██████████| 50/50 [00:05<00:00,  9.45it/s]\n",
      "/Users/aly/Documents/University_of_Waterloo/Winter 2025/Research/code/NFL_env/lib/python3.9/site-packages/sklearn/linear_model/_logistic.py:1196: UserWarning: l1_ratio parameter is only used when penalty is 'elasticnet'. Got (penalty=l1)\n",
      "  warnings.warn(\n"
     ]
    },
    {
     "name": "stdout",
     "output_type": "stream",
     "text": [
      "Timestep 47.00% (Optimized): Training Loss = 0.4970, Accuracy = 0.7616, Test Loss = 0.5337, Test Accuracy = 0.7286\n",
      "Processing timestep: 0.475\n"
     ]
    },
    {
     "name": "stderr",
     "output_type": "stream",
     "text": [
      "Best trial: 41. Best value: 0.530635: 100%|██████████| 50/50 [00:02<00:00, 20.77it/s]\n",
      "/Users/aly/Documents/University_of_Waterloo/Winter 2025/Research/code/NFL_env/lib/python3.9/site-packages/sklearn/linear_model/_logistic.py:1196: UserWarning: l1_ratio parameter is only used when penalty is 'elasticnet'. Got (penalty=l2)\n",
      "  warnings.warn(\n"
     ]
    },
    {
     "name": "stdout",
     "output_type": "stream",
     "text": [
      "Timestep 47.50% (Optimized): Training Loss = 0.4822, Accuracy = 0.7700, Test Loss = 0.5306, Test Accuracy = 0.7140\n",
      "Processing timestep: 0.48\n"
     ]
    },
    {
     "name": "stderr",
     "output_type": "stream",
     "text": [
      "Best trial: 43. Best value: 0.507876: 100%|██████████| 50/50 [00:02<00:00, 20.59it/s]\n"
     ]
    },
    {
     "name": "stdout",
     "output_type": "stream",
     "text": [
      "Timestep 48.00% (Optimized): Training Loss = 0.4790, Accuracy = 0.7692, Test Loss = 0.5079, Test Accuracy = 0.7524\n",
      "Processing timestep: 0.485\n"
     ]
    },
    {
     "name": "stderr",
     "output_type": "stream",
     "text": [
      "Best trial: 49. Best value: 0.498383: 100%|██████████| 50/50 [00:02<00:00, 23.36it/s]\n",
      "/Users/aly/Documents/University_of_Waterloo/Winter 2025/Research/code/NFL_env/lib/python3.9/site-packages/sklearn/linear_model/_logistic.py:1196: UserWarning: l1_ratio parameter is only used when penalty is 'elasticnet'. Got (penalty=l1)\n",
      "  warnings.warn(\n"
     ]
    },
    {
     "name": "stdout",
     "output_type": "stream",
     "text": [
      "Timestep 48.50% (Optimized): Training Loss = 0.4772, Accuracy = 0.7697, Test Loss = 0.4984, Test Accuracy = 0.7381\n",
      "Processing timestep: 0.49\n"
     ]
    },
    {
     "name": "stderr",
     "output_type": "stream",
     "text": [
      "Best trial: 48. Best value: 0.509441: 100%|██████████| 50/50 [00:03<00:00, 14.66it/s]\n"
     ]
    },
    {
     "name": "stdout",
     "output_type": "stream",
     "text": [
      "Timestep 49.00% (Optimized): Training Loss = 0.4787, Accuracy = 0.7804, Test Loss = 0.5094, Test Accuracy = 0.7469\n",
      "Processing timestep: 0.495\n"
     ]
    },
    {
     "name": "stderr",
     "output_type": "stream",
     "text": [
      "Best trial: 38. Best value: 0.498674: 100%|██████████| 50/50 [00:02<00:00, 18.59it/s]\n",
      "/Users/aly/Documents/University_of_Waterloo/Winter 2025/Research/code/NFL_env/lib/python3.9/site-packages/sklearn/linear_model/_logistic.py:1196: UserWarning: l1_ratio parameter is only used when penalty is 'elasticnet'. Got (penalty=l1)\n",
      "  warnings.warn(\n"
     ]
    },
    {
     "name": "stdout",
     "output_type": "stream",
     "text": [
      "Timestep 49.50% (Optimized): Training Loss = 0.4693, Accuracy = 0.7892, Test Loss = 0.4987, Test Accuracy = 0.7393\n",
      "Processing timestep: 0.5\n"
     ]
    },
    {
     "name": "stderr",
     "output_type": "stream",
     "text": [
      "Best trial: 34. Best value: 0.485538: 100%|██████████| 50/50 [00:06<00:00,  8.02it/s]\n",
      "/Users/aly/Documents/University_of_Waterloo/Winter 2025/Research/code/NFL_env/lib/python3.9/site-packages/sklearn/linear_model/_logistic.py:1196: UserWarning: l1_ratio parameter is only used when penalty is 'elasticnet'. Got (penalty=l2)\n",
      "  warnings.warn(\n"
     ]
    },
    {
     "name": "stdout",
     "output_type": "stream",
     "text": [
      "Timestep 50.00% (Optimized): Training Loss = 0.4631, Accuracy = 0.7813, Test Loss = 0.4855, Test Accuracy = 0.7747\n",
      "Processing timestep: 0.505\n"
     ]
    },
    {
     "name": "stderr",
     "output_type": "stream",
     "text": [
      "Best trial: 48. Best value: 0.474631: 100%|██████████| 50/50 [00:02<00:00, 19.48it/s]\n",
      "/Users/aly/Documents/University_of_Waterloo/Winter 2025/Research/code/NFL_env/lib/python3.9/site-packages/sklearn/linear_model/_logistic.py:1196: UserWarning: l1_ratio parameter is only used when penalty is 'elasticnet'. Got (penalty=l1)\n",
      "  warnings.warn(\n"
     ]
    },
    {
     "name": "stdout",
     "output_type": "stream",
     "text": [
      "Timestep 50.50% (Optimized): Training Loss = 0.4525, Accuracy = 0.7923, Test Loss = 0.4746, Test Accuracy = 0.7597\n",
      "Processing timestep: 0.51\n"
     ]
    },
    {
     "name": "stderr",
     "output_type": "stream",
     "text": [
      "Best trial: 0. Best value: 0.452749:  12%|█▏        | 6/50 [00:01<00:10,  4.09it/s]/Users/aly/Documents/University_of_Waterloo/Winter 2025/Research/code/NFL_env/lib/python3.9/site-packages/sklearn/linear_model/_sag.py:348: ConvergenceWarning: The max_iter was reached which means the coef_ did not converge\n",
      "  warnings.warn(\n",
      "Best trial: 41. Best value: 0.449408: 100%|██████████| 50/50 [00:05<00:00,  9.41it/s]\n",
      "/Users/aly/Documents/University_of_Waterloo/Winter 2025/Research/code/NFL_env/lib/python3.9/site-packages/sklearn/linear_model/_logistic.py:1196: UserWarning: l1_ratio parameter is only used when penalty is 'elasticnet'. Got (penalty=l1)\n",
      "  warnings.warn(\n"
     ]
    },
    {
     "name": "stdout",
     "output_type": "stream",
     "text": [
      "Timestep 51.00% (Optimized): Training Loss = 0.4549, Accuracy = 0.7825, Test Loss = 0.4494, Test Accuracy = 0.8114\n",
      "Processing timestep: 0.515\n"
     ]
    },
    {
     "name": "stderr",
     "output_type": "stream",
     "text": [
      "Best trial: 30. Best value: 0.48892: 100%|██████████| 50/50 [00:03<00:00, 16.25it/s] \n"
     ]
    },
    {
     "name": "stdout",
     "output_type": "stream",
     "text": [
      "Timestep 51.50% (Optimized): Training Loss = 0.4614, Accuracy = 0.7902, Test Loss = 0.4889, Test Accuracy = 0.7715\n",
      "Processing timestep: 0.52\n"
     ]
    },
    {
     "name": "stderr",
     "output_type": "stream",
     "text": [
      "Best trial: 25. Best value: 0.496519:  72%|███████▏  | 36/50 [00:04<00:01, 10.60it/s]/Users/aly/Documents/University_of_Waterloo/Winter 2025/Research/code/NFL_env/lib/python3.9/site-packages/sklearn/linear_model/_sag.py:348: ConvergenceWarning: The max_iter was reached which means the coef_ did not converge\n",
      "  warnings.warn(\n",
      "Best trial: 25. Best value: 0.496519: 100%|██████████| 50/50 [00:05<00:00,  9.08it/s]\n"
     ]
    },
    {
     "name": "stdout",
     "output_type": "stream",
     "text": [
      "Timestep 52.00% (Optimized): Training Loss = 0.4620, Accuracy = 0.7813, Test Loss = 0.4965, Test Accuracy = 0.7429\n",
      "Processing timestep: 0.525\n"
     ]
    },
    {
     "name": "stderr",
     "output_type": "stream",
     "text": [
      "Best trial: 22. Best value: 0.482779: 100%|██████████| 50/50 [00:04<00:00, 11.77it/s]\n",
      "/Users/aly/Documents/University_of_Waterloo/Winter 2025/Research/code/NFL_env/lib/python3.9/site-packages/sklearn/linear_model/_logistic.py:1196: UserWarning: l1_ratio parameter is only used when penalty is 'elasticnet'. Got (penalty=l1)\n",
      "  warnings.warn(\n"
     ]
    },
    {
     "name": "stdout",
     "output_type": "stream",
     "text": [
      "Timestep 52.50% (Optimized): Training Loss = 0.4414, Accuracy = 0.8021, Test Loss = 0.4828, Test Accuracy = 0.7656\n",
      "Processing timestep: 0.53\n"
     ]
    },
    {
     "name": "stderr",
     "output_type": "stream",
     "text": [
      "Best trial: 9. Best value: 0.460878:  68%|██████▊   | 34/50 [00:07<00:04,  3.95it/s]/Users/aly/Documents/University_of_Waterloo/Winter 2025/Research/code/NFL_env/lib/python3.9/site-packages/sklearn/linear_model/_sag.py:348: ConvergenceWarning: The max_iter was reached which means the coef_ did not converge\n",
      "  warnings.warn(\n",
      "Best trial: 9. Best value: 0.460878: 100%|██████████| 50/50 [00:11<00:00,  4.37it/s]\n",
      "/Users/aly/Documents/University_of_Waterloo/Winter 2025/Research/code/NFL_env/lib/python3.9/site-packages/sklearn/linear_model/_logistic.py:1196: UserWarning: l1_ratio parameter is only used when penalty is 'elasticnet'. Got (penalty=l1)\n",
      "  warnings.warn(\n"
     ]
    },
    {
     "name": "stdout",
     "output_type": "stream",
     "text": [
      "Timestep 53.00% (Optimized): Training Loss = 0.4651, Accuracy = 0.7807, Test Loss = 0.4609, Test Accuracy = 0.7757\n",
      "Processing timestep: 0.535\n"
     ]
    },
    {
     "name": "stderr",
     "output_type": "stream",
     "text": [
      "Best trial: 43. Best value: 0.464087: 100%|██████████| 50/50 [00:14<00:00,  3.57it/s]\n",
      "/Users/aly/Documents/University_of_Waterloo/Winter 2025/Research/code/NFL_env/lib/python3.9/site-packages/sklearn/linear_model/_logistic.py:1196: UserWarning: l1_ratio parameter is only used when penalty is 'elasticnet'. Got (penalty=l2)\n",
      "  warnings.warn(\n"
     ]
    },
    {
     "name": "stdout",
     "output_type": "stream",
     "text": [
      "Timestep 53.50% (Optimized): Training Loss = 0.4277, Accuracy = 0.8083, Test Loss = 0.4641, Test Accuracy = 0.7761\n",
      "Processing timestep: 0.54\n"
     ]
    },
    {
     "name": "stderr",
     "output_type": "stream",
     "text": [
      "Best trial: 41. Best value: 0.47664: 100%|██████████| 50/50 [00:02<00:00, 19.41it/s] \n",
      "/Users/aly/Documents/University_of_Waterloo/Winter 2025/Research/code/NFL_env/lib/python3.9/site-packages/sklearn/linear_model/_logistic.py:1196: UserWarning: l1_ratio parameter is only used when penalty is 'elasticnet'. Got (penalty=l1)\n",
      "  warnings.warn(\n"
     ]
    },
    {
     "name": "stdout",
     "output_type": "stream",
     "text": [
      "Timestep 54.00% (Optimized): Training Loss = 0.4592, Accuracy = 0.7866, Test Loss = 0.4766, Test Accuracy = 0.7697\n",
      "Processing timestep: 0.545\n"
     ]
    },
    {
     "name": "stderr",
     "output_type": "stream",
     "text": [
      "Best trial: 45. Best value: 0.486962: 100%|██████████| 50/50 [00:06<00:00,  7.22it/s]\n"
     ]
    },
    {
     "name": "stdout",
     "output_type": "stream",
     "text": [
      "Timestep 54.50% (Optimized): Training Loss = 0.4678, Accuracy = 0.7824, Test Loss = 0.4870, Test Accuracy = 0.7706\n",
      "Processing timestep: 0.55\n"
     ]
    },
    {
     "name": "stderr",
     "output_type": "stream",
     "text": [
      "Best trial: 41. Best value: 0.476425: 100%|██████████| 50/50 [00:02<00:00, 19.59it/s]\n",
      "/Users/aly/Documents/University_of_Waterloo/Winter 2025/Research/code/NFL_env/lib/python3.9/site-packages/sklearn/linear_model/_logistic.py:1196: UserWarning: l1_ratio parameter is only used when penalty is 'elasticnet'. Got (penalty=l1)\n",
      "  warnings.warn(\n"
     ]
    },
    {
     "name": "stdout",
     "output_type": "stream",
     "text": [
      "Timestep 55.00% (Optimized): Training Loss = 0.4395, Accuracy = 0.7971, Test Loss = 0.4764, Test Accuracy = 0.7702\n",
      "Processing timestep: 0.555\n"
     ]
    },
    {
     "name": "stderr",
     "output_type": "stream",
     "text": [
      "Best trial: 35. Best value: 0.451333: 100%|██████████| 50/50 [00:03<00:00, 15.48it/s]\n",
      "/Users/aly/Documents/University_of_Waterloo/Winter 2025/Research/code/NFL_env/lib/python3.9/site-packages/sklearn/linear_model/_logistic.py:1196: UserWarning: l1_ratio parameter is only used when penalty is 'elasticnet'. Got (penalty=l1)\n",
      "  warnings.warn(\n"
     ]
    },
    {
     "name": "stdout",
     "output_type": "stream",
     "text": [
      "Timestep 55.50% (Optimized): Training Loss = 0.4576, Accuracy = 0.7828, Test Loss = 0.4513, Test Accuracy = 0.8023\n",
      "Processing timestep: 0.56\n"
     ]
    },
    {
     "name": "stderr",
     "output_type": "stream",
     "text": [
      "Best trial: 31. Best value: 0.407554: 100%|██████████| 50/50 [00:03<00:00, 13.11it/s]\n"
     ]
    },
    {
     "name": "stdout",
     "output_type": "stream",
     "text": [
      "Timestep 56.00% (Optimized): Training Loss = 0.4366, Accuracy = 0.8020, Test Loss = 0.4076, Test Accuracy = 0.8272\n",
      "Processing timestep: 0.565\n"
     ]
    },
    {
     "name": "stderr",
     "output_type": "stream",
     "text": [
      "Best trial: 47. Best value: 0.449531: 100%|██████████| 50/50 [00:02<00:00, 23.11it/s]\n",
      "/Users/aly/Documents/University_of_Waterloo/Winter 2025/Research/code/NFL_env/lib/python3.9/site-packages/sklearn/linear_model/_logistic.py:1196: UserWarning: l1_ratio parameter is only used when penalty is 'elasticnet'. Got (penalty=l2)\n",
      "  warnings.warn(\n"
     ]
    },
    {
     "name": "stdout",
     "output_type": "stream",
     "text": [
      "Timestep 56.50% (Optimized): Training Loss = 0.4368, Accuracy = 0.7911, Test Loss = 0.4495, Test Accuracy = 0.7950\n",
      "Processing timestep: 0.57\n"
     ]
    },
    {
     "name": "stderr",
     "output_type": "stream",
     "text": [
      "Best trial: 22. Best value: 0.443878: 100%|██████████| 50/50 [00:06<00:00,  7.87it/s]\n"
     ]
    },
    {
     "name": "stdout",
     "output_type": "stream",
     "text": [
      "Timestep 57.00% (Optimized): Training Loss = 0.4501, Accuracy = 0.7905, Test Loss = 0.4439, Test Accuracy = 0.7715\n",
      "Processing timestep: 0.575\n"
     ]
    },
    {
     "name": "stderr",
     "output_type": "stream",
     "text": [
      "Best trial: 35. Best value: 0.482508: 100%|██████████| 50/50 [00:02<00:00, 23.75it/s]\n",
      "/Users/aly/Documents/University_of_Waterloo/Winter 2025/Research/code/NFL_env/lib/python3.9/site-packages/sklearn/linear_model/_logistic.py:1196: UserWarning: l1_ratio parameter is only used when penalty is 'elasticnet'. Got (penalty=l1)\n",
      "  warnings.warn(\n"
     ]
    },
    {
     "name": "stdout",
     "output_type": "stream",
     "text": [
      "Timestep 57.50% (Optimized): Training Loss = 0.4589, Accuracy = 0.7867, Test Loss = 0.4825, Test Accuracy = 0.7375\n",
      "Processing timestep: 0.58\n"
     ]
    },
    {
     "name": "stderr",
     "output_type": "stream",
     "text": [
      "Best trial: 14. Best value: 0.464049: 100%|██████████| 50/50 [00:03<00:00, 16.55it/s]\n"
     ]
    },
    {
     "name": "stdout",
     "output_type": "stream",
     "text": [
      "Timestep 58.00% (Optimized): Training Loss = 0.4386, Accuracy = 0.7901, Test Loss = 0.4640, Test Accuracy = 0.7787\n",
      "Processing timestep: 0.585\n"
     ]
    },
    {
     "name": "stderr",
     "output_type": "stream",
     "text": [
      "Best trial: 35. Best value: 0.470962: 100%|██████████| 50/50 [00:08<00:00,  6.17it/s]\n",
      "/Users/aly/Documents/University_of_Waterloo/Winter 2025/Research/code/NFL_env/lib/python3.9/site-packages/sklearn/linear_model/_logistic.py:1196: UserWarning: l1_ratio parameter is only used when penalty is 'elasticnet'. Got (penalty=l1)\n",
      "  warnings.warn(\n"
     ]
    },
    {
     "name": "stdout",
     "output_type": "stream",
     "text": [
      "Timestep 58.50% (Optimized): Training Loss = 0.4355, Accuracy = 0.7994, Test Loss = 0.4710, Test Accuracy = 0.7618\n",
      "Processing timestep: 0.59\n"
     ]
    },
    {
     "name": "stderr",
     "output_type": "stream",
     "text": [
      "Best trial: 33. Best value: 0.473342: 100%|██████████| 50/50 [00:02<00:00, 19.68it/s]\n",
      "/Users/aly/Documents/University_of_Waterloo/Winter 2025/Research/code/NFL_env/lib/python3.9/site-packages/sklearn/linear_model/_logistic.py:1196: UserWarning: l1_ratio parameter is only used when penalty is 'elasticnet'. Got (penalty=l1)\n",
      "  warnings.warn(\n"
     ]
    },
    {
     "name": "stdout",
     "output_type": "stream",
     "text": [
      "Timestep 59.00% (Optimized): Training Loss = 0.4634, Accuracy = 0.7890, Test Loss = 0.4733, Test Accuracy = 0.7668\n",
      "Processing timestep: 0.595\n"
     ]
    },
    {
     "name": "stderr",
     "output_type": "stream",
     "text": [
      "Best trial: 34. Best value: 0.426919: 100%|██████████| 50/50 [00:02<00:00, 17.74it/s]\n",
      "/Users/aly/Documents/University_of_Waterloo/Winter 2025/Research/code/NFL_env/lib/python3.9/site-packages/sklearn/linear_model/_logistic.py:1196: UserWarning: l1_ratio parameter is only used when penalty is 'elasticnet'. Got (penalty=l2)\n",
      "  warnings.warn(\n"
     ]
    },
    {
     "name": "stdout",
     "output_type": "stream",
     "text": [
      "Timestep 59.50% (Optimized): Training Loss = 0.4337, Accuracy = 0.7954, Test Loss = 0.4269, Test Accuracy = 0.7623\n",
      "Processing timestep: 0.6\n"
     ]
    },
    {
     "name": "stderr",
     "output_type": "stream",
     "text": [
      "Best trial: 46. Best value: 0.507738: 100%|██████████| 50/50 [00:02<00:00, 21.37it/s]\n",
      "/Users/aly/Documents/University_of_Waterloo/Winter 2025/Research/code/NFL_env/lib/python3.9/site-packages/sklearn/linear_model/_logistic.py:1196: UserWarning: l1_ratio parameter is only used when penalty is 'elasticnet'. Got (penalty=l2)\n",
      "  warnings.warn(\n"
     ]
    },
    {
     "name": "stdout",
     "output_type": "stream",
     "text": [
      "Timestep 60.00% (Optimized): Training Loss = 0.4445, Accuracy = 0.7887, Test Loss = 0.5077, Test Accuracy = 0.7507\n",
      "Processing timestep: 0.605\n"
     ]
    },
    {
     "name": "stderr",
     "output_type": "stream",
     "text": [
      "Best trial: 26. Best value: 0.468331: 100%|██████████| 50/50 [00:02<00:00, 18.15it/s]\n",
      "/Users/aly/Documents/University_of_Waterloo/Winter 2025/Research/code/NFL_env/lib/python3.9/site-packages/sklearn/linear_model/_logistic.py:1196: UserWarning: l1_ratio parameter is only used when penalty is 'elasticnet'. Got (penalty=l1)\n",
      "  warnings.warn(\n"
     ]
    },
    {
     "name": "stdout",
     "output_type": "stream",
     "text": [
      "Timestep 60.50% (Optimized): Training Loss = 0.4354, Accuracy = 0.7871, Test Loss = 0.4683, Test Accuracy = 0.7832\n",
      "Processing timestep: 0.61\n"
     ]
    },
    {
     "name": "stderr",
     "output_type": "stream",
     "text": [
      "Best trial: 44. Best value: 0.423644: 100%|██████████| 50/50 [00:08<00:00,  6.02it/s]\n",
      "/Users/aly/Documents/University_of_Waterloo/Winter 2025/Research/code/NFL_env/lib/python3.9/site-packages/sklearn/linear_model/_logistic.py:1196: UserWarning: l1_ratio parameter is only used when penalty is 'elasticnet'. Got (penalty=l2)\n",
      "  warnings.warn(\n"
     ]
    },
    {
     "name": "stdout",
     "output_type": "stream",
     "text": [
      "Timestep 61.00% (Optimized): Training Loss = 0.4338, Accuracy = 0.7965, Test Loss = 0.4236, Test Accuracy = 0.7606\n",
      "Processing timestep: 0.615\n"
     ]
    },
    {
     "name": "stderr",
     "output_type": "stream",
     "text": [
      "Best trial: 24. Best value: 0.451893: 100%|██████████| 50/50 [00:02<00:00, 19.46it/s]\n",
      "/Users/aly/Documents/University_of_Waterloo/Winter 2025/Research/code/NFL_env/lib/python3.9/site-packages/sklearn/linear_model/_logistic.py:1196: UserWarning: l1_ratio parameter is only used when penalty is 'elasticnet'. Got (penalty=l1)\n",
      "  warnings.warn(\n"
     ]
    },
    {
     "name": "stdout",
     "output_type": "stream",
     "text": [
      "Timestep 61.50% (Optimized): Training Loss = 0.4224, Accuracy = 0.7968, Test Loss = 0.4519, Test Accuracy = 0.7571\n",
      "Processing timestep: 0.62\n"
     ]
    },
    {
     "name": "stderr",
     "output_type": "stream",
     "text": [
      "Best trial: 32. Best value: 0.458616: 100%|██████████| 50/50 [00:14<00:00,  3.45it/s]\n",
      "/Users/aly/Documents/University_of_Waterloo/Winter 2025/Research/code/NFL_env/lib/python3.9/site-packages/sklearn/linear_model/_logistic.py:1196: UserWarning: l1_ratio parameter is only used when penalty is 'elasticnet'. Got (penalty=l2)\n",
      "  warnings.warn(\n"
     ]
    },
    {
     "name": "stdout",
     "output_type": "stream",
     "text": [
      "Timestep 62.00% (Optimized): Training Loss = 0.4364, Accuracy = 0.7985, Test Loss = 0.4586, Test Accuracy = 0.7754\n",
      "Processing timestep: 0.625\n"
     ]
    },
    {
     "name": "stderr",
     "output_type": "stream",
     "text": [
      "Best trial: 24. Best value: 0.409232: 100%|██████████| 50/50 [00:03<00:00, 15.55it/s]\n",
      "/Users/aly/Documents/University_of_Waterloo/Winter 2025/Research/code/NFL_env/lib/python3.9/site-packages/sklearn/linear_model/_logistic.py:1196: UserWarning: l1_ratio parameter is only used when penalty is 'elasticnet'. Got (penalty=l2)\n",
      "  warnings.warn(\n"
     ]
    },
    {
     "name": "stdout",
     "output_type": "stream",
     "text": [
      "Timestep 62.50% (Optimized): Training Loss = 0.4339, Accuracy = 0.8067, Test Loss = 0.4092, Test Accuracy = 0.7966\n",
      "Processing timestep: 0.63\n"
     ]
    },
    {
     "name": "stderr",
     "output_type": "stream",
     "text": [
      "Best trial: 46. Best value: 0.405873: 100%|██████████| 50/50 [00:02<00:00, 22.89it/s]\n",
      "/Users/aly/Documents/University_of_Waterloo/Winter 2025/Research/code/NFL_env/lib/python3.9/site-packages/sklearn/linear_model/_logistic.py:1196: UserWarning: l1_ratio parameter is only used when penalty is 'elasticnet'. Got (penalty=l2)\n",
      "  warnings.warn(\n"
     ]
    },
    {
     "name": "stdout",
     "output_type": "stream",
     "text": [
      "Timestep 63.00% (Optimized): Training Loss = 0.4198, Accuracy = 0.8001, Test Loss = 0.4059, Test Accuracy = 0.8104\n",
      "Processing timestep: 0.635\n"
     ]
    },
    {
     "name": "stderr",
     "output_type": "stream",
     "text": [
      "Best trial: 44. Best value: 0.484135: 100%|██████████| 50/50 [00:15<00:00,  3.26it/s]\n",
      "/Users/aly/Documents/University_of_Waterloo/Winter 2025/Research/code/NFL_env/lib/python3.9/site-packages/sklearn/linear_model/_logistic.py:1196: UserWarning: l1_ratio parameter is only used when penalty is 'elasticnet'. Got (penalty=l2)\n",
      "  warnings.warn(\n"
     ]
    },
    {
     "name": "stdout",
     "output_type": "stream",
     "text": [
      "Timestep 63.50% (Optimized): Training Loss = 0.4226, Accuracy = 0.8021, Test Loss = 0.4841, Test Accuracy = 0.7536\n",
      "Processing timestep: 0.64\n"
     ]
    },
    {
     "name": "stderr",
     "output_type": "stream",
     "text": [
      "Best trial: 26. Best value: 0.433871: 100%|██████████| 50/50 [00:02<00:00, 21.15it/s]\n",
      "/Users/aly/Documents/University_of_Waterloo/Winter 2025/Research/code/NFL_env/lib/python3.9/site-packages/sklearn/linear_model/_logistic.py:1196: UserWarning: l1_ratio parameter is only used when penalty is 'elasticnet'. Got (penalty=l1)\n",
      "  warnings.warn(\n"
     ]
    },
    {
     "name": "stdout",
     "output_type": "stream",
     "text": [
      "Timestep 64.00% (Optimized): Training Loss = 0.4221, Accuracy = 0.8074, Test Loss = 0.4339, Test Accuracy = 0.8031\n",
      "Processing timestep: 0.645\n"
     ]
    },
    {
     "name": "stderr",
     "output_type": "stream",
     "text": [
      "Best trial: 12. Best value: 0.447799: 100%|██████████| 50/50 [00:16<00:00,  3.11it/s]\n",
      "/Users/aly/Documents/University_of_Waterloo/Winter 2025/Research/code/NFL_env/lib/python3.9/site-packages/sklearn/linear_model/_logistic.py:1196: UserWarning: l1_ratio parameter is only used when penalty is 'elasticnet'. Got (penalty=l2)\n",
      "  warnings.warn(\n"
     ]
    },
    {
     "name": "stdout",
     "output_type": "stream",
     "text": [
      "Timestep 64.50% (Optimized): Training Loss = 0.4379, Accuracy = 0.7953, Test Loss = 0.4478, Test Accuracy = 0.7834\n",
      "Processing timestep: 0.65\n"
     ]
    },
    {
     "name": "stderr",
     "output_type": "stream",
     "text": [
      "Best trial: 32. Best value: 0.435806: 100%|██████████| 50/50 [00:08<00:00,  5.85it/s]\n",
      "/Users/aly/Documents/University_of_Waterloo/Winter 2025/Research/code/NFL_env/lib/python3.9/site-packages/sklearn/linear_model/_logistic.py:1196: UserWarning: l1_ratio parameter is only used when penalty is 'elasticnet'. Got (penalty=l2)\n",
      "  warnings.warn(\n"
     ]
    },
    {
     "name": "stdout",
     "output_type": "stream",
     "text": [
      "Timestep 65.00% (Optimized): Training Loss = 0.4270, Accuracy = 0.7947, Test Loss = 0.4358, Test Accuracy = 0.7919\n",
      "Processing timestep: 0.655\n"
     ]
    },
    {
     "name": "stderr",
     "output_type": "stream",
     "text": [
      "Best trial: 43. Best value: 0.442132: 100%|██████████| 50/50 [00:02<00:00, 20.21it/s]\n",
      "/Users/aly/Documents/University_of_Waterloo/Winter 2025/Research/code/NFL_env/lib/python3.9/site-packages/sklearn/linear_model/_logistic.py:1196: UserWarning: l1_ratio parameter is only used when penalty is 'elasticnet'. Got (penalty=l1)\n",
      "  warnings.warn(\n"
     ]
    },
    {
     "name": "stdout",
     "output_type": "stream",
     "text": [
      "Timestep 65.50% (Optimized): Training Loss = 0.4088, Accuracy = 0.8111, Test Loss = 0.4421, Test Accuracy = 0.7898\n",
      "Processing timestep: 0.66\n"
     ]
    },
    {
     "name": "stderr",
     "output_type": "stream",
     "text": [
      "Best trial: 45. Best value: 0.44761: 100%|██████████| 50/50 [00:04<00:00, 10.98it/s] \n",
      "/Users/aly/Documents/University_of_Waterloo/Winter 2025/Research/code/NFL_env/lib/python3.9/site-packages/sklearn/linear_model/_logistic.py:1196: UserWarning: l1_ratio parameter is only used when penalty is 'elasticnet'. Got (penalty=l1)\n",
      "  warnings.warn(\n"
     ]
    },
    {
     "name": "stdout",
     "output_type": "stream",
     "text": [
      "Timestep 66.00% (Optimized): Training Loss = 0.4139, Accuracy = 0.8140, Test Loss = 0.4476, Test Accuracy = 0.7771\n",
      "Processing timestep: 0.665\n"
     ]
    },
    {
     "name": "stderr",
     "output_type": "stream",
     "text": [
      "Best trial: 34. Best value: 0.393537: 100%|██████████| 50/50 [00:05<00:00,  9.82it/s]\n"
     ]
    },
    {
     "name": "stdout",
     "output_type": "stream",
     "text": [
      "Timestep 66.50% (Optimized): Training Loss = 0.3992, Accuracy = 0.8126, Test Loss = 0.3935, Test Accuracy = 0.8113\n",
      "Processing timestep: 0.67\n"
     ]
    },
    {
     "name": "stderr",
     "output_type": "stream",
     "text": [
      "Best trial: 14. Best value: 0.429657: 100%|██████████| 50/50 [00:08<00:00,  5.82it/s]\n"
     ]
    },
    {
     "name": "stdout",
     "output_type": "stream",
     "text": [
      "Timestep 67.00% (Optimized): Training Loss = 0.4081, Accuracy = 0.8178, Test Loss = 0.4297, Test Accuracy = 0.8147\n",
      "Processing timestep: 0.675\n"
     ]
    },
    {
     "name": "stderr",
     "output_type": "stream",
     "text": [
      "Best trial: 24. Best value: 0.49063: 100%|██████████| 50/50 [00:01<00:00, 26.17it/s] \n",
      "/Users/aly/Documents/University_of_Waterloo/Winter 2025/Research/code/NFL_env/lib/python3.9/site-packages/sklearn/linear_model/_logistic.py:1196: UserWarning: l1_ratio parameter is only used when penalty is 'elasticnet'. Got (penalty=l1)\n",
      "  warnings.warn(\n"
     ]
    },
    {
     "name": "stdout",
     "output_type": "stream",
     "text": [
      "Timestep 67.50% (Optimized): Training Loss = 0.4270, Accuracy = 0.8052, Test Loss = 0.4906, Test Accuracy = 0.7410\n",
      "Processing timestep: 0.68\n"
     ]
    },
    {
     "name": "stderr",
     "output_type": "stream",
     "text": [
      "Best trial: 27. Best value: 0.470352: 100%|██████████| 50/50 [00:01<00:00, 27.60it/s]\n",
      "/Users/aly/Documents/University_of_Waterloo/Winter 2025/Research/code/NFL_env/lib/python3.9/site-packages/sklearn/linear_model/_logistic.py:1196: UserWarning: l1_ratio parameter is only used when penalty is 'elasticnet'. Got (penalty=l2)\n",
      "  warnings.warn(\n"
     ]
    },
    {
     "name": "stdout",
     "output_type": "stream",
     "text": [
      "Timestep 68.00% (Optimized): Training Loss = 0.4147, Accuracy = 0.8028, Test Loss = 0.4704, Test Accuracy = 0.7765\n",
      "Processing timestep: 0.685\n"
     ]
    },
    {
     "name": "stderr",
     "output_type": "stream",
     "text": [
      "Best trial: 43. Best value: 0.405067: 100%|██████████| 50/50 [00:14<00:00,  3.35it/s]\n",
      "/Users/aly/Documents/University_of_Waterloo/Winter 2025/Research/code/NFL_env/lib/python3.9/site-packages/sklearn/linear_model/_logistic.py:1196: UserWarning: l1_ratio parameter is only used when penalty is 'elasticnet'. Got (penalty=l2)\n",
      "  warnings.warn(\n"
     ]
    },
    {
     "name": "stdout",
     "output_type": "stream",
     "text": [
      "Timestep 68.50% (Optimized): Training Loss = 0.4044, Accuracy = 0.8110, Test Loss = 0.4051, Test Accuracy = 0.7917\n",
      "Processing timestep: 0.69\n"
     ]
    },
    {
     "name": "stderr",
     "output_type": "stream",
     "text": [
      "Best trial: 22. Best value: 0.396743: 100%|██████████| 50/50 [00:14<00:00,  3.49it/s]\n",
      "/Users/aly/Documents/University_of_Waterloo/Winter 2025/Research/code/NFL_env/lib/python3.9/site-packages/sklearn/linear_model/_logistic.py:1196: UserWarning: l1_ratio parameter is only used when penalty is 'elasticnet'. Got (penalty=l2)\n",
      "  warnings.warn(\n"
     ]
    },
    {
     "name": "stdout",
     "output_type": "stream",
     "text": [
      "Timestep 69.00% (Optimized): Training Loss = 0.3979, Accuracy = 0.8176, Test Loss = 0.3967, Test Accuracy = 0.8129\n",
      "Processing timestep: 0.695\n"
     ]
    },
    {
     "name": "stderr",
     "output_type": "stream",
     "text": [
      "Best trial: 22. Best value: 0.420204: 100%|██████████| 50/50 [00:08<00:00,  6.07it/s]\n",
      "/Users/aly/Documents/University_of_Waterloo/Winter 2025/Research/code/NFL_env/lib/python3.9/site-packages/sklearn/linear_model/_logistic.py:1196: UserWarning: l1_ratio parameter is only used when penalty is 'elasticnet'. Got (penalty=l2)\n",
      "  warnings.warn(\n"
     ]
    },
    {
     "name": "stdout",
     "output_type": "stream",
     "text": [
      "Timestep 69.50% (Optimized): Training Loss = 0.3884, Accuracy = 0.8183, Test Loss = 0.4202, Test Accuracy = 0.8118\n",
      "Processing timestep: 0.7\n"
     ]
    },
    {
     "name": "stderr",
     "output_type": "stream",
     "text": [
      "Best trial: 21. Best value: 0.436042: 100%|██████████| 50/50 [00:12<00:00,  3.91it/s]\n",
      "/Users/aly/Documents/University_of_Waterloo/Winter 2025/Research/code/NFL_env/lib/python3.9/site-packages/sklearn/linear_model/_logistic.py:1196: UserWarning: l1_ratio parameter is only used when penalty is 'elasticnet'. Got (penalty=l2)\n",
      "  warnings.warn(\n"
     ]
    },
    {
     "name": "stdout",
     "output_type": "stream",
     "text": [
      "Timestep 70.00% (Optimized): Training Loss = 0.3936, Accuracy = 0.8170, Test Loss = 0.4360, Test Accuracy = 0.7806\n",
      "Processing timestep: 0.705\n"
     ]
    },
    {
     "name": "stderr",
     "output_type": "stream",
     "text": [
      "Best trial: 36. Best value: 0.400566: 100%|██████████| 50/50 [00:10<00:00,  4.58it/s]\n",
      "/Users/aly/Documents/University_of_Waterloo/Winter 2025/Research/code/NFL_env/lib/python3.9/site-packages/sklearn/linear_model/_logistic.py:1196: UserWarning: l1_ratio parameter is only used when penalty is 'elasticnet'. Got (penalty=l2)\n",
      "  warnings.warn(\n"
     ]
    },
    {
     "name": "stdout",
     "output_type": "stream",
     "text": [
      "Timestep 70.50% (Optimized): Training Loss = 0.3924, Accuracy = 0.8181, Test Loss = 0.4006, Test Accuracy = 0.8230\n",
      "Processing timestep: 0.71\n"
     ]
    },
    {
     "name": "stderr",
     "output_type": "stream",
     "text": [
      "Best trial: 38. Best value: 0.437846: 100%|██████████| 50/50 [00:10<00:00,  4.65it/s]\n"
     ]
    },
    {
     "name": "stdout",
     "output_type": "stream",
     "text": [
      "Timestep 71.00% (Optimized): Training Loss = 0.3881, Accuracy = 0.8231, Test Loss = 0.4378, Test Accuracy = 0.7608\n",
      "Processing timestep: 0.715\n"
     ]
    },
    {
     "name": "stderr",
     "output_type": "stream",
     "text": [
      "Best trial: 15. Best value: 0.468721: 100%|██████████| 50/50 [00:04<00:00, 10.93it/s]\n",
      "/Users/aly/Documents/University_of_Waterloo/Winter 2025/Research/code/NFL_env/lib/python3.9/site-packages/sklearn/linear_model/_logistic.py:1196: UserWarning: l1_ratio parameter is only used when penalty is 'elasticnet'. Got (penalty=l1)\n",
      "  warnings.warn(\n"
     ]
    },
    {
     "name": "stdout",
     "output_type": "stream",
     "text": [
      "Timestep 71.50% (Optimized): Training Loss = 0.3961, Accuracy = 0.8126, Test Loss = 0.4687, Test Accuracy = 0.7730\n",
      "Processing timestep: 0.72\n"
     ]
    },
    {
     "name": "stderr",
     "output_type": "stream",
     "text": [
      "Best trial: 32. Best value: 0.415143: 100%|██████████| 50/50 [00:02<00:00, 18.31it/s]\n",
      "/Users/aly/Documents/University_of_Waterloo/Winter 2025/Research/code/NFL_env/lib/python3.9/site-packages/sklearn/linear_model/_logistic.py:1196: UserWarning: l1_ratio parameter is only used when penalty is 'elasticnet'. Got (penalty=l1)\n",
      "  warnings.warn(\n"
     ]
    },
    {
     "name": "stdout",
     "output_type": "stream",
     "text": [
      "Timestep 72.00% (Optimized): Training Loss = 0.3830, Accuracy = 0.8273, Test Loss = 0.4151, Test Accuracy = 0.7838\n",
      "Processing timestep: 0.725\n"
     ]
    },
    {
     "name": "stderr",
     "output_type": "stream",
     "text": [
      "Best trial: 41. Best value: 0.424643: 100%|██████████| 50/50 [00:02<00:00, 22.67it/s]\n",
      "/Users/aly/Documents/University_of_Waterloo/Winter 2025/Research/code/NFL_env/lib/python3.9/site-packages/sklearn/linear_model/_logistic.py:1196: UserWarning: l1_ratio parameter is only used when penalty is 'elasticnet'. Got (penalty=l1)\n",
      "  warnings.warn(\n"
     ]
    },
    {
     "name": "stdout",
     "output_type": "stream",
     "text": [
      "Timestep 72.50% (Optimized): Training Loss = 0.3882, Accuracy = 0.8167, Test Loss = 0.4246, Test Accuracy = 0.7934\n",
      "Processing timestep: 0.73\n"
     ]
    },
    {
     "name": "stderr",
     "output_type": "stream",
     "text": [
      "Best trial: 32. Best value: 0.39607: 100%|██████████| 50/50 [00:02<00:00, 21.54it/s] \n",
      "/Users/aly/Documents/University_of_Waterloo/Winter 2025/Research/code/NFL_env/lib/python3.9/site-packages/sklearn/linear_model/_logistic.py:1196: UserWarning: l1_ratio parameter is only used when penalty is 'elasticnet'. Got (penalty=l1)\n",
      "  warnings.warn(\n"
     ]
    },
    {
     "name": "stdout",
     "output_type": "stream",
     "text": [
      "Timestep 73.00% (Optimized): Training Loss = 0.3835, Accuracy = 0.8242, Test Loss = 0.3961, Test Accuracy = 0.8358\n",
      "Processing timestep: 0.735\n"
     ]
    },
    {
     "name": "stderr",
     "output_type": "stream",
     "text": [
      "Best trial: 17. Best value: 0.415034: 100%|██████████| 50/50 [00:18<00:00,  2.73it/s]\n",
      "/Users/aly/Documents/University_of_Waterloo/Winter 2025/Research/code/NFL_env/lib/python3.9/site-packages/sklearn/linear_model/_logistic.py:1196: UserWarning: l1_ratio parameter is only used when penalty is 'elasticnet'. Got (penalty=l2)\n",
      "  warnings.warn(\n"
     ]
    },
    {
     "name": "stdout",
     "output_type": "stream",
     "text": [
      "Timestep 73.50% (Optimized): Training Loss = 0.3801, Accuracy = 0.8230, Test Loss = 0.4150, Test Accuracy = 0.8006\n",
      "Processing timestep: 0.74\n"
     ]
    },
    {
     "name": "stderr",
     "output_type": "stream",
     "text": [
      "Best trial: 31. Best value: 0.403448: 100%|██████████| 50/50 [00:01<00:00, 28.92it/s]\n",
      "/Users/aly/Documents/University_of_Waterloo/Winter 2025/Research/code/NFL_env/lib/python3.9/site-packages/sklearn/linear_model/_logistic.py:1196: UserWarning: l1_ratio parameter is only used when penalty is 'elasticnet'. Got (penalty=l1)\n",
      "  warnings.warn(\n"
     ]
    },
    {
     "name": "stdout",
     "output_type": "stream",
     "text": [
      "Timestep 74.00% (Optimized): Training Loss = 0.3747, Accuracy = 0.8370, Test Loss = 0.4034, Test Accuracy = 0.8083\n",
      "Processing timestep: 0.745\n"
     ]
    },
    {
     "name": "stderr",
     "output_type": "stream",
     "text": [
      "Best trial: 49. Best value: 0.404772: 100%|██████████| 50/50 [00:03<00:00, 14.76it/s]\n",
      "/Users/aly/Documents/University_of_Waterloo/Winter 2025/Research/code/NFL_env/lib/python3.9/site-packages/sklearn/linear_model/_logistic.py:1196: UserWarning: l1_ratio parameter is only used when penalty is 'elasticnet'. Got (penalty=l2)\n",
      "  warnings.warn(\n"
     ]
    },
    {
     "name": "stdout",
     "output_type": "stream",
     "text": [
      "Timestep 74.50% (Optimized): Training Loss = 0.3857, Accuracy = 0.8272, Test Loss = 0.4048, Test Accuracy = 0.8194\n",
      "Processing timestep: 0.75\n"
     ]
    },
    {
     "name": "stderr",
     "output_type": "stream",
     "text": [
      "Best trial: 48. Best value: 0.418755: 100%|██████████| 50/50 [00:05<00:00,  8.35it/s]\n"
     ]
    },
    {
     "name": "stdout",
     "output_type": "stream",
     "text": [
      "Timestep 75.00% (Optimized): Training Loss = 0.3790, Accuracy = 0.8229, Test Loss = 0.4188, Test Accuracy = 0.8066\n",
      "Processing timestep: 0.755\n"
     ]
    },
    {
     "name": "stderr",
     "output_type": "stream",
     "text": [
      "Best trial: 42. Best value: 0.417294: 100%|██████████| 50/50 [00:19<00:00,  2.60it/s]\n",
      "/Users/aly/Documents/University_of_Waterloo/Winter 2025/Research/code/NFL_env/lib/python3.9/site-packages/sklearn/linear_model/_logistic.py:1196: UserWarning: l1_ratio parameter is only used when penalty is 'elasticnet'. Got (penalty=l2)\n",
      "  warnings.warn(\n"
     ]
    },
    {
     "name": "stdout",
     "output_type": "stream",
     "text": [
      "Timestep 75.50% (Optimized): Training Loss = 0.3468, Accuracy = 0.8547, Test Loss = 0.4173, Test Accuracy = 0.8095\n",
      "Processing timestep: 0.76\n"
     ]
    },
    {
     "name": "stderr",
     "output_type": "stream",
     "text": [
      "Best trial: 21. Best value: 0.354409: 100%|██████████| 50/50 [00:01<00:00, 36.66it/s]\n",
      "/Users/aly/Documents/University_of_Waterloo/Winter 2025/Research/code/NFL_env/lib/python3.9/site-packages/sklearn/linear_model/_logistic.py:1196: UserWarning: l1_ratio parameter is only used when penalty is 'elasticnet'. Got (penalty=l1)\n",
      "  warnings.warn(\n"
     ]
    },
    {
     "name": "stdout",
     "output_type": "stream",
     "text": [
      "Timestep 76.00% (Optimized): Training Loss = 0.3622, Accuracy = 0.8377, Test Loss = 0.3544, Test Accuracy = 0.8266\n",
      "Processing timestep: 0.765\n"
     ]
    },
    {
     "name": "stderr",
     "output_type": "stream",
     "text": [
      "Best trial: 23. Best value: 0.341527: 100%|██████████| 50/50 [00:02<00:00, 18.06it/s]\n",
      "/Users/aly/Documents/University_of_Waterloo/Winter 2025/Research/code/NFL_env/lib/python3.9/site-packages/sklearn/linear_model/_logistic.py:1196: UserWarning: l1_ratio parameter is only used when penalty is 'elasticnet'. Got (penalty=l1)\n",
      "  warnings.warn(\n"
     ]
    },
    {
     "name": "stdout",
     "output_type": "stream",
     "text": [
      "Timestep 76.50% (Optimized): Training Loss = 0.3492, Accuracy = 0.8509, Test Loss = 0.3415, Test Accuracy = 0.8530\n",
      "Processing timestep: 0.77\n"
     ]
    },
    {
     "name": "stderr",
     "output_type": "stream",
     "text": [
      "Best trial: 44. Best value: 0.406581: 100%|██████████| 50/50 [00:08<00:00,  5.81it/s]\n",
      "/Users/aly/Documents/University_of_Waterloo/Winter 2025/Research/code/NFL_env/lib/python3.9/site-packages/sklearn/linear_model/_logistic.py:1196: UserWarning: l1_ratio parameter is only used when penalty is 'elasticnet'. Got (penalty=l1)\n",
      "  warnings.warn(\n"
     ]
    },
    {
     "name": "stdout",
     "output_type": "stream",
     "text": [
      "Timestep 77.00% (Optimized): Training Loss = 0.3744, Accuracy = 0.8272, Test Loss = 0.4066, Test Accuracy = 0.8199\n",
      "Processing timestep: 0.775\n"
     ]
    },
    {
     "name": "stderr",
     "output_type": "stream",
     "text": [
      "Best trial: 46. Best value: 0.360051: 100%|██████████| 50/50 [00:01<00:00, 28.91it/s]\n",
      "/Users/aly/Documents/University_of_Waterloo/Winter 2025/Research/code/NFL_env/lib/python3.9/site-packages/sklearn/linear_model/_logistic.py:1196: UserWarning: l1_ratio parameter is only used when penalty is 'elasticnet'. Got (penalty=l2)\n",
      "  warnings.warn(\n"
     ]
    },
    {
     "name": "stdout",
     "output_type": "stream",
     "text": [
      "Timestep 77.50% (Optimized): Training Loss = 0.3600, Accuracy = 0.8420, Test Loss = 0.3601, Test Accuracy = 0.8358\n",
      "Processing timestep: 0.78\n"
     ]
    },
    {
     "name": "stderr",
     "output_type": "stream",
     "text": [
      "Best trial: 42. Best value: 0.401604: 100%|██████████| 50/50 [00:02<00:00, 21.62it/s]\n",
      "/Users/aly/Documents/University_of_Waterloo/Winter 2025/Research/code/NFL_env/lib/python3.9/site-packages/sklearn/linear_model/_logistic.py:1196: UserWarning: l1_ratio parameter is only used when penalty is 'elasticnet'. Got (penalty=l1)\n",
      "  warnings.warn(\n"
     ]
    },
    {
     "name": "stdout",
     "output_type": "stream",
     "text": [
      "Timestep 78.00% (Optimized): Training Loss = 0.3590, Accuracy = 0.8443, Test Loss = 0.4016, Test Accuracy = 0.8152\n",
      "Processing timestep: 0.785\n"
     ]
    },
    {
     "name": "stderr",
     "output_type": "stream",
     "text": [
      "Best trial: 20. Best value: 0.33232: 100%|██████████| 50/50 [00:09<00:00,  5.21it/s] \n",
      "/Users/aly/Documents/University_of_Waterloo/Winter 2025/Research/code/NFL_env/lib/python3.9/site-packages/sklearn/linear_model/_logistic.py:1196: UserWarning: l1_ratio parameter is only used when penalty is 'elasticnet'. Got (penalty=l2)\n",
      "  warnings.warn(\n"
     ]
    },
    {
     "name": "stdout",
     "output_type": "stream",
     "text": [
      "Timestep 78.50% (Optimized): Training Loss = 0.3567, Accuracy = 0.8426, Test Loss = 0.3323, Test Accuracy = 0.8539\n",
      "Processing timestep: 0.79\n"
     ]
    },
    {
     "name": "stderr",
     "output_type": "stream",
     "text": [
      "Best trial: 35. Best value: 0.36069: 100%|██████████| 50/50 [00:03<00:00, 15.91it/s] \n",
      "/Users/aly/Documents/University_of_Waterloo/Winter 2025/Research/code/NFL_env/lib/python3.9/site-packages/sklearn/linear_model/_logistic.py:1196: UserWarning: l1_ratio parameter is only used when penalty is 'elasticnet'. Got (penalty=l1)\n",
      "  warnings.warn(\n"
     ]
    },
    {
     "name": "stdout",
     "output_type": "stream",
     "text": [
      "Timestep 79.00% (Optimized): Training Loss = 0.3305, Accuracy = 0.8641, Test Loss = 0.3607, Test Accuracy = 0.8291\n",
      "Processing timestep: 0.795\n"
     ]
    },
    {
     "name": "stderr",
     "output_type": "stream",
     "text": [
      "Best trial: 26. Best value: 0.365092: 100%|██████████| 50/50 [00:02<00:00, 24.47it/s]\n",
      "/Users/aly/Documents/University_of_Waterloo/Winter 2025/Research/code/NFL_env/lib/python3.9/site-packages/sklearn/linear_model/_logistic.py:1196: UserWarning: l1_ratio parameter is only used when penalty is 'elasticnet'. Got (penalty=l1)\n",
      "  warnings.warn(\n"
     ]
    },
    {
     "name": "stdout",
     "output_type": "stream",
     "text": [
      "Timestep 79.50% (Optimized): Training Loss = 0.3707, Accuracy = 0.8375, Test Loss = 0.3651, Test Accuracy = 0.8057\n",
      "Processing timestep: 0.8\n"
     ]
    },
    {
     "name": "stderr",
     "output_type": "stream",
     "text": [
      "Best trial: 49. Best value: 0.375551: 100%|██████████| 50/50 [00:02<00:00, 17.08it/s]\n",
      "/Users/aly/Documents/University_of_Waterloo/Winter 2025/Research/code/NFL_env/lib/python3.9/site-packages/sklearn/linear_model/_logistic.py:1196: UserWarning: l1_ratio parameter is only used when penalty is 'elasticnet'. Got (penalty=l1)\n",
      "  warnings.warn(\n"
     ]
    },
    {
     "name": "stdout",
     "output_type": "stream",
     "text": [
      "Timestep 80.00% (Optimized): Training Loss = 0.3360, Accuracy = 0.8608, Test Loss = 0.3756, Test Accuracy = 0.8453\n",
      "Processing timestep: 0.805\n"
     ]
    },
    {
     "name": "stderr",
     "output_type": "stream",
     "text": [
      "Best trial: 25. Best value: 0.338737: 100%|██████████| 50/50 [00:03<00:00, 16.21it/s]\n",
      "/Users/aly/Documents/University_of_Waterloo/Winter 2025/Research/code/NFL_env/lib/python3.9/site-packages/sklearn/linear_model/_logistic.py:1196: UserWarning: l1_ratio parameter is only used when penalty is 'elasticnet'. Got (penalty=l1)\n",
      "  warnings.warn(\n"
     ]
    },
    {
     "name": "stdout",
     "output_type": "stream",
     "text": [
      "Timestep 80.50% (Optimized): Training Loss = 0.3439, Accuracy = 0.8452, Test Loss = 0.3387, Test Accuracy = 0.8599\n",
      "Processing timestep: 0.81\n"
     ]
    },
    {
     "name": "stderr",
     "output_type": "stream",
     "text": [
      "Best trial: 22. Best value: 0.372795: 100%|██████████| 50/50 [00:02<00:00, 19.22it/s]\n",
      "/Users/aly/Documents/University_of_Waterloo/Winter 2025/Research/code/NFL_env/lib/python3.9/site-packages/sklearn/linear_model/_logistic.py:1196: UserWarning: l1_ratio parameter is only used when penalty is 'elasticnet'. Got (penalty=l1)\n",
      "  warnings.warn(\n"
     ]
    },
    {
     "name": "stdout",
     "output_type": "stream",
     "text": [
      "Timestep 81.00% (Optimized): Training Loss = 0.3509, Accuracy = 0.8494, Test Loss = 0.3728, Test Accuracy = 0.8315\n",
      "Processing timestep: 0.815\n"
     ]
    },
    {
     "name": "stderr",
     "output_type": "stream",
     "text": [
      "Best trial: 21. Best value: 0.362452: 100%|██████████| 50/50 [00:02<00:00, 19.61it/s]\n",
      "/Users/aly/Documents/University_of_Waterloo/Winter 2025/Research/code/NFL_env/lib/python3.9/site-packages/sklearn/linear_model/_logistic.py:1196: UserWarning: l1_ratio parameter is only used when penalty is 'elasticnet'. Got (penalty=l1)\n",
      "  warnings.warn(\n"
     ]
    },
    {
     "name": "stdout",
     "output_type": "stream",
     "text": [
      "Timestep 81.50% (Optimized): Training Loss = 0.3428, Accuracy = 0.8446, Test Loss = 0.3625, Test Accuracy = 0.8644\n",
      "Processing timestep: 0.82\n"
     ]
    },
    {
     "name": "stderr",
     "output_type": "stream",
     "text": [
      "Best trial: 31. Best value: 0.383778: 100%|██████████| 50/50 [00:02<00:00, 22.25it/s]\n",
      "/Users/aly/Documents/University_of_Waterloo/Winter 2025/Research/code/NFL_env/lib/python3.9/site-packages/sklearn/linear_model/_logistic.py:1196: UserWarning: l1_ratio parameter is only used when penalty is 'elasticnet'. Got (penalty=l1)\n",
      "  warnings.warn(\n"
     ]
    },
    {
     "name": "stdout",
     "output_type": "stream",
     "text": [
      "Timestep 82.00% (Optimized): Training Loss = 0.3471, Accuracy = 0.8472, Test Loss = 0.3838, Test Accuracy = 0.8232\n",
      "Processing timestep: 0.825\n"
     ]
    },
    {
     "name": "stderr",
     "output_type": "stream",
     "text": [
      "Best trial: 47. Best value: 0.345738: 100%|██████████| 50/50 [00:02<00:00, 18.99it/s]\n",
      "/Users/aly/Documents/University_of_Waterloo/Winter 2025/Research/code/NFL_env/lib/python3.9/site-packages/sklearn/linear_model/_logistic.py:1196: UserWarning: l1_ratio parameter is only used when penalty is 'elasticnet'. Got (penalty=l1)\n",
      "  warnings.warn(\n"
     ]
    },
    {
     "name": "stdout",
     "output_type": "stream",
     "text": [
      "Timestep 82.50% (Optimized): Training Loss = 0.3489, Accuracy = 0.8404, Test Loss = 0.3457, Test Accuracy = 0.8374\n",
      "Processing timestep: 0.83\n"
     ]
    },
    {
     "name": "stderr",
     "output_type": "stream",
     "text": [
      "Best trial: 41. Best value: 0.316064: 100%|██████████| 50/50 [00:03<00:00, 15.95it/s]\n"
     ]
    },
    {
     "name": "stdout",
     "output_type": "stream",
     "text": [
      "Timestep 83.00% (Optimized): Training Loss = 0.3336, Accuracy = 0.8515, Test Loss = 0.3161, Test Accuracy = 0.8726\n",
      "Processing timestep: 0.835\n"
     ]
    },
    {
     "name": "stderr",
     "output_type": "stream",
     "text": [
      "Best trial: 42. Best value: 0.373599: 100%|██████████| 50/50 [00:06<00:00,  7.37it/s]\n",
      "/Users/aly/Documents/University_of_Waterloo/Winter 2025/Research/code/NFL_env/lib/python3.9/site-packages/sklearn/linear_model/_logistic.py:1196: UserWarning: l1_ratio parameter is only used when penalty is 'elasticnet'. Got (penalty=l2)\n",
      "  warnings.warn(\n"
     ]
    },
    {
     "name": "stdout",
     "output_type": "stream",
     "text": [
      "Timestep 83.50% (Optimized): Training Loss = 0.3102, Accuracy = 0.8653, Test Loss = 0.3736, Test Accuracy = 0.8328\n",
      "Processing timestep: 0.84\n"
     ]
    },
    {
     "name": "stderr",
     "output_type": "stream",
     "text": [
      "Best trial: 31. Best value: 0.363029: 100%|██████████| 50/50 [00:12<00:00,  3.99it/s]\n",
      "/Users/aly/Documents/University_of_Waterloo/Winter 2025/Research/code/NFL_env/lib/python3.9/site-packages/sklearn/linear_model/_logistic.py:1196: UserWarning: l1_ratio parameter is only used when penalty is 'elasticnet'. Got (penalty=l2)\n",
      "  warnings.warn(\n"
     ]
    },
    {
     "name": "stdout",
     "output_type": "stream",
     "text": [
      "Timestep 84.00% (Optimized): Training Loss = 0.3071, Accuracy = 0.8626, Test Loss = 0.3630, Test Accuracy = 0.8400\n",
      "Processing timestep: 0.845\n"
     ]
    },
    {
     "name": "stderr",
     "output_type": "stream",
     "text": [
      "Best trial: 44. Best value: 0.288966: 100%|██████████| 50/50 [00:03<00:00, 15.30it/s]\n",
      "/Users/aly/Documents/University_of_Waterloo/Winter 2025/Research/code/NFL_env/lib/python3.9/site-packages/sklearn/linear_model/_logistic.py:1196: UserWarning: l1_ratio parameter is only used when penalty is 'elasticnet'. Got (penalty=l1)\n",
      "  warnings.warn(\n"
     ]
    },
    {
     "name": "stdout",
     "output_type": "stream",
     "text": [
      "Timestep 84.50% (Optimized): Training Loss = 0.3362, Accuracy = 0.8506, Test Loss = 0.2890, Test Accuracy = 0.8725\n",
      "Processing timestep: 0.85\n"
     ]
    },
    {
     "name": "stderr",
     "output_type": "stream",
     "text": [
      "Best trial: 21. Best value: 0.345359: 100%|██████████| 50/50 [00:14<00:00,  3.39it/s]\n",
      "/Users/aly/Documents/University_of_Waterloo/Winter 2025/Research/code/NFL_env/lib/python3.9/site-packages/sklearn/linear_model/_logistic.py:1196: UserWarning: l1_ratio parameter is only used when penalty is 'elasticnet'. Got (penalty=l2)\n",
      "  warnings.warn(\n"
     ]
    },
    {
     "name": "stdout",
     "output_type": "stream",
     "text": [
      "Timestep 85.00% (Optimized): Training Loss = 0.3191, Accuracy = 0.8564, Test Loss = 0.3454, Test Accuracy = 0.8420\n",
      "Processing timestep: 0.855\n"
     ]
    },
    {
     "name": "stderr",
     "output_type": "stream",
     "text": [
      "Best trial: 32. Best value: 0.349212: 100%|██████████| 50/50 [00:02<00:00, 18.11it/s]\n",
      "/Users/aly/Documents/University_of_Waterloo/Winter 2025/Research/code/NFL_env/lib/python3.9/site-packages/sklearn/linear_model/_logistic.py:1196: UserWarning: l1_ratio parameter is only used when penalty is 'elasticnet'. Got (penalty=l1)\n",
      "  warnings.warn(\n"
     ]
    },
    {
     "name": "stdout",
     "output_type": "stream",
     "text": [
      "Timestep 85.50% (Optimized): Training Loss = 0.3228, Accuracy = 0.8583, Test Loss = 0.3492, Test Accuracy = 0.8457\n",
      "Processing timestep: 0.86\n"
     ]
    },
    {
     "name": "stderr",
     "output_type": "stream",
     "text": [
      "Best trial: 49. Best value: 0.350865: 100%|██████████| 50/50 [00:01<00:00, 25.63it/s]\n",
      "/Users/aly/Documents/University_of_Waterloo/Winter 2025/Research/code/NFL_env/lib/python3.9/site-packages/sklearn/linear_model/_logistic.py:1196: UserWarning: l1_ratio parameter is only used when penalty is 'elasticnet'. Got (penalty=l1)\n",
      "  warnings.warn(\n"
     ]
    },
    {
     "name": "stdout",
     "output_type": "stream",
     "text": [
      "Timestep 86.00% (Optimized): Training Loss = 0.3079, Accuracy = 0.8523, Test Loss = 0.3509, Test Accuracy = 0.8318\n",
      "Processing timestep: 0.865\n"
     ]
    },
    {
     "name": "stderr",
     "output_type": "stream",
     "text": [
      "Best trial: 26. Best value: 0.339892: 100%|██████████| 50/50 [00:03<00:00, 15.18it/s]\n",
      "/Users/aly/Documents/University_of_Waterloo/Winter 2025/Research/code/NFL_env/lib/python3.9/site-packages/sklearn/linear_model/_logistic.py:1196: UserWarning: l1_ratio parameter is only used when penalty is 'elasticnet'. Got (penalty=l2)\n",
      "  warnings.warn(\n"
     ]
    },
    {
     "name": "stdout",
     "output_type": "stream",
     "text": [
      "Timestep 86.50% (Optimized): Training Loss = 0.3090, Accuracy = 0.8625, Test Loss = 0.3399, Test Accuracy = 0.8451\n",
      "Processing timestep: 0.87\n"
     ]
    },
    {
     "name": "stderr",
     "output_type": "stream",
     "text": [
      "Best trial: 46. Best value: 0.30956: 100%|██████████| 50/50 [00:04<00:00, 12.44it/s] \n"
     ]
    },
    {
     "name": "stdout",
     "output_type": "stream",
     "text": [
      "Timestep 87.00% (Optimized): Training Loss = 0.3246, Accuracy = 0.8459, Test Loss = 0.3096, Test Accuracy = 0.8543\n",
      "Processing timestep: 0.875\n"
     ]
    },
    {
     "name": "stderr",
     "output_type": "stream",
     "text": [
      "Best trial: 35. Best value: 0.329672: 100%|██████████| 50/50 [00:02<00:00, 24.49it/s]\n",
      "/Users/aly/Documents/University_of_Waterloo/Winter 2025/Research/code/NFL_env/lib/python3.9/site-packages/sklearn/linear_model/_logistic.py:1196: UserWarning: l1_ratio parameter is only used when penalty is 'elasticnet'. Got (penalty=l1)\n",
      "  warnings.warn(\n"
     ]
    },
    {
     "name": "stdout",
     "output_type": "stream",
     "text": [
      "Timestep 87.50% (Optimized): Training Loss = 0.3073, Accuracy = 0.8574, Test Loss = 0.3297, Test Accuracy = 0.8338\n",
      "Processing timestep: 0.88\n"
     ]
    },
    {
     "name": "stderr",
     "output_type": "stream",
     "text": [
      "Best trial: 25. Best value: 0.295865: 100%|██████████| 50/50 [00:02<00:00, 18.18it/s]\n",
      "/Users/aly/Documents/University_of_Waterloo/Winter 2025/Research/code/NFL_env/lib/python3.9/site-packages/sklearn/linear_model/_logistic.py:1196: UserWarning: l1_ratio parameter is only used when penalty is 'elasticnet'. Got (penalty=l1)\n",
      "  warnings.warn(\n"
     ]
    },
    {
     "name": "stdout",
     "output_type": "stream",
     "text": [
      "Timestep 88.00% (Optimized): Training Loss = 0.2992, Accuracy = 0.8603, Test Loss = 0.2959, Test Accuracy = 0.8607\n",
      "Processing timestep: 0.885\n"
     ]
    },
    {
     "name": "stderr",
     "output_type": "stream",
     "text": [
      "Best trial: 41. Best value: 0.320877: 100%|██████████| 50/50 [00:02<00:00, 20.26it/s]\n",
      "/Users/aly/Documents/University_of_Waterloo/Winter 2025/Research/code/NFL_env/lib/python3.9/site-packages/sklearn/linear_model/_logistic.py:1196: UserWarning: l1_ratio parameter is only used when penalty is 'elasticnet'. Got (penalty=l1)\n",
      "  warnings.warn(\n"
     ]
    },
    {
     "name": "stdout",
     "output_type": "stream",
     "text": [
      "Timestep 88.50% (Optimized): Training Loss = 0.3179, Accuracy = 0.8494, Test Loss = 0.3209, Test Accuracy = 0.8400\n",
      "Processing timestep: 0.89\n"
     ]
    },
    {
     "name": "stderr",
     "output_type": "stream",
     "text": [
      "Best trial: 35. Best value: 0.286366: 100%|██████████| 50/50 [00:02<00:00, 17.65it/s]\n",
      "/Users/aly/Documents/University_of_Waterloo/Winter 2025/Research/code/NFL_env/lib/python3.9/site-packages/sklearn/linear_model/_logistic.py:1196: UserWarning: l1_ratio parameter is only used when penalty is 'elasticnet'. Got (penalty=l1)\n",
      "  warnings.warn(\n"
     ]
    },
    {
     "name": "stdout",
     "output_type": "stream",
     "text": [
      "Timestep 89.00% (Optimized): Training Loss = 0.3045, Accuracy = 0.8623, Test Loss = 0.2864, Test Accuracy = 0.8673\n",
      "Processing timestep: 0.895\n"
     ]
    },
    {
     "name": "stderr",
     "output_type": "stream",
     "text": [
      "Best trial: 31. Best value: 0.262897: 100%|██████████| 50/50 [00:01<00:00, 30.37it/s]\n",
      "/Users/aly/Documents/University_of_Waterloo/Winter 2025/Research/code/NFL_env/lib/python3.9/site-packages/sklearn/linear_model/_logistic.py:1196: UserWarning: l1_ratio parameter is only used when penalty is 'elasticnet'. Got (penalty=l1)\n",
      "  warnings.warn(\n"
     ]
    },
    {
     "name": "stdout",
     "output_type": "stream",
     "text": [
      "Timestep 89.50% (Optimized): Training Loss = 0.2710, Accuracy = 0.8824, Test Loss = 0.2629, Test Accuracy = 0.8901\n",
      "Processing timestep: 0.9\n"
     ]
    },
    {
     "name": "stderr",
     "output_type": "stream",
     "text": [
      "Best trial: 24. Best value: 0.252903: 100%|██████████| 50/50 [00:02<00:00, 17.79it/s]\n",
      "/Users/aly/Documents/University_of_Waterloo/Winter 2025/Research/code/NFL_env/lib/python3.9/site-packages/sklearn/linear_model/_logistic.py:1196: UserWarning: l1_ratio parameter is only used when penalty is 'elasticnet'. Got (penalty=l2)\n",
      "  warnings.warn(\n"
     ]
    },
    {
     "name": "stdout",
     "output_type": "stream",
     "text": [
      "Timestep 90.00% (Optimized): Training Loss = 0.3206, Accuracy = 0.8478, Test Loss = 0.2529, Test Accuracy = 0.8832\n",
      "Processing timestep: 0.905\n"
     ]
    },
    {
     "name": "stderr",
     "output_type": "stream",
     "text": [
      "Best trial: 31. Best value: 0.289184: 100%|██████████| 50/50 [00:01<00:00, 27.74it/s]\n",
      "/Users/aly/Documents/University_of_Waterloo/Winter 2025/Research/code/NFL_env/lib/python3.9/site-packages/sklearn/linear_model/_logistic.py:1196: UserWarning: l1_ratio parameter is only used when penalty is 'elasticnet'. Got (penalty=l1)\n",
      "  warnings.warn(\n"
     ]
    },
    {
     "name": "stdout",
     "output_type": "stream",
     "text": [
      "Timestep 90.50% (Optimized): Training Loss = 0.2821, Accuracy = 0.8763, Test Loss = 0.2892, Test Accuracy = 0.8592\n",
      "Processing timestep: 0.91\n"
     ]
    },
    {
     "name": "stderr",
     "output_type": "stream",
     "text": [
      "Best trial: 41. Best value: 0.316184: 100%|██████████| 50/50 [00:02<00:00, 24.17it/s]\n",
      "/Users/aly/Documents/University_of_Waterloo/Winter 2025/Research/code/NFL_env/lib/python3.9/site-packages/sklearn/linear_model/_logistic.py:1196: UserWarning: l1_ratio parameter is only used when penalty is 'elasticnet'. Got (penalty=l1)\n",
      "  warnings.warn(\n"
     ]
    },
    {
     "name": "stdout",
     "output_type": "stream",
     "text": [
      "Timestep 91.00% (Optimized): Training Loss = 0.2949, Accuracy = 0.8728, Test Loss = 0.3162, Test Accuracy = 0.8602\n",
      "Processing timestep: 0.915\n"
     ]
    },
    {
     "name": "stderr",
     "output_type": "stream",
     "text": [
      "Best trial: 35. Best value: 0.242495: 100%|██████████| 50/50 [00:02<00:00, 17.68it/s]\n",
      "/Users/aly/Documents/University_of_Waterloo/Winter 2025/Research/code/NFL_env/lib/python3.9/site-packages/sklearn/linear_model/_logistic.py:1196: UserWarning: l1_ratio parameter is only used when penalty is 'elasticnet'. Got (penalty=l1)\n",
      "  warnings.warn(\n"
     ]
    },
    {
     "name": "stdout",
     "output_type": "stream",
     "text": [
      "Timestep 91.50% (Optimized): Training Loss = 0.2599, Accuracy = 0.8842, Test Loss = 0.2425, Test Accuracy = 0.8874\n",
      "Processing timestep: 0.92\n"
     ]
    },
    {
     "name": "stderr",
     "output_type": "stream",
     "text": [
      "Best trial: 25. Best value: 0.273369: 100%|██████████| 50/50 [00:03<00:00, 16.37it/s]\n",
      "/Users/aly/Documents/University_of_Waterloo/Winter 2025/Research/code/NFL_env/lib/python3.9/site-packages/sklearn/linear_model/_logistic.py:1196: UserWarning: l1_ratio parameter is only used when penalty is 'elasticnet'. Got (penalty=l1)\n",
      "  warnings.warn(\n"
     ]
    },
    {
     "name": "stdout",
     "output_type": "stream",
     "text": [
      "Timestep 92.00% (Optimized): Training Loss = 0.2802, Accuracy = 0.8663, Test Loss = 0.2734, Test Accuracy = 0.8673\n",
      "Processing timestep: 0.925\n"
     ]
    },
    {
     "name": "stderr",
     "output_type": "stream",
     "text": [
      "Best trial: 32. Best value: 0.265095: 100%|██████████| 50/50 [00:02<00:00, 20.05it/s]\n",
      "/Users/aly/Documents/University_of_Waterloo/Winter 2025/Research/code/NFL_env/lib/python3.9/site-packages/sklearn/linear_model/_logistic.py:1196: UserWarning: l1_ratio parameter is only used when penalty is 'elasticnet'. Got (penalty=l1)\n",
      "  warnings.warn(\n"
     ]
    },
    {
     "name": "stdout",
     "output_type": "stream",
     "text": [
      "Timestep 92.50% (Optimized): Training Loss = 0.2683, Accuracy = 0.8757, Test Loss = 0.2651, Test Accuracy = 0.8980\n",
      "Processing timestep: 0.93\n"
     ]
    },
    {
     "name": "stderr",
     "output_type": "stream",
     "text": [
      "Best trial: 36. Best value: 0.265645: 100%|██████████| 50/50 [00:05<00:00,  8.46it/s]\n",
      "/Users/aly/Documents/University_of_Waterloo/Winter 2025/Research/code/NFL_env/lib/python3.9/site-packages/sklearn/linear_model/_logistic.py:1196: UserWarning: l1_ratio parameter is only used when penalty is 'elasticnet'. Got (penalty=l2)\n",
      "  warnings.warn(\n"
     ]
    },
    {
     "name": "stdout",
     "output_type": "stream",
     "text": [
      "Timestep 93.00% (Optimized): Training Loss = 0.2605, Accuracy = 0.8892, Test Loss = 0.2656, Test Accuracy = 0.8958\n",
      "Processing timestep: 0.935\n"
     ]
    },
    {
     "name": "stderr",
     "output_type": "stream",
     "text": [
      "Best trial: 21. Best value: 0.293738: 100%|██████████| 50/50 [00:02<00:00, 23.49it/s]\n",
      "/Users/aly/Documents/University_of_Waterloo/Winter 2025/Research/code/NFL_env/lib/python3.9/site-packages/sklearn/linear_model/_logistic.py:1196: UserWarning: l1_ratio parameter is only used when penalty is 'elasticnet'. Got (penalty=l1)\n",
      "  warnings.warn(\n"
     ]
    },
    {
     "name": "stdout",
     "output_type": "stream",
     "text": [
      "Timestep 93.50% (Optimized): Training Loss = 0.2611, Accuracy = 0.8840, Test Loss = 0.2937, Test Accuracy = 0.8723\n",
      "Processing timestep: 0.94\n"
     ]
    },
    {
     "name": "stderr",
     "output_type": "stream",
     "text": [
      "Best trial: 46. Best value: 0.246144: 100%|██████████| 50/50 [00:02<00:00, 18.11it/s]\n",
      "/Users/aly/Documents/University_of_Waterloo/Winter 2025/Research/code/NFL_env/lib/python3.9/site-packages/sklearn/linear_model/_logistic.py:1196: UserWarning: l1_ratio parameter is only used when penalty is 'elasticnet'. Got (penalty=l2)\n",
      "  warnings.warn(\n"
     ]
    },
    {
     "name": "stdout",
     "output_type": "stream",
     "text": [
      "Timestep 94.00% (Optimized): Training Loss = 0.2418, Accuracy = 0.8921, Test Loss = 0.2461, Test Accuracy = 0.8980\n",
      "Processing timestep: 0.945\n"
     ]
    },
    {
     "name": "stderr",
     "output_type": "stream",
     "text": [
      "Best trial: 15. Best value: 0.275213: 100%|██████████| 50/50 [00:04<00:00, 11.90it/s]\n"
     ]
    },
    {
     "name": "stdout",
     "output_type": "stream",
     "text": [
      "Timestep 94.50% (Optimized): Training Loss = 0.2500, Accuracy = 0.8911, Test Loss = 0.2752, Test Accuracy = 0.8725\n",
      "Processing timestep: 0.95\n"
     ]
    },
    {
     "name": "stderr",
     "output_type": "stream",
     "text": [
      "Best trial: 31. Best value: 0.285565: 100%|██████████| 50/50 [00:03<00:00, 15.11it/s]\n",
      "/Users/aly/Documents/University_of_Waterloo/Winter 2025/Research/code/NFL_env/lib/python3.9/site-packages/sklearn/linear_model/_logistic.py:1196: UserWarning: l1_ratio parameter is only used when penalty is 'elasticnet'. Got (penalty=l1)\n",
      "  warnings.warn(\n"
     ]
    },
    {
     "name": "stdout",
     "output_type": "stream",
     "text": [
      "Timestep 95.00% (Optimized): Training Loss = 0.2661, Accuracy = 0.8787, Test Loss = 0.2856, Test Accuracy = 0.8756\n",
      "Processing timestep: 0.955\n"
     ]
    },
    {
     "name": "stderr",
     "output_type": "stream",
     "text": [
      "Best trial: 49. Best value: 0.276508: 100%|██████████| 50/50 [00:03<00:00, 13.90it/s]\n",
      "/Users/aly/Documents/University_of_Waterloo/Winter 2025/Research/code/NFL_env/lib/python3.9/site-packages/sklearn/linear_model/_logistic.py:1196: UserWarning: l1_ratio parameter is only used when penalty is 'elasticnet'. Got (penalty=l1)\n",
      "  warnings.warn(\n"
     ]
    },
    {
     "name": "stdout",
     "output_type": "stream",
     "text": [
      "Timestep 95.50% (Optimized): Training Loss = 0.2534, Accuracy = 0.8845, Test Loss = 0.2765, Test Accuracy = 0.8598\n",
      "Processing timestep: 0.96\n"
     ]
    },
    {
     "name": "stderr",
     "output_type": "stream",
     "text": [
      "Best trial: 30. Best value: 0.301246: 100%|██████████| 50/50 [00:02<00:00, 19.25it/s]\n",
      "/Users/aly/Documents/University_of_Waterloo/Winter 2025/Research/code/NFL_env/lib/python3.9/site-packages/sklearn/linear_model/_logistic.py:1196: UserWarning: l1_ratio parameter is only used when penalty is 'elasticnet'. Got (penalty=l1)\n",
      "  warnings.warn(\n"
     ]
    },
    {
     "name": "stdout",
     "output_type": "stream",
     "text": [
      "Timestep 96.00% (Optimized): Training Loss = 0.2739, Accuracy = 0.8787, Test Loss = 0.3012, Test Accuracy = 0.8571\n",
      "Processing timestep: 0.965\n"
     ]
    },
    {
     "name": "stderr",
     "output_type": "stream",
     "text": [
      "Best trial: 24. Best value: 0.245776: 100%|██████████| 50/50 [00:02<00:00, 16.93it/s]\n",
      "/Users/aly/Documents/University_of_Waterloo/Winter 2025/Research/code/NFL_env/lib/python3.9/site-packages/sklearn/linear_model/_logistic.py:1196: UserWarning: l1_ratio parameter is only used when penalty is 'elasticnet'. Got (penalty=l1)\n",
      "  warnings.warn(\n"
     ]
    },
    {
     "name": "stdout",
     "output_type": "stream",
     "text": [
      "Timestep 96.50% (Optimized): Training Loss = 0.2534, Accuracy = 0.8808, Test Loss = 0.2458, Test Accuracy = 0.8842\n",
      "Processing timestep: 0.97\n"
     ]
    },
    {
     "name": "stderr",
     "output_type": "stream",
     "text": [
      "Best trial: 40. Best value: 0.26915: 100%|██████████| 50/50 [00:17<00:00,  2.81it/s] \n",
      "/Users/aly/Documents/University_of_Waterloo/Winter 2025/Research/code/NFL_env/lib/python3.9/site-packages/sklearn/linear_model/_logistic.py:1196: UserWarning: l1_ratio parameter is only used when penalty is 'elasticnet'. Got (penalty=l2)\n",
      "  warnings.warn(\n"
     ]
    },
    {
     "name": "stdout",
     "output_type": "stream",
     "text": [
      "Timestep 97.00% (Optimized): Training Loss = 0.2530, Accuracy = 0.8886, Test Loss = 0.2692, Test Accuracy = 0.8667\n",
      "Processing timestep: 0.975\n"
     ]
    },
    {
     "name": "stderr",
     "output_type": "stream",
     "text": [
      "Best trial: 40. Best value: 0.256556: 100%|██████████| 50/50 [00:07<00:00,  7.14it/s]\n",
      "/Users/aly/Documents/University_of_Waterloo/Winter 2025/Research/code/NFL_env/lib/python3.9/site-packages/sklearn/linear_model/_logistic.py:1196: UserWarning: l1_ratio parameter is only used when penalty is 'elasticnet'. Got (penalty=l2)\n",
      "  warnings.warn(\n"
     ]
    },
    {
     "name": "stdout",
     "output_type": "stream",
     "text": [
      "Timestep 97.50% (Optimized): Training Loss = 0.2505, Accuracy = 0.8890, Test Loss = 0.2566, Test Accuracy = 0.8568\n",
      "Processing timestep: 0.98\n"
     ]
    },
    {
     "name": "stderr",
     "output_type": "stream",
     "text": [
      "Best trial: 24. Best value: 0.232563: 100%|██████████| 50/50 [00:03<00:00, 13.19it/s]\n",
      "/Users/aly/Documents/University_of_Waterloo/Winter 2025/Research/code/NFL_env/lib/python3.9/site-packages/sklearn/linear_model/_logistic.py:1196: UserWarning: l1_ratio parameter is only used when penalty is 'elasticnet'. Got (penalty=l1)\n",
      "  warnings.warn(\n"
     ]
    },
    {
     "name": "stdout",
     "output_type": "stream",
     "text": [
      "Timestep 98.00% (Optimized): Training Loss = 0.2234, Accuracy = 0.8990, Test Loss = 0.2326, Test Accuracy = 0.8805\n",
      "Processing timestep: 0.985\n"
     ]
    },
    {
     "name": "stderr",
     "output_type": "stream",
     "text": [
      "Best trial: 31. Best value: 0.223972: 100%|██████████| 50/50 [00:03<00:00, 15.14it/s]\n",
      "/Users/aly/Documents/University_of_Waterloo/Winter 2025/Research/code/NFL_env/lib/python3.9/site-packages/sklearn/linear_model/_logistic.py:1196: UserWarning: l1_ratio parameter is only used when penalty is 'elasticnet'. Got (penalty=l1)\n",
      "  warnings.warn(\n"
     ]
    },
    {
     "name": "stdout",
     "output_type": "stream",
     "text": [
      "Timestep 98.50% (Optimized): Training Loss = 0.2197, Accuracy = 0.9030, Test Loss = 0.2240, Test Accuracy = 0.8947\n",
      "Processing timestep: 0.99\n"
     ]
    },
    {
     "name": "stderr",
     "output_type": "stream",
     "text": [
      "Best trial: 38. Best value: 0.282226: 100%|██████████| 50/50 [00:03<00:00, 13.05it/s]\n",
      "/Users/aly/Documents/University_of_Waterloo/Winter 2025/Research/code/NFL_env/lib/python3.9/site-packages/sklearn/linear_model/_logistic.py:1196: UserWarning: l1_ratio parameter is only used when penalty is 'elasticnet'. Got (penalty=l1)\n",
      "  warnings.warn(\n"
     ]
    },
    {
     "name": "stdout",
     "output_type": "stream",
     "text": [
      "Timestep 99.00% (Optimized): Training Loss = 0.2430, Accuracy = 0.8884, Test Loss = 0.2822, Test Accuracy = 0.8529\n",
      "Processing timestep: 0.995\n"
     ]
    },
    {
     "name": "stderr",
     "output_type": "stream",
     "text": [
      "Best trial: 42. Best value: 0.274628: 100%|██████████| 50/50 [00:04<00:00, 10.39it/s]\n",
      "/Users/aly/Documents/University_of_Waterloo/Winter 2025/Research/code/NFL_env/lib/python3.9/site-packages/sklearn/linear_model/_logistic.py:1196: UserWarning: l1_ratio parameter is only used when penalty is 'elasticnet'. Got (penalty=l1)\n",
      "  warnings.warn(\n"
     ]
    },
    {
     "name": "stdout",
     "output_type": "stream",
     "text": [
      "Timestep 99.50% (Optimized): Training Loss = 0.2400, Accuracy = 0.8970, Test Loss = 0.2746, Test Accuracy = 0.8584\n",
      "Processing timestep: 1.0\n"
     ]
    },
    {
     "name": "stderr",
     "output_type": "stream",
     "text": [
      "Best trial: 24. Best value: 0.139151: 100%|██████████| 50/50 [00:06<00:00,  7.17it/s]"
     ]
    },
    {
     "name": "stdout",
     "output_type": "stream",
     "text": [
      "Timestep 100.00% (Optimized): Training Loss = 0.1728, Accuracy = 0.9319, Test Loss = 0.1392, Test Accuracy = 0.9357\n"
     ]
    },
    {
     "name": "stderr",
     "output_type": "stream",
     "text": [
      "\n",
      "/Users/aly/Documents/University_of_Waterloo/Winter 2025/Research/code/NFL_env/lib/python3.9/site-packages/sklearn/linear_model/_logistic.py:1196: UserWarning: l1_ratio parameter is only used when penalty is 'elasticnet'. Got (penalty=l1)\n",
      "  warnings.warn(\n"
     ]
    }
   ],
   "source": [
    "# Setup model for each timestep\n",
    "from sklearn.linear_model import LogisticRegression\n",
    "from sklearn.pipeline import Pipeline\n",
    "from sklearn.model_selection import train_test_split\n",
    "# create an array of logistic regression models\n",
    "\n",
    "modules_to_reload = [\n",
    "    'models.logistic_regression',\n",
    "    'models.Model'\n",
    "]\n",
    "\n",
    "for module_name in modules_to_reload:\n",
    "    if module_name in sys.modules:\n",
    "        del sys.modules[module_name]\n",
    "from models.Model import Model\n",
    "from models.logistic_regression import setup_logistic_regression_models\n",
    "\n",
    "models = setup_logistic_regression_models(training_data, validation_data, numeric_features, other_features, features, optimize_hyperparams=True, use_calibration=False)\n"
   ]
  },
  {
   "cell_type": "code",
   "execution_count": null,
   "metadata": {},
   "outputs": [
    {
     "name": "stdout",
     "output_type": "stream",
     "text": [
      "Training Loss = 0.4622, Accuracy = 0.7729, Test Loss = 0.4720, Test Accuracy = 0.7605\n"
     ]
    }
   ],
   "source": [
    "def setup_single_model(training_data, test_data):\n",
    "    # Flatten all training data into single arrays\n",
    "    X_train = []\n",
    "    y_train = []\n",
    "    timesteps_train = []\n",
    "    for timestep in training_data:\n",
    "        for row in training_data[timestep]:\n",
    "            X_train.append(row[\"rows\"].reshape(-1))\n",
    "            y_train.append(row[\"label\"])\n",
    "            timesteps_train.append(timestep)\n",
    "    X_train = np.array(X_train)\n",
    "    y_train = np.array(y_train)\n",
    "    timesteps_train = np.array(timesteps_train).reshape(-1, 1)  # Column vector\n",
    "\n",
    "    # Flatten all test data into single arrays\n",
    "    X_test = []\n",
    "    y_test = []\n",
    "    timesteps_test = []\n",
    "    for timestep in test_data:\n",
    "        for row in test_data[timestep]:\n",
    "            X_test.append(row[\"rows\"].reshape(-1))\n",
    "            y_test.append(row[\"label\"])\n",
    "            timesteps_test.append(timestep)\n",
    "    X_test = np.array(X_test)\n",
    "    y_test = np.array(y_test)\n",
    "    timesteps_test = np.array(timesteps_test).reshape(-1, 1)\n",
    "\n",
    "    # # Optionally add timestep as a feature\n",
    "    # X_train = np.hstack([X_train, timesteps_train])\n",
    "    # X_test = np.hstack([X_test, timesteps_test])\n",
    "\n",
    "    model = LogisticRegression(max_iter=1000)\n",
    "    model.fit(X_train, y_train)\n",
    "\n",
    "    y_train_pred = model.predict_proba(X_train)[:, 1]\n",
    "    train_loss = -np.mean(y_train * np.log(y_train_pred + 1e-15) + (1 - y_train) * np.log(1 - y_train_pred + 1e-15))\n",
    "    train_accuracy = model.score(X_train, y_train)\n",
    "\n",
    "    y_test_pred = model.predict_proba(X_test)[:, 1]\n",
    "    test_loss = -np.mean(y_test * np.log(y_test_pred + 1e-15) + (1 - y_test) * np.log(1 - y_test_pred + 1e-15))\n",
    "    test_accuracy = model.score(X_test, y_test)\n",
    "\n",
    "    print(f\"Training Loss = {train_loss:.4f}, Accuracy = {train_accuracy:.4f}, Test Loss = {test_loss:.4f}, Test Accuracy = {test_accuracy:.4f}\")\n",
    "\n",
    "    return model\n",
    "\n",
    "\n",
    "model = setup_single_model(training_data, test_data)"
   ]
  },
  {
   "cell_type": "code",
   "execution_count": null,
   "metadata": {},
   "outputs": [],
   "source": [
    "\n"
   ]
  },
  {
   "cell_type": "code",
   "execution_count": 146,
   "metadata": {},
   "outputs": [
    {
     "data": {
      "image/png": "[encoded data removed]",
      "text/plain": [
       "<Figure size 1000x600 with 1 Axes>"
      ]
     },
     "metadata": {},
     "output_type": "display_data"
    }
   ],
   "source": [
    "# # Test accuracy of model for each timestep on test data and plot\n",
    "# accuracies = []\n",
    "# timesteps = []\n",
    "import process_data\n",
    "modules_to_reload = [\n",
    "    'process_data',\n",
    "]\n",
    "\n",
    "for module_name in modules_to_reload:\n",
    "    if module_name in sys.modules:\n",
    "        del sys.modules[module_name]\n",
    "\n",
    "x = process_data.plot_loss(models, test_data, \"Logistic Regression\")\n",
    "# process_data.plot_accuracy(models, test_data, \"Logistic Regression\")"
   ]
  },
  {
   "cell_type": "code",
   "execution_count": null,
   "metadata": {},
   "outputs": [],
   "source": [
    "# Save the model\n",
    "import pickle\n",
    "filename = 'logistic_regression_model.pickle'\n",
    "pickle.dump(models, open(filename, 'wb'))"
   ]
  },
  {
   "cell_type": "code",
   "execution_count": 144,
   "metadata": {},
   "outputs": [
    {
     "name": "stdout",
     "output_type": "stream",
     "text": [
      "Loading data for 2024\n",
      "Processed file:  game_401671629.csv\n",
      "Processed file:  game_401671601.csv\n",
      "Processed file:  game_401671826.csv\n",
      "Processed file:  game_401671832.csv\n",
      "Processed file:  game_401671749.csv\n",
      "Processed file:  game_401671775.csv\n",
      "Processed file:  game_401671761.csv\n",
      "Processed file:  game_401671760.csv\n",
      "Processed file:  game_401671774.csv\n",
      "Processed file:  game_401671748.csv\n",
      "Processed file:  game_401671833.csv\n",
      "Processed file:  game_401671827.csv\n",
      "Processed file:  game_401671600.csv\n",
      "Processed file:  game_401671628.csv\n",
      "Processed file:  game_401671616.csv\n",
      "Processed file:  game_401671831.csv\n",
      "Processed file:  game_401671825.csv\n",
      "Processed file:  game_401671819.csv\n",
      "Processed file:  game_401671762.csv\n",
      "Processed file:  game_401671776.csv\n",
      "Processed file:  game_401671789.csv\n",
      "Processed file:  game_401671788.csv\n",
      "Processed file:  game_401671777.csv\n",
      "Processed file:  game_401671763.csv\n",
      "Processed file:  game_401671818.csv\n",
      "Processed file:  game_401671824.csv\n",
      "Processed file:  game_401671830.csv\n",
      "Processed file:  game_401671617.csv\n",
      "Processed file:  game_401671808.csv\n",
      "Processed file:  game_401671834.csv\n",
      "Processed file:  game_401671820.csv\n",
      "Processed file:  game_401671767.csv\n",
      "Processed file:  game_401671773.csv\n",
      "Processed file:  game_401671798.csv\n",
      "Processed file:  game_401671799.csv\n",
      "Processed file:  game_401671772.csv\n",
      "Processed file:  game_401671766.csv\n",
      "Processed file:  game_401671821.csv\n",
      "Processed file:  game_401671835.csv\n",
      "Processed file:  game_401671809.csv\n",
      "Processed file:  game_401671638.csv\n",
      "Processed file:  game_401671823.csv\n",
      "Processed file:  game_401671837.csv\n",
      "Processed file:  game_401671599.csv\n",
      "Processed file:  game_401671770.csv\n",
      "Processed file:  game_401671764.csv\n",
      "Processed file:  game_401671758.csv\n",
      "Processed file:  game_401671759.csv\n",
      "Processed file:  game_401671765.csv\n",
      "Processed file:  game_401671771.csv\n",
      "Processed file:  game_401671836.csv\n",
      "Processed file:  game_401671822.csv\n",
      "Processed file:  game_401671639.csv\n",
      "Processed file:  game_401671662.csv\n",
      "Processed file:  game_401671676.csv\n",
      "Processed file:  game_401671845.csv\n",
      "Processed file:  game_401671851.csv\n",
      "Processed file:  game_401671689.csv\n",
      "Processed file:  game_401671716.csv\n",
      "Processed file:  game_401671702.csv\n",
      "Processed file:  game_401671703.csv\n",
      "Processed file:  game_401671717.csv\n",
      "Processed file:  game_401671688.csv\n",
      "Processed file:  game_401671850.csv\n",
      "Processed file:  game_401671844.csv\n",
      "Processed file:  game_401671677.csv\n",
      "Processed file:  game_401671663.csv\n",
      "Processed file:  game_401671649.csv\n",
      "Processed file:  game_401671675.csv\n",
      "Processed file:  game_401671661.csv\n",
      "Processed file:  game_401671852.csv\n",
      "Processed file:  game_401671846.csv\n",
      "Processed file:  game_401671729.csv\n",
      "Processed file:  game_401671701.csv\n",
      "Processed file:  game_401671715.csv\n",
      "Processed file:  game_401671714.csv\n",
      "Processed file:  game_401671700.csv\n",
      "Processed file:  game_401671728.csv\n",
      "Processed file:  game_401671489.csv\n",
      "Processed file:  game_401671847.csv\n",
      "Processed file:  game_401671853.csv\n",
      "Processed file:  game_401671660.csv\n",
      "Processed file:  game_401671674.csv\n",
      "Processed file:  game_401671648.csv\n",
      "Processed file:  game_401671670.csv\n",
      "Processed file:  game_401671664.csv\n",
      "Processed file:  game_401671658.csv\n",
      "Processed file:  game_401671857.csv\n",
      "Processed file:  game_401671843.csv\n",
      "Processed file:  game_401671704.csv\n",
      "Processed file:  game_401671710.csv\n",
      "Processed file:  game_401671738.csv\n",
      "Processed file:  game_401671739.csv\n",
      "Processed file:  game_401671711.csv\n",
      "Processed file:  game_401671705.csv\n",
      "Processed file:  game_401671842.csv\n",
      "Processed file:  game_401671856.csv\n",
      "Processed file:  game_401671659.csv\n",
      "Processed file:  game_401671665.csv\n",
      "Processed file:  game_401671671.csv\n",
      "Processed file:  game_401671667.csv\n",
      "Processed file:  game_401671673.csv\n",
      "Processed file:  game_401671868.csv\n",
      "Processed file:  game_401671840.csv\n",
      "Processed file:  game_401671698.csv\n",
      "Processed file:  game_401671854.csv\n",
      "Processed file:  game_401671713.csv\n",
      "Processed file:  game_401671707.csv\n",
      "Processed file:  game_401671706.csv\n",
      "Processed file:  game_401671712.csv\n",
      "Processed file:  game_401671855.csv\n",
      "Processed file:  game_401671699.csv\n",
      "Processed file:  game_401671841.csv\n",
      "Processed file:  game_401671869.csv\n",
      "Processed file:  game_401671672.csv\n",
      "Processed file:  game_401671666.csv\n",
      "Processed file:  game_401671643.csv\n",
      "Processed file:  game_401671657.csv\n",
      "Processed file:  game_401671864.csv\n",
      "Processed file:  game_401671870.csv\n",
      "Processed file:  game_401671858.csv\n",
      "Processed file:  game_401671680.csv\n",
      "Processed file:  game_401671694.csv\n",
      "Processed file:  game_401671737.csv\n",
      "Processed file:  game_401671723.csv\n",
      "Processed file:  game_401671722.csv\n",
      "Processed file:  game_401671736.csv\n",
      "Processed file:  game_401671695.csv\n",
      "Processed file:  game_401671681.csv\n",
      "Processed file:  game_401671859.csv\n",
      "Processed file:  game_401671871.csv\n",
      "Processed file:  game_401671865.csv\n",
      "Processed file:  game_401671656.csv\n",
      "Processed file:  game_401671642.csv\n",
      "Processed file:  game_401671668.csv\n",
      "Processed file:  game_401671654.csv\n",
      "Processed file:  game_401671640.csv\n",
      "Processed file:  game_401671873.csv\n",
      "Processed file:  game_401671867.csv\n",
      "Processed file:  game_401671697.csv\n",
      "Processed file:  game_401671683.csv\n",
      "Processed file:  game_401671495.csv\n",
      "Processed file:  game_401671708.csv\n",
      "Processed file:  game_401671720.csv\n",
      "Processed file:  game_401671734.csv\n",
      "Processed file:  game_401671735.csv\n",
      "Processed file:  game_401671721.csv\n",
      "Processed file:  game_401671709.csv\n",
      "Processed file:  game_401671494.csv\n",
      "Processed file:  game_401671682.csv\n",
      "Processed file:  game_401671696.csv\n",
      "Processed file:  game_401671866.csv\n",
      "Processed file:  game_401671872.csv\n",
      "Processed file:  game_401671641.csv\n",
      "Processed file:  game_401671655.csv\n",
      "Processed file:  game_401671669.csv\n",
      "Processed file:  game_401671651.csv\n",
      "Processed file:  game_401671645.csv\n",
      "Processed file:  game_401671679.csv\n",
      "Processed file:  game_401671692.csv\n",
      "Processed file:  game_401671686.csv\n",
      "Processed file:  game_401671876.csv\n",
      "Processed file:  game_401671862.csv\n",
      "Processed file:  game_401671490.csv\n",
      "Processed file:  game_401671725.csv\n",
      "Processed file:  game_401671731.csv\n",
      "Processed file:  game_401671719.csv\n",
      "Processed file:  game_401671718.csv\n",
      "Processed file:  game_401671730.csv\n",
      "Processed file:  game_401671724.csv\n",
      "Processed file:  game_401671491.csv\n",
      "Processed file:  game_401671863.csv\n",
      "Processed file:  game_401671877.csv\n",
      "Processed file:  game_401671687.csv\n",
      "Processed file:  game_401671693.csv\n",
      "Processed file:  game_401671678.csv\n",
      "Processed file:  game_401671644.csv\n",
      "Processed file:  game_401671650.csv\n",
      "Processed file:  game_401671646.csv\n",
      "Processed file:  game_401671652.csv\n",
      "Processed file:  game_401671685.csv\n",
      "Processed file:  game_401671849.csv\n",
      "Processed file:  game_401671691.csv\n",
      "Processed file:  game_401671861.csv\n",
      "Processed file:  game_401671875.csv\n",
      "Processed file:  game_401671493.csv\n",
      "Processed file:  game_401671732.csv\n",
      "Processed file:  game_401671726.csv\n",
      "Processed file:  game_401671727.csv\n",
      "Processed file:  game_401671733.csv\n",
      "Processed file:  game_401671492.csv\n",
      "Processed file:  game_401671874.csv\n",
      "Processed file:  game_401671860.csv\n",
      "Processed file:  game_401671690.csv\n",
      "Processed file:  game_401671848.csv\n",
      "Processed file:  game_401671684.csv\n",
      "Processed file:  game_401671653.csv\n",
      "Processed file:  game_401671647.csv\n",
      "Processed file:  game_401671620.csv\n",
      "Processed file:  game_401671634.csv\n",
      "Processed file:  game_401671807.csv\n",
      "Processed file:  game_401671813.csv\n",
      "Processed file:  game_401671768.csv\n",
      "Processed file:  game_401671754.csv\n",
      "Processed file:  game_401671740.csv\n",
      "Processed file:  game_401671797.csv\n",
      "Processed file:  game_401671783.csv\n",
      "Processed file:  game_401671782.csv\n",
      "Processed file:  game_401671796.csv\n",
      "Processed file:  game_401671741.csv\n",
      "Processed file:  game_401671755.csv\n",
      "Processed file:  game_401671769.csv\n",
      "Processed file:  game_401671812.csv\n",
      "Processed file:  game_401671806.csv\n",
      "Processed file:  game_401671635.csv\n",
      "Processed file:  game_401671621.csv\n",
      "Processed file:  game_401671637.csv\n",
      "Processed file:  game_401671623.csv\n",
      "Processed file:  game_401671810.csv\n",
      "Processed file:  game_401671804.csv\n",
      "Processed file:  game_401671838.csv\n",
      "Processed file:  game_401671743.csv\n",
      "Processed file:  game_401671757.csv\n",
      "Processed file:  game_401671780.csv\n",
      "Processed file:  game_401671794.csv\n",
      "Processed file:  game_401671795.csv\n",
      "Processed file:  game_401671781.csv\n",
      "Processed file:  game_401671756.csv\n",
      "Processed file:  game_401671742.csv\n",
      "Processed file:  game_401671839.csv\n",
      "Processed file:  game_401671805.csv\n",
      "Processed file:  game_401671811.csv\n",
      "Processed file:  game_401671622.csv\n",
      "Processed file:  game_401671636.csv\n",
      "Processed file:  game_401671632.csv\n",
      "Processed file:  game_401671626.csv\n",
      "Processed file:  game_401671829.csv\n",
      "Processed file:  game_401671815.csv\n",
      "Processed file:  game_401671801.csv\n",
      "Processed file:  game_401671746.csv\n",
      "Processed file:  game_401671752.csv\n",
      "Processed file:  game_401671785.csv\n",
      "Processed file:  game_401671791.csv\n",
      "Processed file:  game_401671790.csv\n",
      "Processed file:  game_401671784.csv\n",
      "Processed file:  game_401671753.csv\n",
      "Processed file:  game_401671747.csv\n",
      "Processed file:  game_401671800.csv\n",
      "Processed file:  game_401671814.csv\n",
      "Processed file:  game_401671828.csv\n",
      "Processed file:  game_401671627.csv\n",
      "Processed file:  game_401671633.csv\n",
      "Processed file:  game_401671625.csv\n",
      "Processed file:  game_401671631.csv\n",
      "Processed file:  game_401671619.csv\n",
      "Processed file:  game_401671802.csv\n",
      "Processed file:  game_401671816.csv\n",
      "Processed file:  game_401671751.csv\n",
      "Processed file:  game_401671745.csv\n",
      "Processed file:  game_401671779.csv\n",
      "Processed file:  game_401671792.csv\n",
      "Processed file:  game_401671786.csv\n",
      "Processed file:  game_401671787.csv\n",
      "Processed file:  game_401671793.csv\n",
      "Processed file:  game_401671778.csv\n",
      "Processed file:  game_401671744.csv\n",
      "Processed file:  game_401671750.csv\n",
      "Processed file:  game_401671817.csv\n",
      "Processed file:  game_401671803.csv\n",
      "Processed file:  game_401671618.csv\n",
      "Processed file:  game_401671630.csv\n",
      "Processed file:  game_401671624.csv\n"
     ]
    }
   ],
   "source": [
    "from process_data import write_predictions\n",
    "\n",
    "write_predictions(models, interpolated_dir, [2024], 0, features, replace_nan_val = 0, phat_b = \"LR_phat_b_model\")"
   ]
  },
  {
   "cell_type": "markdown",
   "metadata": {},
   "source": [
    "# For Debugging Purposes"
   ]
  },
  {
   "cell_type": "code",
   "execution_count": null,
   "metadata": {},
   "outputs": [],
   "source": [
    "\n"
   ]
  },
  {
   "cell_type": "code",
   "execution_count": null,
   "metadata": {},
   "outputs": [],
   "source": []
  }
 ],
 "metadata": {
  "kernelspec": {
   "display_name": "NFL_env",
   "language": "python",
   "name": "python3"
  },
  "language_info": {
   "codemirror_mode": {
    "name": "ipython",
    "version": 3
   },
   "file_extension": ".py",
   "mimetype": "text/x-python",
   "name": "python",
   "nbconvert_exporter": "python",
   "pygments_lexer": "ipython3",
   "version": "3.9.13"
  }
 },
 "nbformat": 4,
 "nbformat_minor": 2
}
