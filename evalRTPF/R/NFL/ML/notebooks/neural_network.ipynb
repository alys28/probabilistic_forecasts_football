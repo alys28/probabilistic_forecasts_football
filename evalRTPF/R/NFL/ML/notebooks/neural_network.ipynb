{
 "cells": [
  {
   "cell_type": "code",
   "execution_count": 1,
   "metadata": {},
   "outputs": [],
   "source": [
    "import process_data\n",
    "from NFL_eval import NFLMultipleModelsEval\n",
    "import numpy as np\n",
    "import matplotlib.pyplot as plt\n",
    "import pandas as pd\n",
    "import torch\n",
    "import sys\n",
    "import os"
   ]
  },
  {
   "cell_type": "code",
   "execution_count": 2,
   "metadata": {},
   "outputs": [],
   "source": [
    "parent_dir = os.path.abspath(os.path.join(os.getcwd(), \"..\"))\n",
    "sys.path.append(parent_dir)"
   ]
  },
  {
   "cell_type": "code",
   "execution_count": 9,
   "metadata": {},
   "outputs": [],
   "source": [
    "interpolated_dir = os.path.join(parent_dir, \"dataset_interpolated\")"
   ]
  },
  {
   "cell_type": "code",
   "execution_count": 10,
   "metadata": {},
   "outputs": [],
   "source": [
    "features = [\"home_win\", \"relative_strength\", \"homeScore\", \"awayScore\", \"scoringPlay\", \"start.down\", \"start.distance\", \"start.yardLine\", \"end.down\", \"end.distance\", \"end.yardLine\"]\n",
    "eval = NFLMultipleModelsEval(interpolated_dir, features)"
   ]
  },
  {
   "cell_type": "code",
   "execution_count": 11,
   "metadata": {},
   "outputs": [
    {
     "name": "stdout",
     "output_type": "stream",
     "text": [
      "Loading data for 2022\n",
      "Loading data for 2024\n",
      "skipping  2024\n",
      "Loading data for 2023\n",
      "skipping  2023\n",
      "Loading data for .DS_Store\n",
      "Loading data for 2019\n",
      "Loading data for 2021\n",
      "Loading data for 2020\n",
      "Loading data for 2018\n",
      "Done processing\n"
     ]
    }
   ],
   "source": [
    "eval.process([2023, 2024])"
   ]
  }
 ],
 "metadata": {
  "kernelspec": {
   "display_name": "Python evalRTPF",
   "language": "python",
   "name": "evalrtpfenv"
  },
  "language_info": {
   "codemirror_mode": {
    "name": "ipython",
    "version": 3
   },
   "file_extension": ".py",
   "mimetype": "text/x-python",
   "name": "python",
   "nbconvert_exporter": "python",
   "pygments_lexer": "ipython3",
   "version": "3.9.13"
  }
 },
 "nbformat": 4,
 "nbformat_minor": 2
}
