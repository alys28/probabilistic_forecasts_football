{
 "cells": [
  {
   "cell_type": "code",
   "execution_count": 1,
   "metadata": {},
   "outputs": [],
   "source": [
    "import process_data\n",
    "from NFL_eval import NFLMultipleModelsEval\n",
    "import numpy as np\n",
    "import matplotlib.pyplot as plt\n",
    "import pandas as pd\n",
    "import torch\n",
    "import sys\n",
    "import os"
   ]
  },
  {
   "cell_type": "code",
   "execution_count": 2,
   "metadata": {},
   "outputs": [],
   "source": [
    "parent_dir = os.path.abspath(os.path.join(os.getcwd(), \"..\"))\n",
    "sys.path.append(parent_dir)"
   ]
  },
  {
   "cell_type": "code",
   "execution_count": 9,
   "metadata": {},
   "outputs": [],
   "source": [
    "interpolated_dir = os.path.join(parent_dir, \"dataset_interpolated\")"
   ]
  },
  {
   "cell_type": "code",
   "execution_count": 10,
   "metadata": {},
   "outputs": [],
   "source": [
    "features = [\"home_win\", \"relative_strength\", \"homeScore\", \"awayScore\", \"scoringPlay\", \"start.down\", \"start.distance\", \"start.yardLine\", \"end.down\", \"end.distance\", \"end.yardLine\"]\n",
    "eval = NFLMultipleModelsEval(interpolated_dir, features)"
   ]
  },
  {
   "cell_type": "code",
   "execution_count": 11,
   "metadata": {},
   "outputs": [
    {
     "name": "stdout",
     "output_type": "stream",
     "text": [
      "Loading data for 2022\n",
      "Loading data for 2024\n",
      "skipping  2024\n",
      "Loading data for 2023\n",
      "skipping  2023\n",
      "Loading data for .DS_Store\n",
      "Loading data for 2019\n",
      "Loading data for 2021\n",
      "Loading data for 2020\n",
      "Loading data for 2018\n",
      "Done processing\n"
     ]
    }
   ],
   "source": [
    "eval.process([2023, 2024])"
   ]
  },
  {
   "cell_type": "code",
   "execution_count": null,
   "metadata": {},
   "outputs": [],
   "source": [
    "import torch.nn as nn\n",
    "import torch.nn.functional as F\n",
    "\n",
    "# Define the feedforward neural network\n",
    "class NN(nn.Module):\n",
    "    def __init__(self, input_size=11, hidden_sizes=[64, 32], output_size=2):\n",
    "        super(NN, self).__init__()\n",
    "        self.fc1 = nn.Linear(input_size, hidden_sizes[0])\n",
    "        self.fc2 = nn.Linear(hidden_sizes[0], hidden_sizes[1])\n",
    "        self.output = nn.Linear(hidden_sizes[1], output_size)\n",
    "\n",
    "    def forward(self, x):\n",
    "        x = F.relu(self.fc1(x))\n",
    "        x = F.relu(self.fc2(x))\n",
    "        return self.output(x)  # no sigmoid or softmax here"
   ]
  },
  {
   "cell_type": "code",
   "execution_count": 14,
   "metadata": {},
   "outputs": [],
   "source": [
    "class NNModel:\n",
    "    def __init__(self, input_size=11, hidden_sizes=[64, 32], output_size=1):\n",
    "        self.model = NN(input_size, hidden_sizes, output_size)\n",
    "        self.criterion = nn.BCELoss()\n",
    "        self.optimizer = torch.optim.Adam(self.model.parameters(), lr=0.001)\n",
    "\n",
    "    def fit(self, X, y, epochs=40):\n",
    "        for _ in range(epochs):\n",
    "            self.optimizer.zero_grad()\n",
    "            output = self.model(X)\n",
    "            loss = self.criterion(output, y)\n",
    "            loss.backward()\n",
    "            self.optimizer.step()\n",
    "    def score(self, X_test, y_test):\n",
    "        self.model.eval()\n",
    "        with torch.no_grad():\n",
    "            logits = self.model(X_test)               # [N, 2]\n",
    "            probs = F.softmax(logits, dim=1)     # [N, 2]\n",
    "            y_pred = probs[:, 1]                 # Probabilities for class 1\n",
    "            ss_res = torch.sum((y_test - y_pred) ** 2)\n",
    "            ss_tot = torch.sum((y_test - torch.mean(y_test)) ** 2)\n",
    "            r2 = 1 - ss_res / ss_tot\n",
    "            return r2.item()\n",
    "    def predict_proba(self, X):\n",
    "        return self.model(X)\n"
   ]
  }
 ],
 "metadata": {
  "kernelspec": {
   "display_name": "Python evalRTPF",
   "language": "python",
   "name": "evalrtpfenv"
  },
  "language_info": {
   "codemirror_mode": {
    "name": "ipython",
    "version": 3
   },
   "file_extension": ".py",
   "mimetype": "text/x-python",
   "name": "python",
   "nbconvert_exporter": "python",
   "pygments_lexer": "ipython3",
   "version": "3.9.13"
  }
 },
 "nbformat": 4,
 "nbformat_minor": 2
}
