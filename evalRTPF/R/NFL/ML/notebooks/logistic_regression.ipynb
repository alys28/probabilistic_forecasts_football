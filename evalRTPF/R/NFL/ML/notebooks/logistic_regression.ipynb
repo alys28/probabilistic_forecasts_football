{
 "cells": [
  {
   "cell_type": "code",
   "execution_count": 6,
   "metadata": {},
   "outputs": [],
   "source": [
    "import pandas as pd\n",
    "import numpy as np\n",
    "import matplotlib.pyplot as plt\n",
    "import sys\n",
    "import os"
   ]
  },
  {
   "cell_type": "code",
   "execution_count": null,
   "metadata": {},
   "outputs": [],
   "source": [
    "parent_dir = os.path.abspath(os.path.join(os.getcwd(), \"..\"))\n",
    "sys.path.append(parent_dir)"
   ]
  },
  {
   "cell_type": "code",
   "execution_count": 45,
   "metadata": {},
   "outputs": [],
   "source": [
    "# Load the data\n",
    "interpolated_dir = os.path.join(parent_dir, \"dataset_interpolated\")\n",
    "def load_data(interpolated_dir):\n",
    "    data = {}\n",
    "    for folder in os.listdir(interpolated_dir):\n",
    "        if folder != \"2019\":\n",
    "            continue\n",
    "        folder_path = os.path.join(interpolated_dir, folder)\n",
    "        if os.path.isdir(folder_path):\n",
    "            for file in os.listdir(folder_path):\n",
    "                if file.endswith(\".csv\"):\n",
    "                    file_path = os.path.join(folder_path, file)\n",
    "                    df = pd.read_csv(file_path)\n",
    "                    for _, row in df.iloc[1:].iterrows():\n",
    "                        row[\"relative_strength\"] = df.iloc[0][\"homeWinProbability\"]\n",
    "                        row[\"away_team_id\"] = df.iloc[0][\"away_team_id\"]\n",
    "                        row[\"home_team_id\"] = df.iloc[0][\"home_team_id\"]\n",
    "                        row[\"home_win\"] = df.iloc[0][\"home_win\"]\n",
    "                        if row[\"timestep\"] not in data:\n",
    "                            data[row[\"timestep\"]] = [row] \n",
    "                        else:\n",
    "                            data[row[\"timestep\"]] += [row]\n",
    "    return data\n",
    "\n",
    "data = load_data(interpolated_dir)"
   ]
  },
  {
   "cell_type": "code",
   "execution_count": 52,
   "metadata": {},
   "outputs": [],
   "source": [
    "# Feature Selection\n",
    "def feature_selection(data, features):\n",
    "    # Given the features of the data, return data such that each row is an array of the values of the features\n",
    "    # The data is a dictionary where the key is the timestep and the value is a list of rows\n",
    "    feature_data = {}\n",
    "    for timestep in data:\n",
    "        feature_data[timestep] = []\n",
    "        for row in data[timestep]:\n",
    "            feature_data[timestep] += [[float(row[feature]) for feature in features]]\n",
    "    return feature_data\n",
    "\n",
    "features = [\"home_win\", \"relative_strength\", \"homeScore\", \"awayScore\", \"scoringPlay\", \"start.down\", \"start.distance\", \"start.yardLine\", \"end.down\", \"end.distance\", \"end.yardLine\"]\n",
    "features_data = feature_selection(data, features)"
   ]
  },
  {
   "cell_type": "code",
   "execution_count": null,
   "metadata": {},
   "outputs": [],
   "source": [
    "# Setup model for each timestep\n",
    "from sklearn.linear_model import LogisticRegression\n",
    "from sklearn.model_selection import train_test_split\n",
    "from sklearn.metrics import accuracy_score"
   ]
  },
  {
   "cell_type": "code",
   "execution_count": null,
   "metadata": {},
   "outputs": [],
   "source": []
  }
 ],
 "metadata": {
  "kernelspec": {
   "display_name": "Python evalRTPF",
   "language": "python",
   "name": "evalrtpfenv"
  },
  "language_info": {
   "codemirror_mode": {
    "name": "ipython",
    "version": 3
   },
   "file_extension": ".py",
   "mimetype": "text/x-python",
   "name": "python",
   "nbconvert_exporter": "python",
   "pygments_lexer": "ipython3",
   "version": "3.9.13"
  }
 },
 "nbformat": 4,
 "nbformat_minor": 2
}
